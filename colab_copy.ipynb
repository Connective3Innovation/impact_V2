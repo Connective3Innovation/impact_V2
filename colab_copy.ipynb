{
 "cells": [
  {
   "cell_type": "markdown",
   "id": "df95f882",
   "metadata": {},
   "source": [
    "# Install meridian: from PyPI @ latest release\n",
    "!pip install --upgrade google-meridian[colab,and-cuda]\n",
    "\n",
    "# Install meridian: from PyPI @ specific version\n",
    "# !pip install google-meridian[colab,and-cuda]==1.0.3\n",
    "\n",
    "# Install meridian: from GitHub @HEAD\n",
    "# !pip install --upgrade \"google-meridian[colab,and-cuda] @ git+https://github.com/google/meridian.git\""
   ]
  },
  {
   "cell_type": "code",
   "execution_count": 1,
   "id": "10aa7096",
   "metadata": {},
   "outputs": [
    {
     "name": "stdout",
     "output_type": "stream",
     "text": [
      "WARNING:tensorflow:From c:\\Users\\GagandeepBajwa\\Documents\\impact_V2\\venv\\Lib\\site-packages\\tf_keras\\src\\losses.py:2976: The name tf.losses.sparse_softmax_cross_entropy is deprecated. Please use tf.compat.v1.losses.sparse_softmax_cross_entropy instead.\n",
      "\n",
      "WARNING:tensorflow:From c:\\Users\\GagandeepBajwa\\Documents\\impact_V2\\venv\\Lib\\site-packages\\tensorflow_probability\\python\\internal\\backend\\numpy\\_utils.py:48: The name tf.logging.TaskLevelStatusMessage is deprecated. Please use tf.compat.v1.logging.TaskLevelStatusMessage instead.\n",
      "\n",
      "WARNING:tensorflow:From c:\\Users\\GagandeepBajwa\\Documents\\impact_V2\\venv\\Lib\\site-packages\\tensorflow_probability\\python\\internal\\backend\\numpy\\_utils.py:48: The name tf.control_flow_v2_enabled is deprecated. Please use tf.compat.v1.control_flow_v2_enabled instead.\n",
      "\n",
      "Your runtime has 16.6 gigabytes of available RAM\n",
      "\n",
      "Num GPUs Available:  0\n",
      "Num CPUs Available:  1\n"
     ]
    }
   ],
   "source": [
    "import numpy as np\n",
    "import pandas as pd\n",
    "import tensorflow as tf\n",
    "import tensorflow_probability as tfp\n",
    "import arviz as az\n",
    "\n",
    "import IPython\n",
    "\n",
    "from meridian import constants\n",
    "from meridian.data import load\n",
    "from meridian.data import test_utils\n",
    "from meridian.model import model\n",
    "from meridian.model import spec\n",
    "from meridian.model import prior_distribution\n",
    "from meridian.analysis import optimizer#\n",
    "from meridian.analysis import analyzer\n",
    "from meridian.analysis import visualizer\n",
    "from meridian.analysis import summarizer\n",
    "from meridian.analysis import formatter\n",
    "\n",
    "# check if GPU is available\n",
    "from psutil import virtual_memory\n",
    "ram_gb = virtual_memory().total / 1e9\n",
    "print('Your runtime has {:.1f} gigabytes of available RAM\\n'.format(ram_gb))\n",
    "print(\"Num GPUs Available: \", len(tf.config.experimental.list_physical_devices('GPU')))\n",
    "print(\"Num CPUs Available: \", len(tf.config.experimental.list_physical_devices('CPU')))"
   ]
  },
  {
   "cell_type": "code",
   "execution_count": 2,
   "id": "e85efdf7",
   "metadata": {},
   "outputs": [
    {
     "name": "stderr",
     "output_type": "stream",
     "text": [
      "c:\\Users\\GagandeepBajwa\\Documents\\impact_V2\\venv\\Lib\\site-packages\\meridian\\data\\load.py:1023: FutureWarning: Downcasting behavior in `replace` is deprecated and will be removed in a future version. To retain the old behavior, explicitly call `result.infer_objects(copy=False)`. To opt-in to the future behavior, set `pd.set_option('future.no_silent_downcasting', True)`\n",
      "  self.df[geo_column_name] = self.df[geo_column_name].replace(\n",
      "c:\\Users\\GagandeepBajwa\\Documents\\impact_V2\\venv\\Lib\\site-packages\\meridian\\data\\load.py:201: FutureWarning: The return type of `Dataset.dims` will be changed to return a set of dimension names in future, in order to be more consistent with `DataArray.dims`. To access a mapping from dimension names to lengths, please use `Dataset.sizes`.\n",
      "  if (constants.GEO) not in self.dataset.dims.keys():\n",
      "c:\\Users\\GagandeepBajwa\\Documents\\impact_V2\\venv\\Lib\\site-packages\\meridian\\data\\load.py:206: UserWarning: The `population` argument is ignored in a nationally aggregated model. It will be reset to [1]\n",
      "  warnings.warn(\n",
      "c:\\Users\\GagandeepBajwa\\Documents\\impact_V2\\venv\\Lib\\site-packages\\meridian\\data\\load.py:231: FutureWarning: The return type of `Dataset.dims` will be changed to return a set of dimension names in future, in order to be more consistent with `DataArray.dims`. To access a mapping from dimension names to lengths, please use `Dataset.sizes`.\n",
      "  if constants.MEDIA_TIME not in self.dataset.dims.keys():\n",
      "c:\\Users\\GagandeepBajwa\\Documents\\impact_V2\\venv\\Lib\\site-packages\\meridian\\data\\input_data.py:385: UserWarning: Revenue from the `kpi` data is used when `kpi_type`=`revenue`. `revenue_per_kpi` is ignored.\n",
      "  warnings.warn(\n"
     ]
    }
   ],
   "source": [
    "\n",
    "import io\n",
    "import requests\n",
    "\n",
    "\n",
    "coord_to_columns = load.CoordToColumns(\n",
    "    time='Date',\n",
    "    #geo='geo',\n",
    "    controls=['seasonality_sin' ,'seasonality_cos','is_holiday_week','Organic_impressions'],\n",
    "    #population='population',\n",
    "    kpi='total_revenue',\n",
    "    #revenue_per_kpi='revenue_per_conversion',\n",
    "    media=[\n",
    "        'facebook_impressions',\n",
    "        'bing_impressions',\n",
    "        'google_impressions',\n",
    "        'tiktok_impressions',\n",
    "        'pinterest_impressions',\n",
    "    ],\n",
    "    media_spend=[\n",
    "       'bing_spend',\n",
    "      'pinterest_spend',\n",
    "      'facebook_spend',\n",
    "      'google_spend',\n",
    "      'tiktok_spend',\n",
    "    ],\n",
    "   # organic_media=['Organic_impressions'],\n",
    "    #non_media_treatments=['Promo'],\n",
    ")\n",
    "\n",
    "correct_media_to_channel = {\n",
    "    'facebook_impressions': 'Facebook',\n",
    "    'bing_impressions': 'Bing',\n",
    "    'google_impressions': 'Google',\n",
    "    'tiktok_impressions': 'Tiktok',\n",
    "    'pinterest_impressions': 'Pinterest',\n",
    "}\n",
    "correct_media_spend_to_channel = {\n",
    "    'bing_spend': 'Bing',\n",
    "    'pinterest_spend': 'Pinterest',\n",
    "    'facebook_spend': 'Facebook',\n",
    "    'google_spend': 'Google',\n",
    "    'tiktok_spend': 'Tiktok'\n",
    "}\n",
    "# Download the CSV data\n",
    "url = 'https://raw.githubusercontent.com/Connective3Innovation/impact_V2/main/Data/charles%26ivy_apr2023_apr_2025_cleaned_v1.csv' # Updated to raw content URL\n",
    "response = requests.get(url)\n",
    "response.raise_for_status() # Raise HTTPError for bad responses (4xx or 5xx)\n",
    "csv_data = response.content.decode('utf-8') # Assuming UTF-8 encoding\n",
    "\n",
    "# Load into pandas DataFrame\n",
    "df = pd.read_csv(io.StringIO(csv_data), sep=',') # Explicitly setting separator and skipping bad lines\n",
    "\n",
    "loader = load.DataFrameDataLoader(\n",
    "    #csv_path='https://github.com/Connective3Innovation/impact_V2/blob/main/Data/charles%26ivy_apr2023_apr_2025_cleaned.csv',\n",
    "    df=df, # Pass the DataFrame directly\n",
    "    kpi_type='revenue',\n",
    "    coord_to_columns=coord_to_columns,\n",
    "    media_to_channel=correct_media_to_channel,\n",
    "    media_spend_to_channel=correct_media_spend_to_channel,\n",
    ")\n",
    "data = loader.load()"
   ]
  },
  {
   "cell_type": "code",
   "execution_count": 3,
   "id": "155db652",
   "metadata": {},
   "outputs": [
    {
     "name": "stderr",
     "output_type": "stream",
     "text": [
      "c:\\Users\\GagandeepBajwa\\Documents\\impact_V2\\venv\\Lib\\site-packages\\meridian\\model\\model.py:64: UserWarning: In a nationally aggregated model, the `media_effects_dist` will be reset to `normal`.\n",
      "  warnings.warn(\n"
     ]
    }
   ],
   "source": [
    "roi_mu = 0.2     # Mu for ROI prior for each media channel.\n",
    "roi_sigma = 0.9  # Sigma for ROI prior for each media channel.\n",
    "prior = prior_distribution.PriorDistribution(\n",
    "    roi_m=tfp.distributions.LogNormal(roi_mu, roi_sigma, name=constants.ROI_M)\n",
    ")\n",
    "model_spec = spec.ModelSpec(prior=prior)\n",
    "\n",
    "mmm = model.Meridian(input_data=data, model_spec=model_spec)"
   ]
  },
  {
   "cell_type": "code",
   "execution_count": 4,
   "id": "4ce8ed6a",
   "metadata": {},
   "outputs": [
    {
     "data": {
      "text/plain": [
       "Date                        2024-11-25\n",
       "facebook_impressions           1820099\n",
       "bing_impressions                 91637\n",
       "google_impressions             3268585\n",
       "tiktok_impressions             95397.0\n",
       "pinterest_impressions           119031\n",
       "bing_spend                 1913.109997\n",
       "pinterest_spend            1057.043594\n",
       "facebook_spend            23655.069995\n",
       "google_spend              41471.219546\n",
       "tiktok_spend                570.849999\n",
       "total_revenue              444492.5741\n",
       "total_conversions              8303.12\n",
       "facebook_revenue         147751.099998\n",
       "tiktok_revenue                  6703.0\n",
       "pinterest_revenue             17649.35\n",
       "Organic_impressions           148874.0\n",
       "bing_revenue                  43815.59\n",
       "google_revenue           228573.534075\n",
       "week_of_year                        48\n",
       "seasonality_sin              -0.464723\n",
       "seasonality_cos               0.885456\n",
       "is_holiday_week                      0\n",
       "geo                       national_geo\n",
       "population                         1.0\n",
       "Name: 87, dtype: object"
      ]
     },
     "execution_count": 4,
     "metadata": {},
     "output_type": "execute_result"
    }
   ],
   "source": [
    "df.loc[df['total_revenue'].idxmax()]"
   ]
  },
  {
   "cell_type": "code",
   "execution_count": 5,
   "id": "7c9ac4dd",
   "metadata": {},
   "outputs": [
    {
     "name": "stderr",
     "output_type": "stream",
     "text": [
      "c:\\Users\\GagandeepBajwa\\Documents\\impact_V2\\venv\\Lib\\site-packages\\meridian\\model\\prior_distribution.py:852: UserWarning: Hierarchical distribution parameters must be deterministically zero for national models. tau_g_excl_baseline has been automatically set to Deterministic(0).\n",
      "  warnings.warn(\n",
      "c:\\Users\\GagandeepBajwa\\Documents\\impact_V2\\venv\\Lib\\site-packages\\meridian\\model\\prior_distribution.py:852: UserWarning: Hierarchical distribution parameters must be deterministically zero for national models. eta_m has been automatically set to Deterministic(0).\n",
      "  warnings.warn(\n",
      "c:\\Users\\GagandeepBajwa\\Documents\\impact_V2\\venv\\Lib\\site-packages\\meridian\\model\\prior_distribution.py:852: UserWarning: Hierarchical distribution parameters must be deterministically zero for national models. eta_rf has been automatically set to Deterministic(0).\n",
      "  warnings.warn(\n",
      "c:\\Users\\GagandeepBajwa\\Documents\\impact_V2\\venv\\Lib\\site-packages\\meridian\\model\\prior_distribution.py:852: UserWarning: Hierarchical distribution parameters must be deterministically zero for national models. eta_om has been automatically set to Deterministic(0).\n",
      "  warnings.warn(\n",
      "c:\\Users\\GagandeepBajwa\\Documents\\impact_V2\\venv\\Lib\\site-packages\\meridian\\model\\prior_distribution.py:852: UserWarning: Hierarchical distribution parameters must be deterministically zero for national models. eta_orf has been automatically set to Deterministic(0).\n",
      "  warnings.warn(\n",
      "c:\\Users\\GagandeepBajwa\\Documents\\impact_V2\\venv\\Lib\\site-packages\\meridian\\model\\prior_distribution.py:852: UserWarning: Hierarchical distribution parameters must be deterministically zero for national models. xi_c has been automatically set to Deterministic(0).\n",
      "  warnings.warn(\n",
      "c:\\Users\\GagandeepBajwa\\Documents\\impact_V2\\venv\\Lib\\site-packages\\meridian\\model\\prior_distribution.py:852: UserWarning: Hierarchical distribution parameters must be deterministically zero for national models. xi_n has been automatically set to Deterministic(0).\n",
      "  warnings.warn(\n"
     ]
    },
    {
     "name": "stdout",
     "output_type": "stream",
     "text": [
      "CPU times: total: 2min 37s\n",
      "Wall time: 2min 43s\n"
     ]
    }
   ],
   "source": [
    "%%time\n",
    "mmm.sample_prior(500)\n",
    "mmm.sample_posterior(n_chains=10, n_adapt=2000, n_burnin=500, n_keep=1000, seed=1)"
   ]
  },
  {
   "cell_type": "code",
   "execution_count": 6,
   "id": "aeb25723",
   "metadata": {},
   "outputs": [
    {
     "data": {
      "text/html": [
       "\n",
       "<style>\n",
       "  #altair-viz-b0129d7cd1e245c99bcc8b9fca00ca6f.vega-embed {\n",
       "    width: 100%;\n",
       "    display: flex;\n",
       "  }\n",
       "\n",
       "  #altair-viz-b0129d7cd1e245c99bcc8b9fca00ca6f.vega-embed details,\n",
       "  #altair-viz-b0129d7cd1e245c99bcc8b9fca00ca6f.vega-embed details summary {\n",
       "    position: relative;\n",
       "  }\n",
       "</style>\n",
       "<div id=\"altair-viz-b0129d7cd1e245c99bcc8b9fca00ca6f\"></div>\n",
       "<script type=\"text/javascript\">\n",
       "  var VEGA_DEBUG = (typeof VEGA_DEBUG == \"undefined\") ? {} : VEGA_DEBUG;\n",
       "  (function(spec, embedOpt){\n",
       "    let outputDiv = document.currentScript.previousElementSibling;\n",
       "    if (outputDiv.id !== \"altair-viz-b0129d7cd1e245c99bcc8b9fca00ca6f\") {\n",
       "      outputDiv = document.getElementById(\"altair-viz-b0129d7cd1e245c99bcc8b9fca00ca6f\");\n",
       "    }\n",
       "\n",
       "    const paths = {\n",
       "      \"vega\": \"https://cdn.jsdelivr.net/npm/vega@5?noext\",\n",
       "      \"vega-lib\": \"https://cdn.jsdelivr.net/npm/vega-lib?noext\",\n",
       "      \"vega-lite\": \"https://cdn.jsdelivr.net/npm/vega-lite@5.20.1?noext\",\n",
       "      \"vega-embed\": \"https://cdn.jsdelivr.net/npm/vega-embed@6?noext\",\n",
       "    };\n",
       "\n",
       "    function maybeLoadScript(lib, version) {\n",
       "      var key = `${lib.replace(\"-\", \"\")}_version`;\n",
       "      return (VEGA_DEBUG[key] == version) ?\n",
       "        Promise.resolve(paths[lib]) :\n",
       "        new Promise(function(resolve, reject) {\n",
       "          var s = document.createElement('script');\n",
       "          document.getElementsByTagName(\"head\")[0].appendChild(s);\n",
       "          s.async = true;\n",
       "          s.onload = () => {\n",
       "            VEGA_DEBUG[key] = version;\n",
       "            return resolve(paths[lib]);\n",
       "          };\n",
       "          s.onerror = () => reject(`Error loading script: ${paths[lib]}`);\n",
       "          s.src = paths[lib];\n",
       "        });\n",
       "    }\n",
       "\n",
       "    function showError(err) {\n",
       "      outputDiv.innerHTML = `<div class=\"error\" style=\"color:red;\">${err}</div>`;\n",
       "      throw err;\n",
       "    }\n",
       "\n",
       "    function displayChart(vegaEmbed) {\n",
       "      vegaEmbed(outputDiv, spec, embedOpt)\n",
       "        .catch(err => showError(`Javascript Error: ${err.message}<br>This usually means there's a typo in your chart specification. See the javascript console for the full traceback.`));\n",
       "    }\n",
       "\n",
       "    if(typeof define === \"function\" && define.amd) {\n",
       "      requirejs.config({paths});\n",
       "      let deps = [\"vega-embed\"];\n",
       "      require(deps, displayChart, err => showError(`Error loading script: ${err.message}`));\n",
       "    } else {\n",
       "      maybeLoadScript(\"vega\", \"5\")\n",
       "        .then(() => maybeLoadScript(\"vega-lite\", \"5.20.1\"))\n",
       "        .then(() => maybeLoadScript(\"vega-embed\", \"6\"))\n",
       "        .catch(showError)\n",
       "        .then(() => displayChart(vegaEmbed));\n",
       "    }\n",
       "  })({\"config\": {\"view\": {\"continuousWidth\": 300, \"continuousHeight\": 300}, \"axis\": {\"labelColor\": \"#5F6368\", \"labelFont\": \"Roboto\", \"labelFontSize\": 12, \"titleColor\": \"#5F6368\", \"titleFont\": \"Roboto\", \"titleFontSize\": 12, \"titleFontWeight\": \"normal\"}}, \"layer\": [{\"data\": {\"name\": \"data-eeeb779a14fe8451c8da1bbfc143b58a\"}, \"mark\": {\"type\": \"boxplot\", \"median\": {\"color\": \"#8AB4F8\"}, \"outliers\": {\"filled\": true}}, \"encoding\": {\"x\": {\"axis\": {\"labelAngle\": -45}, \"field\": \"parameter\", \"type\": \"nominal\"}, \"y\": {\"field\": \"rhat\", \"scale\": {\"zero\": false}, \"type\": \"quantitative\"}}}, {\"data\": {\"name\": \"empty\"}, \"mark\": {\"type\": \"rule\", \"color\": \"#D93025\", \"opacity\": 0.8}, \"encoding\": {\"y\": {\"datum\": 1}}}], \"title\": {\"text\": \"R-hat Convergence Diagnostic\", \"anchor\": \"start\", \"color\": \"#3C4043\", \"font\": \"Google Sans Display\", \"fontSize\": 18, \"fontWeight\": \"normal\", \"offset\": 10}, \"width\": 400, \"$schema\": \"https://vega.github.io/schema/vega-lite/v5.20.1.json\", \"datasets\": {\"data-eeeb779a14fe8451c8da1bbfc143b58a\": [{\"parameter\": \"alpha_m\", \"rhat\": 0.9998008012771606}, {\"parameter\": \"alpha_m\", \"rhat\": 0.9995149374008179}, {\"parameter\": \"alpha_m\", \"rhat\": 1.0000303983688354}, {\"parameter\": \"alpha_m\", \"rhat\": 1.0000079870224}, {\"parameter\": \"alpha_m\", \"rhat\": 0.9996170997619629}, {\"parameter\": \"beta_gm\", \"rhat\": 0.9999192953109741}, {\"parameter\": \"beta_gm\", \"rhat\": 1.0002999305725098}, {\"parameter\": \"beta_gm\", \"rhat\": 0.9996922016143799}, {\"parameter\": \"beta_gm\", \"rhat\": 0.9993137121200562}, {\"parameter\": \"beta_gm\", \"rhat\": 1.000160574913025}, {\"parameter\": \"beta_m\", \"rhat\": 0.9999192953109741}, {\"parameter\": \"beta_m\", \"rhat\": 1.0002999305725098}, {\"parameter\": \"beta_m\", \"rhat\": 0.9996922016143799}, {\"parameter\": \"beta_m\", \"rhat\": 0.9993137121200562}, {\"parameter\": \"beta_m\", \"rhat\": 1.000160574913025}, {\"parameter\": \"ec_m\", \"rhat\": 0.9998208284378052}, {\"parameter\": \"ec_m\", \"rhat\": 1.0002312660217285}, {\"parameter\": \"ec_m\", \"rhat\": 0.9997352361679077}, {\"parameter\": \"ec_m\", \"rhat\": 0.9995222091674805}, {\"parameter\": \"ec_m\", \"rhat\": 0.9995244741439819}, {\"parameter\": \"gamma_c\", \"rhat\": 0.9996166229248047}, {\"parameter\": \"gamma_c\", \"rhat\": 1.000374436378479}, {\"parameter\": \"gamma_c\", \"rhat\": 0.9994007349014282}, {\"parameter\": \"gamma_c\", \"rhat\": 0.9992595911026001}, {\"parameter\": \"gamma_gc\", \"rhat\": 0.9996166229248047}, {\"parameter\": \"gamma_gc\", \"rhat\": 1.000374436378479}, {\"parameter\": \"gamma_gc\", \"rhat\": 0.9994007349014282}, {\"parameter\": \"gamma_gc\", \"rhat\": 0.9992595911026001}, {\"parameter\": \"knot_values\", \"rhat\": 1.0012824535369873}, {\"parameter\": \"mu_t\", \"rhat\": 1.0012824535369873}, {\"parameter\": \"mu_t\", \"rhat\": 1.0012824535369873}, {\"parameter\": \"mu_t\", \"rhat\": 1.0012824535369873}, {\"parameter\": \"mu_t\", \"rhat\": 1.0012824535369873}, {\"parameter\": \"mu_t\", \"rhat\": 1.0012824535369873}, {\"parameter\": \"mu_t\", \"rhat\": 1.0012824535369873}, {\"parameter\": \"mu_t\", \"rhat\": 1.0012824535369873}, {\"parameter\": \"mu_t\", \"rhat\": 1.0012824535369873}, {\"parameter\": \"mu_t\", \"rhat\": 1.0012824535369873}, {\"parameter\": \"mu_t\", \"rhat\": 1.0012824535369873}, {\"parameter\": \"mu_t\", \"rhat\": 1.0012824535369873}, {\"parameter\": \"mu_t\", \"rhat\": 1.0012824535369873}, {\"parameter\": \"mu_t\", \"rhat\": 1.0012824535369873}, {\"parameter\": \"mu_t\", \"rhat\": 1.0012824535369873}, {\"parameter\": \"mu_t\", \"rhat\": 1.0012824535369873}, {\"parameter\": \"mu_t\", \"rhat\": 1.0012824535369873}, {\"parameter\": \"mu_t\", \"rhat\": 1.0012824535369873}, {\"parameter\": \"mu_t\", \"rhat\": 1.0012824535369873}, {\"parameter\": \"mu_t\", \"rhat\": 1.0012824535369873}, {\"parameter\": \"mu_t\", \"rhat\": 1.0012824535369873}, {\"parameter\": \"mu_t\", \"rhat\": 1.0012824535369873}, {\"parameter\": \"mu_t\", \"rhat\": 1.0012824535369873}, {\"parameter\": \"mu_t\", \"rhat\": 1.0012824535369873}, {\"parameter\": \"mu_t\", \"rhat\": 1.0012824535369873}, {\"parameter\": \"mu_t\", \"rhat\": 1.0012824535369873}, {\"parameter\": \"mu_t\", \"rhat\": 1.0012824535369873}, {\"parameter\": \"mu_t\", \"rhat\": 1.0012824535369873}, {\"parameter\": \"mu_t\", \"rhat\": 1.0012824535369873}, {\"parameter\": \"mu_t\", \"rhat\": 1.0012824535369873}, {\"parameter\": \"mu_t\", \"rhat\": 1.0012824535369873}, {\"parameter\": \"mu_t\", \"rhat\": 1.0012824535369873}, {\"parameter\": \"mu_t\", \"rhat\": 1.0012824535369873}, {\"parameter\": \"mu_t\", \"rhat\": 1.0012824535369873}, {\"parameter\": \"mu_t\", \"rhat\": 1.0012824535369873}, {\"parameter\": \"mu_t\", \"rhat\": 1.0012824535369873}, {\"parameter\": \"mu_t\", \"rhat\": 1.0012824535369873}, {\"parameter\": \"mu_t\", \"rhat\": 1.0012824535369873}, {\"parameter\": \"mu_t\", \"rhat\": 1.0012824535369873}, {\"parameter\": \"mu_t\", \"rhat\": 1.0012824535369873}, {\"parameter\": \"mu_t\", \"rhat\": 1.0012824535369873}, {\"parameter\": \"mu_t\", \"rhat\": 1.0012824535369873}, {\"parameter\": \"mu_t\", \"rhat\": 1.0012824535369873}, {\"parameter\": \"mu_t\", \"rhat\": 1.0012824535369873}, {\"parameter\": \"mu_t\", \"rhat\": 1.0012824535369873}, {\"parameter\": \"mu_t\", \"rhat\": 1.0012824535369873}, {\"parameter\": \"mu_t\", \"rhat\": 1.0012824535369873}, {\"parameter\": \"mu_t\", \"rhat\": 1.0012824535369873}, {\"parameter\": \"mu_t\", \"rhat\": 1.0012824535369873}, {\"parameter\": \"mu_t\", \"rhat\": 1.0012824535369873}, {\"parameter\": \"mu_t\", \"rhat\": 1.0012824535369873}, {\"parameter\": \"mu_t\", \"rhat\": 1.0012824535369873}, {\"parameter\": \"mu_t\", \"rhat\": 1.0012824535369873}, {\"parameter\": \"mu_t\", \"rhat\": 1.0012824535369873}, {\"parameter\": \"mu_t\", \"rhat\": 1.0012824535369873}, {\"parameter\": \"mu_t\", \"rhat\": 1.0012824535369873}, {\"parameter\": \"mu_t\", \"rhat\": 1.0012824535369873}, {\"parameter\": \"mu_t\", \"rhat\": 1.0012824535369873}, {\"parameter\": \"mu_t\", \"rhat\": 1.0012824535369873}, {\"parameter\": \"mu_t\", \"rhat\": 1.0012824535369873}, {\"parameter\": \"mu_t\", \"rhat\": 1.0012824535369873}, {\"parameter\": \"mu_t\", \"rhat\": 1.0012824535369873}, {\"parameter\": \"mu_t\", \"rhat\": 1.0012824535369873}, {\"parameter\": \"mu_t\", \"rhat\": 1.0012824535369873}, {\"parameter\": \"mu_t\", \"rhat\": 1.0012824535369873}, {\"parameter\": \"mu_t\", \"rhat\": 1.0012824535369873}, {\"parameter\": \"mu_t\", \"rhat\": 1.0012824535369873}, {\"parameter\": \"mu_t\", \"rhat\": 1.0012824535369873}, {\"parameter\": \"mu_t\", \"rhat\": 1.0012824535369873}, {\"parameter\": \"mu_t\", \"rhat\": 1.0012824535369873}, {\"parameter\": \"mu_t\", \"rhat\": 1.0012824535369873}, {\"parameter\": \"mu_t\", \"rhat\": 1.0012824535369873}, {\"parameter\": \"mu_t\", \"rhat\": 1.0012824535369873}, {\"parameter\": \"mu_t\", \"rhat\": 1.0012824535369873}, {\"parameter\": \"mu_t\", \"rhat\": 1.0012824535369873}, {\"parameter\": \"mu_t\", \"rhat\": 1.0012824535369873}, {\"parameter\": \"mu_t\", \"rhat\": 1.0012824535369873}, {\"parameter\": \"mu_t\", \"rhat\": 1.0012824535369873}, {\"parameter\": \"mu_t\", \"rhat\": 1.0012824535369873}, {\"parameter\": \"mu_t\", \"rhat\": 1.0012824535369873}, {\"parameter\": \"mu_t\", \"rhat\": 1.0012824535369873}, {\"parameter\": \"mu_t\", \"rhat\": 1.0012824535369873}, {\"parameter\": \"mu_t\", \"rhat\": 1.0012824535369873}, {\"parameter\": \"mu_t\", \"rhat\": 1.0012824535369873}, {\"parameter\": \"mu_t\", \"rhat\": 1.0012824535369873}, {\"parameter\": \"mu_t\", \"rhat\": 1.0012824535369873}, {\"parameter\": \"mu_t\", \"rhat\": 1.0012824535369873}, {\"parameter\": \"mu_t\", \"rhat\": 1.0012824535369873}, {\"parameter\": \"mu_t\", \"rhat\": 1.0012824535369873}, {\"parameter\": \"mu_t\", \"rhat\": 1.0012824535369873}, {\"parameter\": \"mu_t\", \"rhat\": 1.0012824535369873}, {\"parameter\": \"mu_t\", \"rhat\": 1.0012824535369873}, {\"parameter\": \"mu_t\", \"rhat\": 1.0012824535369873}, {\"parameter\": \"mu_t\", \"rhat\": 1.0012824535369873}, {\"parameter\": \"mu_t\", \"rhat\": 1.0012824535369873}, {\"parameter\": \"mu_t\", \"rhat\": 1.0012824535369873}, {\"parameter\": \"mu_t\", \"rhat\": 1.0012824535369873}, {\"parameter\": \"mu_t\", \"rhat\": 1.0012824535369873}, {\"parameter\": \"mu_t\", \"rhat\": 1.0012824535369873}, {\"parameter\": \"mu_t\", \"rhat\": 1.0012824535369873}, {\"parameter\": \"mu_t\", \"rhat\": 1.0012824535369873}, {\"parameter\": \"mu_t\", \"rhat\": 1.0012824535369873}, {\"parameter\": \"mu_t\", \"rhat\": 1.0012824535369873}, {\"parameter\": \"mu_t\", \"rhat\": 1.0012824535369873}, {\"parameter\": \"mu_t\", \"rhat\": 1.0012824535369873}, {\"parameter\": \"mu_t\", \"rhat\": 1.0012824535369873}, {\"parameter\": \"mu_t\", \"rhat\": 1.0012824535369873}, {\"parameter\": \"mu_t\", \"rhat\": 1.0012824535369873}, {\"parameter\": \"mu_t\", \"rhat\": 1.0012824535369873}, {\"parameter\": \"mu_t\", \"rhat\": 1.0012824535369873}, {\"parameter\": \"mu_t\", \"rhat\": 1.0012824535369873}, {\"parameter\": \"roi_m\", \"rhat\": 0.999866247177124}, {\"parameter\": \"roi_m\", \"rhat\": 1.0000354051589966}, {\"parameter\": \"roi_m\", \"rhat\": 1.001173973083496}, {\"parameter\": \"roi_m\", \"rhat\": 0.9993765354156494}, {\"parameter\": \"roi_m\", \"rhat\": 1.000083088874817}, {\"parameter\": \"sigma\", \"rhat\": 1.0005229711532593}], \"empty\": [{}]}}, {\"mode\": \"vega-lite\"});\n",
       "</script>"
      ],
      "text/plain": [
       "alt.LayerChart(...)"
      ]
     },
     "execution_count": 6,
     "metadata": {},
     "output_type": "execute_result"
    }
   ],
   "source": [
    "model_diagnostics = visualizer.ModelDiagnostics(mmm)\n",
    "model_diagnostics.plot_rhat_boxplot()"
   ]
  },
  {
   "cell_type": "code",
   "execution_count": 7,
   "id": "dcf18c28",
   "metadata": {},
   "outputs": [
    {
     "name": "stderr",
     "output_type": "stream",
     "text": [
      "c:\\Users\\GagandeepBajwa\\Documents\\impact_V2\\venv\\Lib\\site-packages\\meridian\\analysis\\analyzer.py:540: UserWarning: The `aggregate_geos` argument is ignored in the national model. It will be reset to `True`.\n",
      "  warnings.warn(\n"
     ]
    },
    {
     "data": {
      "text/html": [
       "\n",
       "<style>\n",
       "  #altair-viz-6a58508c948b4a5a90c07fa3de6b9d5d.vega-embed {\n",
       "    width: 100%;\n",
       "    display: flex;\n",
       "  }\n",
       "\n",
       "  #altair-viz-6a58508c948b4a5a90c07fa3de6b9d5d.vega-embed details,\n",
       "  #altair-viz-6a58508c948b4a5a90c07fa3de6b9d5d.vega-embed details summary {\n",
       "    position: relative;\n",
       "  }\n",
       "</style>\n",
       "<div id=\"altair-viz-6a58508c948b4a5a90c07fa3de6b9d5d\"></div>\n",
       "<script type=\"text/javascript\">\n",
       "  var VEGA_DEBUG = (typeof VEGA_DEBUG == \"undefined\") ? {} : VEGA_DEBUG;\n",
       "  (function(spec, embedOpt){\n",
       "    let outputDiv = document.currentScript.previousElementSibling;\n",
       "    if (outputDiv.id !== \"altair-viz-6a58508c948b4a5a90c07fa3de6b9d5d\") {\n",
       "      outputDiv = document.getElementById(\"altair-viz-6a58508c948b4a5a90c07fa3de6b9d5d\");\n",
       "    }\n",
       "\n",
       "    const paths = {\n",
       "      \"vega\": \"https://cdn.jsdelivr.net/npm/vega@5?noext\",\n",
       "      \"vega-lib\": \"https://cdn.jsdelivr.net/npm/vega-lib?noext\",\n",
       "      \"vega-lite\": \"https://cdn.jsdelivr.net/npm/vega-lite@5.20.1?noext\",\n",
       "      \"vega-embed\": \"https://cdn.jsdelivr.net/npm/vega-embed@6?noext\",\n",
       "    };\n",
       "\n",
       "    function maybeLoadScript(lib, version) {\n",
       "      var key = `${lib.replace(\"-\", \"\")}_version`;\n",
       "      return (VEGA_DEBUG[key] == version) ?\n",
       "        Promise.resolve(paths[lib]) :\n",
       "        new Promise(function(resolve, reject) {\n",
       "          var s = document.createElement('script');\n",
       "          document.getElementsByTagName(\"head\")[0].appendChild(s);\n",
       "          s.async = true;\n",
       "          s.onload = () => {\n",
       "            VEGA_DEBUG[key] = version;\n",
       "            return resolve(paths[lib]);\n",
       "          };\n",
       "          s.onerror = () => reject(`Error loading script: ${paths[lib]}`);\n",
       "          s.src = paths[lib];\n",
       "        });\n",
       "    }\n",
       "\n",
       "    function showError(err) {\n",
       "      outputDiv.innerHTML = `<div class=\"error\" style=\"color:red;\">${err}</div>`;\n",
       "      throw err;\n",
       "    }\n",
       "\n",
       "    function displayChart(vegaEmbed) {\n",
       "      vegaEmbed(outputDiv, spec, embedOpt)\n",
       "        .catch(err => showError(`Javascript Error: ${err.message}<br>This usually means there's a typo in your chart specification. See the javascript console for the full traceback.`));\n",
       "    }\n",
       "\n",
       "    if(typeof define === \"function\" && define.amd) {\n",
       "      requirejs.config({paths});\n",
       "      let deps = [\"vega-embed\"];\n",
       "      require(deps, displayChart, err => showError(`Error loading script: ${err.message}`));\n",
       "    } else {\n",
       "      maybeLoadScript(\"vega\", \"5\")\n",
       "        .then(() => maybeLoadScript(\"vega-lite\", \"5.20.1\"))\n",
       "        .then(() => maybeLoadScript(\"vega-embed\", \"6\"))\n",
       "        .catch(showError)\n",
       "        .then(() => displayChart(vegaEmbed));\n",
       "    }\n",
       "  })({\"config\": {\"view\": {\"continuousWidth\": 300, \"continuousHeight\": 300}, \"axis\": {\"labelColor\": \"#5F6368\", \"labelFont\": \"Roboto\", \"labelFontSize\": 12, \"titleColor\": \"#5F6368\", \"titleFont\": \"Roboto\", \"titleFontSize\": 12, \"titleFontWeight\": \"normal\"}}, \"layer\": [{\"mark\": {\"type\": \"line\"}, \"encoding\": {\"color\": {\"field\": \"type\", \"scale\": {\"domain\": [\"expected\", \"actual\", \"baseline\"], \"range\": [\"#1A73E8\", \"#81C995\", \"#F9AB00\"]}, \"type\": \"nominal\"}, \"x\": {\"axis\": {\"domainColor\": \"#DADCE0\", \"format\": \"%Y %b\", \"grid\": false, \"tickCount\": 8}, \"field\": \"time\", \"title\": \"Time period\", \"type\": \"temporal\"}, \"y\": {\"axis\": {\"domain\": false, \"labelExpr\": \"replace(format(datum.value, '.3~s'), 'G', 'B')\", \"labelPadding\": 10, \"tickCount\": 5, \"ticks\": false, \"titleAlign\": \"left\", \"titleAngle\": 0, \"titleY\": -20}, \"field\": \"mean\", \"title\": \"Revenue\", \"type\": \"quantitative\"}}}, {\"mark\": {\"type\": \"area\", \"opacity\": 0.3}, \"encoding\": {\"color\": {\"field\": \"type\", \"legend\": null, \"scale\": {\"domain\": [\"expected\"], \"range\": [\"#1A73E8\"]}, \"type\": \"nominal\"}, \"x\": {\"field\": \"time\", \"type\": \"temporal\"}, \"y\": {\"field\": \"ci_hi\", \"type\": \"quantitative\"}, \"y2\": {\"field\": \"ci_lo\"}}}], \"data\": {\"name\": \"data-b1d2a43068c798d461d7ad188443beb9\"}, \"resolve\": {\"scale\": {\"color\": \"independent\"}}, \"title\": {\"text\": \"Expected revenue vs. actual revenue\", \"anchor\": \"start\", \"color\": \"#3C4043\", \"font\": \"Google Sans Display\", \"fontSize\": 18, \"fontWeight\": \"normal\", \"offset\": 10}, \"width\": 900, \"$schema\": \"https://vega.github.io/schema/vega-lite/v5.20.1.json\", \"datasets\": {\"data-b1d2a43068c798d461d7ad188443beb9\": [{\"time\": \"2023-03-27\", \"type\": \"actual\", \"ci_hi\": 85739.4765625, \"ci_lo\": 85739.4765625, \"mean\": 85739.4765625}, {\"time\": \"2023-03-27\", \"type\": \"baseline\", \"ci_hi\": -31357.484375, \"ci_lo\": -218361.03125, \"mean\": -111043.4296875}, {\"time\": \"2023-03-27\", \"type\": \"expected\", \"ci_hi\": 80662.3125, \"ci_lo\": -23322.837890625, \"mean\": 29317.05859375}, {\"time\": \"2023-04-03\", \"type\": \"actual\", \"ci_hi\": 218566.03125, \"ci_lo\": 218566.03125, \"mean\": 218566.03125}, {\"time\": \"2023-04-03\", \"type\": \"baseline\", \"ci_hi\": -45323.16015625, \"ci_lo\": -237409.203125, \"mean\": -127960.3046875}, {\"time\": \"2023-04-03\", \"type\": \"expected\", \"ci_hi\": 286971.9375, \"ci_lo\": 176069.546875, \"mean\": 233712.84375}, {\"time\": \"2023-04-10\", \"type\": \"actual\", \"ci_hi\": 284758.15625, \"ci_lo\": 284758.15625, \"mean\": 284758.15625}, {\"time\": \"2023-04-10\", \"type\": \"baseline\", \"ci_hi\": -42883.7734375, \"ci_lo\": -231139.859375, \"mean\": -124008.265625}, {\"time\": \"2023-04-10\", \"type\": \"expected\", \"ci_hi\": 313927.46875, \"ci_lo\": 251024.046875, \"mean\": 285750.0625}, {\"time\": \"2023-04-17\", \"type\": \"actual\", \"ci_hi\": 238625.984375, \"ci_lo\": 238625.984375, \"mean\": 238625.984375}, {\"time\": \"2023-04-17\", \"type\": \"baseline\", \"ci_hi\": -48575.296875, \"ci_lo\": -237799.765625, \"mean\": -130404.671875}, {\"time\": \"2023-04-17\", \"type\": \"expected\", \"ci_hi\": 321237.28125, \"ci_lo\": 277949.71875, \"mean\": 300941.6875}, {\"time\": \"2023-04-24\", \"type\": \"actual\", \"ci_hi\": 281379.1875, \"ci_lo\": 281379.1875, \"mean\": 281379.1875}, {\"time\": \"2023-04-24\", \"type\": \"baseline\", \"ci_hi\": -54514.66015625, \"ci_lo\": -244087.09375, \"mean\": -136618.359375}, {\"time\": \"2023-04-24\", \"type\": \"expected\", \"ci_hi\": 307918.9375, \"ci_lo\": 275862.78125, \"mean\": 292065.59375}, {\"time\": \"2023-05-01\", \"type\": \"actual\", \"ci_hi\": 295090.53125, \"ci_lo\": 295090.53125, \"mean\": 295090.53125}, {\"time\": \"2023-05-01\", \"type\": \"baseline\", \"ci_hi\": -67956.4140625, \"ci_lo\": -263059.9375, \"mean\": -152997.28125}, {\"time\": \"2023-05-01\", \"type\": \"expected\", \"ci_hi\": 325016.9375, \"ci_lo\": 269217.78125, \"mean\": 297437.71875}, {\"time\": \"2023-05-08\", \"type\": \"actual\", \"ci_hi\": 354746.0, \"ci_lo\": 354746.0, \"mean\": 354746.0}, {\"time\": \"2023-05-08\", \"type\": \"baseline\", \"ci_hi\": -73354.765625, \"ci_lo\": -268541.5625, \"mean\": -158578.515625}, {\"time\": \"2023-05-08\", \"type\": \"expected\", \"ci_hi\": 309674.34375, \"ci_lo\": 253461.9375, \"mean\": 281733.75}, {\"time\": \"2023-05-15\", \"type\": \"actual\", \"ci_hi\": 230501.796875, \"ci_lo\": 230501.796875, \"mean\": 230501.796875}, {\"time\": \"2023-05-15\", \"type\": \"baseline\", \"ci_hi\": -70178.3125, \"ci_lo\": -260729.734375, \"mean\": -153281.59375}, {\"time\": \"2023-05-15\", \"type\": \"expected\", \"ci_hi\": 306701.3125, \"ci_lo\": 273070.96875, \"mean\": 289487.0625}, {\"time\": \"2023-05-22\", \"type\": \"actual\", \"ci_hi\": 261650.625, \"ci_lo\": 261650.625, \"mean\": 261650.625}, {\"time\": \"2023-05-22\", \"type\": \"baseline\", \"ci_hi\": -74553.8046875, \"ci_lo\": -264876.65625, \"mean\": -157906.53125}, {\"time\": \"2023-05-22\", \"type\": \"expected\", \"ci_hi\": 311816.125, \"ci_lo\": 278499.84375, \"mean\": 295112.84375}, {\"time\": \"2023-05-29\", \"type\": \"actual\", \"ci_hi\": 301327.0625, \"ci_lo\": 301327.0625, \"mean\": 301327.0625}, {\"time\": \"2023-05-29\", \"type\": \"baseline\", \"ci_hi\": -86458.984375, \"ci_lo\": -281962.21875, \"mean\": -172385.5625}, {\"time\": \"2023-05-29\", \"type\": \"expected\", \"ci_hi\": 313376.59375, \"ci_lo\": 254603.046875, \"mean\": 284222.15625}, {\"time\": \"2023-06-05\", \"type\": \"actual\", \"ci_hi\": 287988.75, \"ci_lo\": 287988.75, \"mean\": 287988.75}, {\"time\": \"2023-06-05\", \"type\": \"baseline\", \"ci_hi\": -81847.546875, \"ci_lo\": -271592.9375, \"mean\": -165347.234375}, {\"time\": \"2023-06-05\", \"type\": \"expected\", \"ci_hi\": 322886.25, \"ci_lo\": 283974.625, \"mean\": 302961.8125}, {\"time\": \"2023-06-12\", \"type\": \"actual\", \"ci_hi\": 297923.21875, \"ci_lo\": 297923.21875, \"mean\": 297923.21875}, {\"time\": \"2023-06-12\", \"type\": \"baseline\", \"ci_hi\": -84444.015625, \"ci_lo\": -274514.28125, \"mean\": -168054.4375}, {\"time\": \"2023-06-12\", \"type\": \"expected\", \"ci_hi\": 317415.53125, \"ci_lo\": 279547.25, \"mean\": 298227.46875}, {\"time\": \"2023-06-19\", \"type\": \"actual\", \"ci_hi\": 266178.71875, \"ci_lo\": 266178.71875, \"mean\": 266178.71875}, {\"time\": \"2023-06-19\", \"type\": \"baseline\", \"ci_hi\": -86612.5390625, \"ci_lo\": -276310.34375, \"mean\": -170030.546875}, {\"time\": \"2023-06-19\", \"type\": \"expected\", \"ci_hi\": 289613.9375, \"ci_lo\": 254391.71875, \"mean\": 271867.6875}, {\"time\": \"2023-06-26\", \"type\": \"actual\", \"ci_hi\": 212131.03125, \"ci_lo\": 212131.03125, \"mean\": 212131.03125}, {\"time\": \"2023-06-26\", \"type\": \"baseline\", \"ci_hi\": -87859.296875, \"ci_lo\": -277277.375, \"mean\": -171246.90625}, {\"time\": \"2023-06-26\", \"type\": \"expected\", \"ci_hi\": 265012.46875, \"ci_lo\": 228971.046875, \"mean\": 247041.734375}, {\"time\": \"2023-07-03\", \"type\": \"actual\", \"ci_hi\": 172204.4375, \"ci_lo\": 172204.4375, \"mean\": 172204.4375}, {\"time\": \"2023-07-03\", \"type\": \"baseline\", \"ci_hi\": -88666.71875, \"ci_lo\": -277050.21875, \"mean\": -171685.234375}, {\"time\": \"2023-07-03\", \"type\": \"expected\", \"ci_hi\": 247716.453125, \"ci_lo\": 213001.171875, \"mean\": 230307.296875}, {\"time\": \"2023-07-10\", \"type\": \"actual\", \"ci_hi\": 137605.171875, \"ci_lo\": 137605.171875, \"mean\": 137605.171875}, {\"time\": \"2023-07-10\", \"type\": \"baseline\", \"ci_hi\": -89042.2734375, \"ci_lo\": -276331.53125, \"mean\": -171338.765625}, {\"time\": \"2023-07-10\", \"type\": \"expected\", \"ci_hi\": 221367.046875, \"ci_lo\": 179765.0625, \"mean\": 200306.875}, {\"time\": \"2023-07-17\", \"type\": \"actual\", \"ci_hi\": 181781.1875, \"ci_lo\": 181781.1875, \"mean\": 181781.1875}, {\"time\": \"2023-07-17\", \"type\": \"baseline\", \"ci_hi\": -88560.9453125, \"ci_lo\": -274848.9375, \"mean\": -170213.203125}, {\"time\": \"2023-07-17\", \"type\": \"expected\", \"ci_hi\": 222948.375, \"ci_lo\": 187773.65625, \"mean\": 205109.890625}, {\"time\": \"2023-07-24\", \"type\": \"actual\", \"ci_hi\": 205570.578125, \"ci_lo\": 205570.578125, \"mean\": 205570.578125}, {\"time\": \"2023-07-24\", \"type\": \"baseline\", \"ci_hi\": -87598.7109375, \"ci_lo\": -272386.21875, \"mean\": -168325.40625}, {\"time\": \"2023-07-24\", \"type\": \"expected\", \"ci_hi\": 259612.015625, \"ci_lo\": 220399.375, \"mean\": 239358.796875}, {\"time\": \"2023-07-31\", \"type\": \"actual\", \"ci_hi\": 183860.84375, \"ci_lo\": 183860.84375, \"mean\": 183860.84375}, {\"time\": \"2023-07-31\", \"type\": \"baseline\", \"ci_hi\": -85459.2265625, \"ci_lo\": -269520.5625, \"mean\": -165702.234375}, {\"time\": \"2023-07-31\", \"type\": \"expected\", \"ci_hi\": 229433.953125, \"ci_lo\": 197007.796875, \"mean\": 213000.46875}, {\"time\": \"2023-08-07\", \"type\": \"actual\", \"ci_hi\": 180266.46875, \"ci_lo\": 180266.46875, \"mean\": 180266.46875}, {\"time\": \"2023-08-07\", \"type\": \"baseline\", \"ci_hi\": -82806.4140625, \"ci_lo\": -266338.59375, \"mean\": -162381.46875}, {\"time\": \"2023-08-07\", \"type\": \"expected\", \"ci_hi\": 231841.375, \"ci_lo\": 199207.375, \"mean\": 215468.4375}, {\"time\": \"2023-08-14\", \"type\": \"actual\", \"ci_hi\": 146588.796875, \"ci_lo\": 146588.796875, \"mean\": 146588.796875}, {\"time\": \"2023-08-14\", \"type\": \"baseline\", \"ci_hi\": -79580.7578125, \"ci_lo\": -262100.859375, \"mean\": -158413.078125}, {\"time\": \"2023-08-14\", \"type\": \"expected\", \"ci_hi\": 194208.9375, \"ci_lo\": 152857.59375, \"mean\": 173753.671875}, {\"time\": \"2023-08-21\", \"type\": \"actual\", \"ci_hi\": 121569.6328125, \"ci_lo\": 121569.6328125, \"mean\": 121569.6328125}, {\"time\": \"2023-08-21\", \"type\": \"baseline\", \"ci_hi\": -75664.3125, \"ci_lo\": -256940.671875, \"mean\": -153853.34375}, {\"time\": \"2023-08-21\", \"type\": \"expected\", \"ci_hi\": 168982.109375, \"ci_lo\": 123698.078125, \"mean\": 146238.515625}, {\"time\": \"2023-08-28\", \"type\": \"actual\", \"ci_hi\": 153008.28125, \"ci_lo\": 153008.28125, \"mean\": 153008.28125}, {\"time\": \"2023-08-28\", \"type\": \"baseline\", \"ci_hi\": -71107.5078125, \"ci_lo\": -251333.3125, \"mean\": -148769.625}, {\"time\": \"2023-08-28\", \"type\": \"expected\", \"ci_hi\": 158144.171875, \"ci_lo\": 115665.59375, \"mean\": 136726.5625}, {\"time\": \"2023-09-04\", \"type\": \"actual\", \"ci_hi\": 143557.25, \"ci_lo\": 143557.25, \"mean\": 143557.25}, {\"time\": \"2023-09-04\", \"type\": \"baseline\", \"ci_hi\": -66250.15625, \"ci_lo\": -245123.84375, \"mean\": -143235.578125}, {\"time\": \"2023-09-04\", \"type\": \"expected\", \"ci_hi\": 150069.953125, \"ci_lo\": 106644.5390625, \"mean\": 128130.4296875}, {\"time\": \"2023-09-11\", \"type\": \"actual\", \"ci_hi\": 124717.0546875, \"ci_lo\": 124717.0546875, \"mean\": 124717.0546875}, {\"time\": \"2023-09-11\", \"type\": \"baseline\", \"ci_hi\": -61070.859375, \"ci_lo\": -238637.6875, \"mean\": -137332.078125}, {\"time\": \"2023-09-11\", \"type\": \"expected\", \"ci_hi\": 139015.515625, \"ci_lo\": 92712.7890625, \"mean\": 115597.15625}, {\"time\": \"2023-09-18\", \"type\": \"actual\", \"ci_hi\": 95326.0234375, \"ci_lo\": 95326.0234375, \"mean\": 95326.0234375}, {\"time\": \"2023-09-18\", \"type\": \"baseline\", \"ci_hi\": -55319.8828125, \"ci_lo\": -232023.828125, \"mean\": -131146.140625}, {\"time\": \"2023-09-18\", \"type\": \"expected\", \"ci_hi\": 139709.78125, \"ci_lo\": 94631.796875, \"mean\": 116996.6328125}, {\"time\": \"2023-09-25\", \"type\": \"actual\", \"ci_hi\": 138962.703125, \"ci_lo\": 138962.703125, \"mean\": 138962.703125}, {\"time\": \"2023-09-25\", \"type\": \"baseline\", \"ci_hi\": -49747.4609375, \"ci_lo\": -224946.421875, \"mean\": -124766.0546875}, {\"time\": \"2023-09-25\", \"type\": \"expected\", \"ci_hi\": 133890.453125, \"ci_lo\": 87876.609375, \"mean\": 110763.7734375}, {\"time\": \"2023-10-02\", \"type\": \"actual\", \"ci_hi\": 157495.03125, \"ci_lo\": 157495.03125, \"mean\": 157495.03125}, {\"time\": \"2023-10-02\", \"type\": \"baseline\", \"ci_hi\": -44061.50390625, \"ci_lo\": -218346.296875, \"mean\": -118286.6328125}, {\"time\": \"2023-10-02\", \"type\": \"expected\", \"ci_hi\": 139486.03125, \"ci_lo\": 95576.9609375, \"mean\": 117570.5703125}, {\"time\": \"2023-10-09\", \"type\": \"actual\", \"ci_hi\": 123120.5078125, \"ci_lo\": 123120.5078125, \"mean\": 123120.5078125}, {\"time\": \"2023-10-09\", \"type\": \"baseline\", \"ci_hi\": -38277.87890625, \"ci_lo\": -211542.765625, \"mean\": -111801.0859375}, {\"time\": \"2023-10-09\", \"type\": \"expected\", \"ci_hi\": 166508.578125, \"ci_lo\": 122091.6171875, \"mean\": 144563.015625}, {\"time\": \"2023-10-16\", \"type\": \"actual\", \"ci_hi\": 136376.671875, \"ci_lo\": 136376.671875, \"mean\": 136376.671875}, {\"time\": \"2023-10-16\", \"type\": \"baseline\", \"ci_hi\": -32269.107421875, \"ci_lo\": -204930.9375, \"mean\": -105405.2734375}, {\"time\": \"2023-10-16\", \"type\": \"expected\", \"ci_hi\": 178542.53125, \"ci_lo\": 138440.515625, \"mean\": 159116.953125}, {\"time\": \"2023-10-23\", \"type\": \"actual\", \"ci_hi\": 160853.734375, \"ci_lo\": 160853.734375, \"mean\": 160853.734375}, {\"time\": \"2023-10-23\", \"type\": \"baseline\", \"ci_hi\": -26738.22265625, \"ci_lo\": -199121.375, \"mean\": -99191.28125}, {\"time\": \"2023-10-23\", \"type\": \"expected\", \"ci_hi\": 186873.875, \"ci_lo\": 149768.65625, \"mean\": 168702.875}, {\"time\": \"2023-10-30\", \"type\": \"actual\", \"ci_hi\": 137867.59375, \"ci_lo\": 137867.59375, \"mean\": 137867.59375}, {\"time\": \"2023-10-30\", \"type\": \"baseline\", \"ci_hi\": -21032.91015625, \"ci_lo\": -193407.140625, \"mean\": -93250.140625}, {\"time\": \"2023-10-30\", \"type\": \"expected\", \"ci_hi\": 201377.765625, \"ci_lo\": 164939.109375, \"mean\": 183612.421875}, {\"time\": \"2023-11-06\", \"type\": \"actual\", \"ci_hi\": 150911.203125, \"ci_lo\": 150911.203125, \"mean\": 150911.203125}, {\"time\": \"2023-11-06\", \"type\": \"baseline\", \"ci_hi\": -15753.9921875, \"ci_lo\": -187875.140625, \"mean\": -87668.375}, {\"time\": \"2023-11-06\", \"type\": \"expected\", \"ci_hi\": 190011.78125, \"ci_lo\": 155869.625, \"mean\": 172923.59375}, {\"time\": \"2023-11-13\", \"type\": \"actual\", \"ci_hi\": 203455.875, \"ci_lo\": 203455.875, \"mean\": 203455.875}, {\"time\": \"2023-11-13\", \"type\": \"baseline\", \"ci_hi\": -10866.5966796875, \"ci_lo\": -182875.390625, \"mean\": -82527.984375}, {\"time\": \"2023-11-13\", \"type\": \"expected\", \"ci_hi\": 187631.5625, \"ci_lo\": 152411.1875, \"mean\": 169947.15625}, {\"time\": \"2023-11-20\", \"type\": \"actual\", \"ci_hi\": 305820.75, \"ci_lo\": 305820.75, \"mean\": 305820.75}, {\"time\": \"2023-11-20\", \"type\": \"baseline\", \"ci_hi\": -6547.39697265625, \"ci_lo\": -178767.296875, \"mean\": -77903.203125}, {\"time\": \"2023-11-20\", \"type\": \"expected\", \"ci_hi\": 180499.609375, \"ci_lo\": 142433.78125, \"mean\": 161496.25}, {\"time\": \"2023-11-27\", \"type\": \"actual\", \"ci_hi\": 149883.09375, \"ci_lo\": 149883.09375, \"mean\": 149883.09375}, {\"time\": \"2023-11-27\", \"type\": \"baseline\", \"ci_hi\": -2355.90283203125, \"ci_lo\": -174557.828125, \"mean\": -73861.71875}, {\"time\": \"2023-11-27\", \"type\": \"expected\", \"ci_hi\": 192966.703125, \"ci_lo\": 157485.640625, \"mean\": 175196.84375}, {\"time\": \"2023-12-04\", \"type\": \"actual\", \"ci_hi\": 81270.25, \"ci_lo\": 81270.25, \"mean\": 81270.25}, {\"time\": \"2023-12-04\", \"type\": \"baseline\", \"ci_hi\": 1250.3353271484375, \"ci_lo\": -171092.703125, \"mean\": -70462.3125}, {\"time\": \"2023-12-04\", \"type\": \"expected\", \"ci_hi\": 193226.9375, \"ci_lo\": 156932.75, \"mean\": 175076.796875}, {\"time\": \"2023-12-11\", \"type\": \"actual\", \"ci_hi\": 70227.1953125, \"ci_lo\": 70227.1953125, \"mean\": 70227.1953125}, {\"time\": \"2023-12-11\", \"type\": \"baseline\", \"ci_hi\": 3923.570556640625, \"ci_lo\": -168558.890625, \"mean\": -67754.96875}, {\"time\": \"2023-12-11\", \"type\": \"expected\", \"ci_hi\": 182631.796875, \"ci_lo\": 141193.3125, \"mean\": 162045.4375}, {\"time\": \"2023-12-18\", \"type\": \"actual\", \"ci_hi\": 41365.16796875, \"ci_lo\": 41365.16796875, \"mean\": 41365.16796875}, {\"time\": \"2023-12-18\", \"type\": \"baseline\", \"ci_hi\": 5943.0625, \"ci_lo\": -166601.6875, \"mean\": -65778.8125}, {\"time\": \"2023-12-18\", \"type\": \"expected\", \"ci_hi\": 170596.640625, \"ci_lo\": 122642.9375, \"mean\": 146813.71875}, {\"time\": \"2023-12-25\", \"type\": \"actual\", \"ci_hi\": 105169.1015625, \"ci_lo\": 105169.1015625, \"mean\": 105169.1015625}, {\"time\": \"2023-12-25\", \"type\": \"baseline\", \"ci_hi\": 1265.9439697265625, \"ci_lo\": -179390.046875, \"mean\": -75000.2890625}, {\"time\": \"2023-12-25\", \"type\": \"expected\", \"ci_hi\": 187163.09375, \"ci_lo\": 124049.46875, \"mean\": 155655.453125}, {\"time\": \"2024-01-01\", \"type\": \"actual\", \"ci_hi\": 157165.71875, \"ci_lo\": 157165.71875, \"mean\": 157165.71875}, {\"time\": \"2024-01-01\", \"type\": \"baseline\", \"ci_hi\": 1759.1571044921875, \"ci_lo\": -179146.59375, \"mean\": -74562.28125}, {\"time\": \"2024-01-01\", \"type\": \"expected\", \"ci_hi\": 201220.953125, \"ci_lo\": 140969.078125, \"mean\": 171030.09375}, {\"time\": \"2024-01-08\", \"type\": \"actual\", \"ci_hi\": 145551.171875, \"ci_lo\": 145551.171875, \"mean\": 145551.171875}, {\"time\": \"2024-01-08\", \"type\": \"baseline\", \"ci_hi\": -102612.4296875, \"ci_lo\": -289086.78125, \"mean\": -181702.09375}, {\"time\": \"2024-01-08\", \"type\": \"expected\", \"ci_hi\": 118872.7890625, \"ci_lo\": 45660.28125, \"mean\": 82290.21875}, {\"time\": \"2024-01-15\", \"type\": \"actual\", \"ci_hi\": 141539.09375, \"ci_lo\": 141539.09375, \"mean\": 141539.09375}, {\"time\": \"2024-01-15\", \"type\": \"baseline\", \"ci_hi\": -54932.21875, \"ci_lo\": -234833.546875, \"mean\": -129983.3984375}, {\"time\": \"2024-01-15\", \"type\": \"expected\", \"ci_hi\": 168648.75, \"ci_lo\": 121267.8046875, \"mean\": 144732.390625}, {\"time\": \"2024-01-22\", \"type\": \"actual\", \"ci_hi\": 175258.78125, \"ci_lo\": 175258.78125, \"mean\": 175258.78125}, {\"time\": \"2024-01-22\", \"type\": \"baseline\", \"ci_hi\": -46648.32421875, \"ci_lo\": -226221.078125, \"mean\": -121388.6171875}, {\"time\": \"2024-01-22\", \"type\": \"expected\", \"ci_hi\": 196462.875, \"ci_lo\": 152090.109375, \"mean\": 174139.796875}, {\"time\": \"2024-01-29\", \"type\": \"actual\", \"ci_hi\": 164262.40625, \"ci_lo\": 164262.40625, \"mean\": 164262.40625}, {\"time\": \"2024-01-29\", \"type\": \"baseline\", \"ci_hi\": -50800.6796875, \"ci_lo\": -231497.546875, \"mean\": -126411.9140625}, {\"time\": \"2024-01-29\", \"type\": \"expected\", \"ci_hi\": 197342.84375, \"ci_lo\": 152768.265625, \"mean\": 174858.09375}, {\"time\": \"2024-02-05\", \"type\": \"actual\", \"ci_hi\": 220058.765625, \"ci_lo\": 220058.765625, \"mean\": 220058.765625}, {\"time\": \"2024-02-05\", \"type\": \"baseline\", \"ci_hi\": -51201.6875, \"ci_lo\": -232694.171875, \"mean\": -127155.03125}, {\"time\": \"2024-02-05\", \"type\": \"expected\", \"ci_hi\": 229177.125, \"ci_lo\": 182083.78125, \"mean\": 205419.578125}, {\"time\": \"2024-02-12\", \"type\": \"actual\", \"ci_hi\": 189268.0, \"ci_lo\": 189268.0, \"mean\": 189268.0}, {\"time\": \"2024-02-12\", \"type\": \"baseline\", \"ci_hi\": -49906.15234375, \"ci_lo\": -231993.640625, \"mean\": -126426.484375}, {\"time\": \"2024-02-12\", \"type\": \"expected\", \"ci_hi\": 245128.65625, \"ci_lo\": 199907.984375, \"mean\": 222382.046875}, {\"time\": \"2024-02-19\", \"type\": \"actual\", \"ci_hi\": 186666.75, \"ci_lo\": 186666.75, \"mean\": 186666.75}, {\"time\": \"2024-02-19\", \"type\": \"baseline\", \"ci_hi\": -45196.234375, \"ci_lo\": -227964.546875, \"mean\": -121810.7421875}, {\"time\": \"2024-02-19\", \"type\": \"expected\", \"ci_hi\": 251109.140625, \"ci_lo\": 209822.890625, \"mean\": 230383.1875}, {\"time\": \"2024-02-26\", \"type\": \"actual\", \"ci_hi\": 171289.40625, \"ci_lo\": 171289.40625, \"mean\": 171289.40625}, {\"time\": \"2024-02-26\", \"type\": \"baseline\", \"ci_hi\": -45029.3125, \"ci_lo\": -228451.65625, \"mean\": -121998.9609375}, {\"time\": \"2024-02-26\", \"type\": \"expected\", \"ci_hi\": 247133.984375, \"ci_lo\": 207133.453125, \"mean\": 227280.234375}, {\"time\": \"2024-03-04\", \"type\": \"actual\", \"ci_hi\": 219704.09375, \"ci_lo\": 219704.09375, \"mean\": 219704.09375}, {\"time\": \"2024-03-04\", \"type\": \"baseline\", \"ci_hi\": -47096.0234375, \"ci_lo\": -231354.4375, \"mean\": -124826.0390625}, {\"time\": \"2024-03-04\", \"type\": \"expected\", \"ci_hi\": 248149.234375, \"ci_lo\": 209758.578125, \"mean\": 229050.3125}, {\"time\": \"2024-03-11\", \"type\": \"actual\", \"ci_hi\": 234839.328125, \"ci_lo\": 234839.328125, \"mean\": 234839.328125}, {\"time\": \"2024-03-11\", \"type\": \"baseline\", \"ci_hi\": -45267.86328125, \"ci_lo\": -229962.8125, \"mean\": -123471.3203125}, {\"time\": \"2024-03-11\", \"type\": \"expected\", \"ci_hi\": 245608.953125, \"ci_lo\": 208169.359375, \"mean\": 226860.71875}, {\"time\": \"2024-03-18\", \"type\": \"actual\", \"ci_hi\": 201742.28125, \"ci_lo\": 201742.28125, \"mean\": 201742.28125}, {\"time\": \"2024-03-18\", \"type\": \"baseline\", \"ci_hi\": -29124.7265625, \"ci_lo\": -214811.828125, \"mean\": -108196.7734375}, {\"time\": \"2024-03-18\", \"type\": \"expected\", \"ci_hi\": 261582.46875, \"ci_lo\": 227784.703125, \"mean\": 244778.578125}, {\"time\": \"2024-03-25\", \"type\": \"actual\", \"ci_hi\": 270904.4375, \"ci_lo\": 270904.4375, \"mean\": 270904.4375}, {\"time\": \"2024-03-25\", \"type\": \"baseline\", \"ci_hi\": -47536.96875, \"ci_lo\": -238983.609375, \"mean\": -129470.1171875}, {\"time\": \"2024-03-25\", \"type\": \"expected\", \"ci_hi\": 262233.84375, \"ci_lo\": 207393.890625, \"mean\": 235042.6875}, {\"time\": \"2024-04-01\", \"type\": \"actual\", \"ci_hi\": 242245.953125, \"ci_lo\": 242245.953125, \"mean\": 242245.953125}, {\"time\": \"2024-04-01\", \"type\": \"baseline\", \"ci_hi\": -32266.408203125, \"ci_lo\": -220260.25, \"mean\": -112935.59375}, {\"time\": \"2024-04-01\", \"type\": \"expected\", \"ci_hi\": 290699.375, \"ci_lo\": 258874.359375, \"mean\": 275060.6875}, {\"time\": \"2024-04-08\", \"type\": \"actual\", \"ci_hi\": 234180.546875, \"ci_lo\": 234180.546875, \"mean\": 234180.546875}, {\"time\": \"2024-04-08\", \"type\": \"baseline\", \"ci_hi\": -47471.71875, \"ci_lo\": -235143.109375, \"mean\": -128144.21875}, {\"time\": \"2024-04-08\", \"type\": \"expected\", \"ci_hi\": 288576.25, \"ci_lo\": 256935.890625, \"mean\": 272907.75}, {\"time\": \"2024-04-15\", \"type\": \"actual\", \"ci_hi\": 315525.6875, \"ci_lo\": 315525.6875, \"mean\": 315525.6875}, {\"time\": \"2024-04-15\", \"type\": \"baseline\", \"ci_hi\": -25170.93359375, \"ci_lo\": -215986.828125, \"mean\": -108200.7578125}, {\"time\": \"2024-04-15\", \"type\": \"expected\", \"ci_hi\": 328536.03125, \"ci_lo\": 294743.71875, \"mean\": 311853.34375}, {\"time\": \"2024-04-22\", \"type\": \"actual\", \"ci_hi\": 280369.3125, \"ci_lo\": 280369.3125, \"mean\": 280369.3125}, {\"time\": \"2024-04-22\", \"type\": \"baseline\", \"ci_hi\": -42088.01953125, \"ci_lo\": -232173.1875, \"mean\": -124790.8828125}, {\"time\": \"2024-04-22\", \"type\": \"expected\", \"ci_hi\": 302965.625, \"ci_lo\": 271390.125, \"mean\": 287221.53125}, {\"time\": \"2024-04-29\", \"type\": \"actual\", \"ci_hi\": 238781.859375, \"ci_lo\": 238781.859375, \"mean\": 238781.859375}, {\"time\": \"2024-04-29\", \"type\": \"baseline\", \"ci_hi\": -66909.3125, \"ci_lo\": -256822.90625, \"mean\": -149257.828125}, {\"time\": \"2024-04-29\", \"type\": \"expected\", \"ci_hi\": 280584.90625, \"ci_lo\": 249161.859375, \"mean\": 264854.34375}, {\"time\": \"2024-05-06\", \"type\": \"actual\", \"ci_hi\": 316955.4375, \"ci_lo\": 316955.4375, \"mean\": 316955.4375}, {\"time\": \"2024-05-06\", \"type\": \"baseline\", \"ci_hi\": -56728.578125, \"ci_lo\": -252188.5625, \"mean\": -142251.5}, {\"time\": \"2024-05-06\", \"type\": \"expected\", \"ci_hi\": 307993.15625, \"ci_lo\": 252955.203125, \"mean\": 280539.28125}, {\"time\": \"2024-05-13\", \"type\": \"actual\", \"ci_hi\": 268497.46875, \"ci_lo\": 268497.46875, \"mean\": 268497.46875}, {\"time\": \"2024-05-13\", \"type\": \"baseline\", \"ci_hi\": -66830.1171875, \"ci_lo\": -257106.546875, \"mean\": -150054.65625}, {\"time\": \"2024-05-13\", \"type\": \"expected\", \"ci_hi\": 276885.875, \"ci_lo\": 244764.890625, \"mean\": 260790.296875}, {\"time\": \"2024-05-20\", \"type\": \"actual\", \"ci_hi\": 292030.84375, \"ci_lo\": 292030.84375, \"mean\": 292030.84375}, {\"time\": \"2024-05-20\", \"type\": \"baseline\", \"ci_hi\": -81383.71875, \"ci_lo\": -271513.65625, \"mean\": -164394.234375}, {\"time\": \"2024-05-20\", \"type\": \"expected\", \"ci_hi\": 247251.3125, \"ci_lo\": 211864.5, \"mean\": 229518.046875}, {\"time\": \"2024-05-27\", \"type\": \"actual\", \"ci_hi\": 281483.90625, \"ci_lo\": 281483.90625, \"mean\": 281483.90625}, {\"time\": \"2024-05-27\", \"type\": \"baseline\", \"ci_hi\": -100630.1015625, \"ci_lo\": -295288.125, \"mean\": -186272.25}, {\"time\": \"2024-05-27\", \"type\": \"expected\", \"ci_hi\": 234268.390625, \"ci_lo\": 176523.671875, \"mean\": 205304.609375}, {\"time\": \"2024-06-03\", \"type\": \"actual\", \"ci_hi\": 225713.4375, \"ci_lo\": 225713.4375, \"mean\": 225713.4375}, {\"time\": \"2024-06-03\", \"type\": \"baseline\", \"ci_hi\": -96814.40625, \"ci_lo\": -286291.40625, \"mean\": -179724.640625}, {\"time\": \"2024-06-03\", \"type\": \"expected\", \"ci_hi\": 225085.28125, \"ci_lo\": 191640.640625, \"mean\": 208303.875}, {\"time\": \"2024-06-10\", \"type\": \"actual\", \"ci_hi\": 228916.75, \"ci_lo\": 228916.75, \"mean\": 228916.75}, {\"time\": \"2024-06-10\", \"type\": \"baseline\", \"ci_hi\": -108722.4453125, \"ci_lo\": -297410.65625, \"mean\": -191387.84375}, {\"time\": \"2024-06-10\", \"type\": \"expected\", \"ci_hi\": 225017.953125, \"ci_lo\": 190721.859375, \"mean\": 207594.296875}, {\"time\": \"2024-06-17\", \"type\": \"actual\", \"ci_hi\": 242915.65625, \"ci_lo\": 242915.65625, \"mean\": 242915.65625}, {\"time\": \"2024-06-17\", \"type\": \"baseline\", \"ci_hi\": -105923.265625, \"ci_lo\": -294483.59375, \"mean\": -188703.28125}, {\"time\": \"2024-06-17\", \"type\": \"expected\", \"ci_hi\": 236463.5625, \"ci_lo\": 203169.953125, \"mean\": 219509.6875}, {\"time\": \"2024-06-24\", \"type\": \"actual\", \"ci_hi\": 252200.59375, \"ci_lo\": 252200.59375, \"mean\": 252200.59375}, {\"time\": \"2024-06-24\", \"type\": \"baseline\", \"ci_hi\": -99588.2734375, \"ci_lo\": -288325.125, \"mean\": -182182.78125}, {\"time\": \"2024-06-24\", \"type\": \"expected\", \"ci_hi\": 243451.671875, \"ci_lo\": 212252.296875, \"mean\": 227730.015625}, {\"time\": \"2024-07-01\", \"type\": \"actual\", \"ci_hi\": 218650.09375, \"ci_lo\": 218650.09375, \"mean\": 218650.09375}, {\"time\": \"2024-07-01\", \"type\": \"baseline\", \"ci_hi\": -105653.296875, \"ci_lo\": -293063.90625, \"mean\": -188009.375}, {\"time\": \"2024-07-01\", \"type\": \"expected\", \"ci_hi\": 251864.046875, \"ci_lo\": 217664.625, \"mean\": 234493.109375}, {\"time\": \"2024-07-08\", \"type\": \"actual\", \"ci_hi\": 235972.9375, \"ci_lo\": 235972.9375, \"mean\": 235972.9375}, {\"time\": \"2024-07-08\", \"type\": \"baseline\", \"ci_hi\": -111554.96875, \"ci_lo\": -297628.96875, \"mean\": -193226.53125}, {\"time\": \"2024-07-08\", \"type\": \"expected\", \"ci_hi\": 231609.921875, \"ci_lo\": 199095.96875, \"mean\": 215547.3125}, {\"time\": \"2024-07-15\", \"type\": \"actual\", \"ci_hi\": 239699.90625, \"ci_lo\": 239699.90625, \"mean\": 239699.90625}, {\"time\": \"2024-07-15\", \"type\": \"baseline\", \"ci_hi\": -103996.5703125, \"ci_lo\": -289554.625, \"mean\": -184940.984375}, {\"time\": \"2024-07-15\", \"type\": \"expected\", \"ci_hi\": 247336.3125, \"ci_lo\": 215082.84375, \"mean\": 231254.96875}, {\"time\": \"2024-07-22\", \"type\": \"actual\", \"ci_hi\": 245438.0, \"ci_lo\": 245438.0, \"mean\": 245438.0}, {\"time\": \"2024-07-22\", \"type\": \"baseline\", \"ci_hi\": -100413.8671875, \"ci_lo\": -285506.53125, \"mean\": -181082.203125}, {\"time\": \"2024-07-22\", \"type\": \"expected\", \"ci_hi\": 263613.46875, \"ci_lo\": 227925.265625, \"mean\": 245916.0625}, {\"time\": \"2024-07-29\", \"type\": \"actual\", \"ci_hi\": 326090.0, \"ci_lo\": 326090.0, \"mean\": 326090.0}, {\"time\": \"2024-07-29\", \"type\": \"baseline\", \"ci_hi\": -100520.078125, \"ci_lo\": -284542.4375, \"mean\": -180645.203125}, {\"time\": \"2024-07-29\", \"type\": \"expected\", \"ci_hi\": 267937.71875, \"ci_lo\": 231438.171875, \"mean\": 249778.53125}, {\"time\": \"2024-08-05\", \"type\": \"actual\", \"ci_hi\": 238082.046875, \"ci_lo\": 238082.046875, \"mean\": 238082.046875}, {\"time\": \"2024-08-05\", \"type\": \"baseline\", \"ci_hi\": -90999.1015625, \"ci_lo\": -274191.6875, \"mean\": -170417.6875}, {\"time\": \"2024-08-05\", \"type\": \"expected\", \"ci_hi\": 265207.15625, \"ci_lo\": 232604.21875, \"mean\": 249037.515625}, {\"time\": \"2024-08-12\", \"type\": \"actual\", \"ci_hi\": 228503.578125, \"ci_lo\": 228503.578125, \"mean\": 228503.578125}, {\"time\": \"2024-08-12\", \"type\": \"baseline\", \"ci_hi\": -89800.203125, \"ci_lo\": -271560.28125, \"mean\": -168433.734375}, {\"time\": \"2024-08-12\", \"type\": \"expected\", \"ci_hi\": 267489.625, \"ci_lo\": 233966.984375, \"mean\": 250953.21875}, {\"time\": \"2024-08-19\", \"type\": \"actual\", \"ci_hi\": 279974.375, \"ci_lo\": 279974.375, \"mean\": 279974.375}, {\"time\": \"2024-08-19\", \"type\": \"baseline\", \"ci_hi\": -89377.078125, \"ci_lo\": -270007.25, \"mean\": -167312.546875}, {\"time\": \"2024-08-19\", \"type\": \"expected\", \"ci_hi\": 258541.578125, \"ci_lo\": 225901.78125, \"mean\": 242422.046875}, {\"time\": \"2024-08-26\", \"type\": \"actual\", \"ci_hi\": 343277.8125, \"ci_lo\": 343277.8125, \"mean\": 343277.8125}, {\"time\": \"2024-08-26\", \"type\": \"baseline\", \"ci_hi\": -95323.421875, \"ci_lo\": -274620.40625, \"mean\": -172350.96875}, {\"time\": \"2024-08-26\", \"type\": \"expected\", \"ci_hi\": 243399.453125, \"ci_lo\": 209369.0625, \"mean\": 226531.578125}, {\"time\": \"2024-09-02\", \"type\": \"actual\", \"ci_hi\": 251587.03125, \"ci_lo\": 251587.03125, \"mean\": 251587.03125}, {\"time\": \"2024-09-02\", \"type\": \"baseline\", \"ci_hi\": -78207.09375, \"ci_lo\": -256740.109375, \"mean\": -154850.984375}, {\"time\": \"2024-09-02\", \"type\": \"expected\", \"ci_hi\": 258303.75, \"ci_lo\": 225309.71875, \"mean\": 241757.703125}, {\"time\": \"2024-09-09\", \"type\": \"actual\", \"ci_hi\": 239781.96875, \"ci_lo\": 239781.96875, \"mean\": 239781.96875}, {\"time\": \"2024-09-09\", \"type\": \"baseline\", \"ci_hi\": -57879.31640625, \"ci_lo\": -235531.640625, \"mean\": -134248.0625}, {\"time\": \"2024-09-09\", \"type\": \"expected\", \"ci_hi\": 275658.40625, \"ci_lo\": 242672.6875, \"mean\": 259215.96875}, {\"time\": \"2024-09-16\", \"type\": \"actual\", \"ci_hi\": 262028.078125, \"ci_lo\": 262028.078125, \"mean\": 262028.078125}, {\"time\": \"2024-09-16\", \"type\": \"baseline\", \"ci_hi\": -45300.1953125, \"ci_lo\": -222192.15625, \"mean\": -121334.5546875}, {\"time\": \"2024-09-16\", \"type\": \"expected\", \"ci_hi\": 302615.75, \"ci_lo\": 264369.71875, \"mean\": 283583.0}, {\"time\": \"2024-09-23\", \"type\": \"actual\", \"ci_hi\": 184156.15625, \"ci_lo\": 184156.15625, \"mean\": 184156.15625}, {\"time\": \"2024-09-23\", \"type\": \"baseline\", \"ci_hi\": -38425.10546875, \"ci_lo\": -214350.265625, \"mean\": -113979.3671875}, {\"time\": \"2024-09-23\", \"type\": \"expected\", \"ci_hi\": 316224.15625, \"ci_lo\": 276439.1875, \"mean\": 296601.6875}, {\"time\": \"2024-09-30\", \"type\": \"actual\", \"ci_hi\": 333192.03125, \"ci_lo\": 333192.03125, \"mean\": 333192.03125}, {\"time\": \"2024-09-30\", \"type\": \"baseline\", \"ci_hi\": -32352.248046875, \"ci_lo\": -206613.109375, \"mean\": -106952.796875}, {\"time\": \"2024-09-30\", \"type\": \"expected\", \"ci_hi\": 354929.78125, \"ci_lo\": 304271.46875, \"mean\": 329889.84375}, {\"time\": \"2024-10-07\", \"type\": \"actual\", \"ci_hi\": 307816.15625, \"ci_lo\": 307816.15625, \"mean\": 307816.15625}, {\"time\": \"2024-10-07\", \"type\": \"baseline\", \"ci_hi\": -13139.8740234375, \"ci_lo\": -187965.4375, \"mean\": -87740.578125}, {\"time\": \"2024-10-07\", \"type\": \"expected\", \"ci_hi\": 380789.03125, \"ci_lo\": 328327.65625, \"mean\": 355017.78125}, {\"time\": \"2024-10-14\", \"type\": \"actual\", \"ci_hi\": 323692.1875, \"ci_lo\": 323692.1875, \"mean\": 323692.1875}, {\"time\": \"2024-10-14\", \"type\": \"baseline\", \"ci_hi\": -17502.02734375, \"ci_lo\": -190747.84375, \"mean\": -90956.0859375}, {\"time\": \"2024-10-14\", \"type\": \"expected\", \"ci_hi\": 369178.625, \"ci_lo\": 320152.90625, \"mean\": 344892.375}, {\"time\": \"2024-10-21\", \"type\": \"actual\", \"ci_hi\": 375699.53125, \"ci_lo\": 375699.53125, \"mean\": 375699.53125}, {\"time\": \"2024-10-21\", \"type\": \"baseline\", \"ci_hi\": -11331.9814453125, \"ci_lo\": -184463.828125, \"mean\": -84306.375}, {\"time\": \"2024-10-21\", \"type\": \"expected\", \"ci_hi\": 356502.4375, \"ci_lo\": 310516.0625, \"mean\": 333715.625}, {\"time\": \"2024-10-28\", \"type\": \"actual\", \"ci_hi\": 371307.90625, \"ci_lo\": 371307.90625, \"mean\": 371307.90625}, {\"time\": \"2024-10-28\", \"type\": \"baseline\", \"ci_hi\": -18463.896484375, \"ci_lo\": -190912.71875, \"mean\": -90889.3515625}, {\"time\": \"2024-10-28\", \"type\": \"expected\", \"ci_hi\": 362688.5, \"ci_lo\": 313392.46875, \"mean\": 338440.0625}, {\"time\": \"2024-11-04\", \"type\": \"actual\", \"ci_hi\": 340645.34375, \"ci_lo\": 340645.34375, \"mean\": 340645.34375}, {\"time\": \"2024-11-04\", \"type\": \"baseline\", \"ci_hi\": -4327.2783203125, \"ci_lo\": -176418.453125, \"mean\": -76707.125}, {\"time\": \"2024-11-04\", \"type\": \"expected\", \"ci_hi\": 356134.21875, \"ci_lo\": 309997.53125, \"mean\": 333202.875}, {\"time\": \"2024-11-11\", \"type\": \"actual\", \"ci_hi\": 389449.5625, \"ci_lo\": 389449.5625, \"mean\": 389449.5625}, {\"time\": \"2024-11-11\", \"type\": \"baseline\", \"ci_hi\": -14141.5693359375, \"ci_lo\": -186226.640625, \"mean\": -85670.203125}, {\"time\": \"2024-11-11\", \"type\": \"expected\", \"ci_hi\": 319714.0625, \"ci_lo\": 275319.0, \"mean\": 297267.90625}, {\"time\": \"2024-11-18\", \"type\": \"actual\", \"ci_hi\": 378821.34375, \"ci_lo\": 378821.34375, \"mean\": 378821.34375}, {\"time\": \"2024-11-18\", \"type\": \"baseline\", \"ci_hi\": -17471.77734375, \"ci_lo\": -189344.390625, \"mean\": -88663.0546875}, {\"time\": \"2024-11-18\", \"type\": \"expected\", \"ci_hi\": 301562.0, \"ci_lo\": 261326.0625, \"mean\": 281243.21875}, {\"time\": \"2024-11-25\", \"type\": \"actual\", \"ci_hi\": 444492.5625, \"ci_lo\": 444492.5625, \"mean\": 444492.5625}, {\"time\": \"2024-11-25\", \"type\": \"baseline\", \"ci_hi\": -23418.47265625, \"ci_lo\": -195144.46875, \"mean\": -94305.515625}, {\"time\": \"2024-11-25\", \"type\": \"expected\", \"ci_hi\": 280488.03125, \"ci_lo\": 240485.328125, \"mean\": 260108.59375}, {\"time\": \"2024-12-02\", \"type\": \"actual\", \"ci_hi\": 326803.40625, \"ci_lo\": 326803.40625, \"mean\": 326803.40625}, {\"time\": \"2024-12-02\", \"type\": \"baseline\", \"ci_hi\": -21389.29296875, \"ci_lo\": -193576.140625, \"mean\": -92356.515625}, {\"time\": \"2024-12-02\", \"type\": \"expected\", \"ci_hi\": 301014.59375, \"ci_lo\": 260303.078125, \"mean\": 280552.40625}, {\"time\": \"2024-12-09\", \"type\": \"actual\", \"ci_hi\": 280422.8125, \"ci_lo\": 280422.8125, \"mean\": 280422.8125}, {\"time\": \"2024-12-09\", \"type\": \"baseline\", \"ci_hi\": -18734.32421875, \"ci_lo\": -191217.671875, \"mean\": -89953.7109375}, {\"time\": \"2024-12-09\", \"type\": \"expected\", \"ci_hi\": 305809.0, \"ci_lo\": 264678.53125, \"mean\": 285156.25}, {\"time\": \"2024-12-16\", \"type\": \"actual\", \"ci_hi\": 136153.5, \"ci_lo\": 136153.5, \"mean\": 136153.5}, {\"time\": \"2024-12-16\", \"type\": \"baseline\", \"ci_hi\": -16517.201171875, \"ci_lo\": -189043.734375, \"mean\": -87766.2734375}, {\"time\": \"2024-12-16\", \"type\": \"expected\", \"ci_hi\": 270592.3125, \"ci_lo\": 227067.640625, \"mean\": 249153.53125}, {\"time\": \"2024-12-23\", \"type\": \"actual\", \"ci_hi\": 115912.8046875, \"ci_lo\": 115912.8046875, \"mean\": 115912.8046875}, {\"time\": \"2024-12-23\", \"type\": \"baseline\", \"ci_hi\": -27342.521484375, \"ci_lo\": -207609.734375, \"mean\": -103556.1171875}, {\"time\": \"2024-12-23\", \"type\": \"expected\", \"ci_hi\": 251390.328125, \"ci_lo\": 184857.5625, \"mean\": 218067.859375}, {\"time\": \"2024-12-30\", \"type\": \"actual\", \"ci_hi\": 206465.921875, \"ci_lo\": 206465.921875, \"mean\": 206465.921875}, {\"time\": \"2024-12-30\", \"type\": \"baseline\", \"ci_hi\": -2259.624267578125, \"ci_lo\": -182904.734375, \"mean\": -78464.359375}, {\"time\": \"2024-12-30\", \"type\": \"expected\", \"ci_hi\": 291950.21875, \"ci_lo\": 231444.8125, \"mean\": 261635.53125}, {\"time\": \"2025-01-06\", \"type\": \"actual\", \"ci_hi\": 231850.421875, \"ci_lo\": 231850.421875, \"mean\": 231850.421875}, {\"time\": \"2025-01-06\", \"type\": \"baseline\", \"ci_hi\": 9652.1240234375, \"ci_lo\": -165866.71875, \"mean\": -63008.69140625}, {\"time\": \"2025-01-06\", \"type\": \"expected\", \"ci_hi\": 295377.03125, \"ci_lo\": 260817.40625, \"mean\": 277819.25}, {\"time\": \"2025-01-13\", \"type\": \"actual\", \"ci_hi\": 307895.96875, \"ci_lo\": 307895.96875, \"mean\": 307895.96875}, {\"time\": \"2025-01-13\", \"type\": \"baseline\", \"ci_hi\": 11053.52734375, \"ci_lo\": -165524.234375, \"mean\": -61932.61328125}, {\"time\": \"2025-01-13\", \"type\": \"expected\", \"ci_hi\": 294329.34375, \"ci_lo\": 259649.984375, \"mean\": 276777.09375}, {\"time\": \"2025-01-20\", \"type\": \"actual\", \"ci_hi\": 429822.21875, \"ci_lo\": 429822.21875, \"mean\": 429822.21875}, {\"time\": \"2025-01-20\", \"type\": \"baseline\", \"ci_hi\": 30324.568359375, \"ci_lo\": -148213.84375, \"mean\": -44266.7890625}, {\"time\": \"2025-01-20\", \"type\": \"expected\", \"ci_hi\": 329277.5, \"ci_lo\": 293398.34375, \"mean\": 311238.96875}, {\"time\": \"2025-01-27\", \"type\": \"actual\", \"ci_hi\": 289156.03125, \"ci_lo\": 289156.03125, \"mean\": 289156.03125}, {\"time\": \"2025-01-27\", \"type\": \"baseline\", \"ci_hi\": 30461.76953125, \"ci_lo\": -148949.46875, \"mean\": -44898.7265625}, {\"time\": \"2025-01-27\", \"type\": \"expected\", \"ci_hi\": 295297.21875, \"ci_lo\": 250595.109375, \"mean\": 273377.5}, {\"time\": \"2025-02-03\", \"type\": \"actual\", \"ci_hi\": 338967.40625, \"ci_lo\": 338967.40625, \"mean\": 338967.40625}, {\"time\": \"2025-02-03\", \"type\": \"baseline\", \"ci_hi\": 36998.8515625, \"ci_lo\": -144489.125, \"mean\": -39868.6953125}, {\"time\": \"2025-02-03\", \"type\": \"expected\", \"ci_hi\": 294696.375, \"ci_lo\": 252059.859375, \"mean\": 273197.53125}, {\"time\": \"2025-02-10\", \"type\": \"actual\", \"ci_hi\": 258915.125, \"ci_lo\": 258915.125, \"mean\": 258915.125}, {\"time\": \"2025-02-10\", \"type\": \"baseline\", \"ci_hi\": 34533.5234375, \"ci_lo\": -148189.828125, \"mean\": -43008.55859375}, {\"time\": \"2025-02-10\", \"type\": \"expected\", \"ci_hi\": 303764.46875, \"ci_lo\": 263792.59375, \"mean\": 283514.5625}, {\"time\": \"2025-02-17\", \"type\": \"actual\", \"ci_hi\": 277979.78125, \"ci_lo\": 277979.78125, \"mean\": 277979.78125}, {\"time\": \"2025-02-17\", \"type\": \"baseline\", \"ci_hi\": 52088.234375, \"ci_lo\": -134109.25, \"mean\": -27806.69140625}, {\"time\": \"2025-02-17\", \"type\": \"expected\", \"ci_hi\": 319787.90625, \"ci_lo\": 271932.40625, \"mean\": 295703.34375}, {\"time\": \"2025-02-24\", \"type\": \"actual\", \"ci_hi\": 329035.15625, \"ci_lo\": 329035.15625, \"mean\": 329035.15625}, {\"time\": \"2025-02-24\", \"type\": \"baseline\", \"ci_hi\": 41948.82421875, \"ci_lo\": -145135.78125, \"mean\": -38083.3828125}, {\"time\": \"2025-02-24\", \"type\": \"expected\", \"ci_hi\": 328030.375, \"ci_lo\": 284282.5625, \"mean\": 305870.71875}, {\"time\": \"2025-03-03\", \"type\": \"actual\", \"ci_hi\": 409456.34375, \"ci_lo\": 409456.34375, \"mean\": 409456.34375}, {\"time\": \"2025-03-03\", \"type\": \"baseline\", \"ci_hi\": 48483.13671875, \"ci_lo\": -140544.71875, \"mean\": -33164.03125}, {\"time\": \"2025-03-03\", \"type\": \"expected\", \"ci_hi\": 361750.34375, \"ci_lo\": 313846.09375, \"mean\": 337805.65625}, {\"time\": \"2025-03-10\", \"type\": \"actual\", \"ci_hi\": 400494.5625, \"ci_lo\": 400494.5625, \"mean\": 400494.5625}, {\"time\": \"2025-03-10\", \"type\": \"baseline\", \"ci_hi\": 41297.6640625, \"ci_lo\": -148860.921875, \"mean\": -41264.0390625}, {\"time\": \"2025-03-10\", \"type\": \"expected\", \"ci_hi\": 383792.6875, \"ci_lo\": 339675.71875, \"mean\": 361745.21875}, {\"time\": \"2025-03-17\", \"type\": \"actual\", \"ci_hi\": 411173.8125, \"ci_lo\": 411173.8125, \"mean\": 411173.8125}, {\"time\": \"2025-03-17\", \"type\": \"baseline\", \"ci_hi\": 55857.91796875, \"ci_lo\": -137239.046875, \"mean\": -29078.041015625}, {\"time\": \"2025-03-17\", \"type\": \"expected\", \"ci_hi\": 420030.65625, \"ci_lo\": 369604.3125, \"mean\": 394866.09375}, {\"time\": \"2025-03-24\", \"type\": \"actual\", \"ci_hi\": 422040.5, \"ci_lo\": 422040.5, \"mean\": 422040.5}, {\"time\": \"2025-03-24\", \"type\": \"baseline\", \"ci_hi\": 40640.93359375, \"ci_lo\": -152794.078125, \"mean\": -44354.28515625}, {\"time\": \"2025-03-24\", \"type\": \"expected\", \"ci_hi\": 412258.40625, \"ci_lo\": 366304.59375, \"mean\": 389353.0}, {\"time\": \"2025-03-31\", \"type\": \"actual\", \"ci_hi\": 436120.75, \"ci_lo\": 436120.75, \"mean\": 436120.75}, {\"time\": \"2025-03-31\", \"type\": \"baseline\", \"ci_hi\": 54884.16796875, \"ci_lo\": -142257.515625, \"mean\": -32648.01953125}, {\"time\": \"2025-03-31\", \"type\": \"expected\", \"ci_hi\": 458596.25, \"ci_lo\": 402527.46875, \"mean\": 430687.9375}, {\"time\": \"2025-04-07\", \"type\": \"actual\", \"ci_hi\": 399795.875, \"ci_lo\": 399795.875, \"mean\": 399795.875}, {\"time\": \"2025-04-07\", \"type\": \"baseline\", \"ci_hi\": 45721.28515625, \"ci_lo\": -151303.84375, \"mean\": -42002.8671875}, {\"time\": \"2025-04-07\", \"type\": \"expected\", \"ci_hi\": 452190.75, \"ci_lo\": 397789.8125, \"mean\": 424990.375}, {\"time\": \"2025-04-14\", \"type\": \"actual\", \"ci_hi\": 371545.5, \"ci_lo\": 371545.5, \"mean\": 371545.5}, {\"time\": \"2025-04-14\", \"type\": \"baseline\", \"ci_hi\": 9692.314453125, \"ci_lo\": -188480.640625, \"mean\": -78126.90625}, {\"time\": \"2025-04-14\", \"type\": \"expected\", \"ci_hi\": 404191.46875, \"ci_lo\": 337421.25, \"mean\": 370802.03125}, {\"time\": \"2025-04-21\", \"type\": \"actual\", \"ci_hi\": 385647.90625, \"ci_lo\": 385647.90625, \"mean\": 385647.90625}, {\"time\": \"2025-04-21\", \"type\": \"baseline\", \"ci_hi\": 36233.81640625, \"ci_lo\": -162179.03125, \"mean\": -52540.796875}, {\"time\": \"2025-04-21\", \"type\": \"expected\", \"ci_hi\": 438498.3125, \"ci_lo\": 374424.96875, \"mean\": 404734.9375}, {\"time\": \"2025-04-28\", \"type\": \"actual\", \"ci_hi\": 174361.890625, \"ci_lo\": 174361.890625, \"mean\": 174361.890625}, {\"time\": \"2025-04-28\", \"type\": \"baseline\", \"ci_hi\": -100631.125, \"ci_lo\": -289797.625, \"mean\": -182713.546875}, {\"time\": \"2025-04-28\", \"type\": \"expected\", \"ci_hi\": 215288.53125, \"ci_lo\": 114305.921875, \"mean\": 167205.71875}]}}, {\"mode\": \"vega-lite\"});\n",
       "</script>"
      ],
      "text/plain": [
       "alt.LayerChart(...)"
      ]
     },
     "execution_count": 7,
     "metadata": {},
     "output_type": "execute_result"
    }
   ],
   "source": [
    "model_fit = visualizer.ModelFit(mmm)\n",
    "model_fit.plot_model_fit()"
   ]
  },
  {
   "cell_type": "code",
   "execution_count": 8,
   "id": "e8786f87",
   "metadata": {},
   "outputs": [],
   "source": [
    "mmm_summarizer = summarizer.Summarizer(mmm)"
   ]
  },
  {
   "cell_type": "code",
   "execution_count": 9,
   "id": "fa44daa3",
   "metadata": {},
   "outputs": [
    {
     "name": "stderr",
     "output_type": "stream",
     "text": [
      "c:\\Users\\GagandeepBajwa\\Documents\\impact_V2\\venv\\Lib\\site-packages\\meridian\\analysis\\analyzer.py:540: UserWarning: The `aggregate_geos` argument is ignored in the national model. It will be reset to `True`.\n",
      "  warnings.warn(\n",
      "c:\\Users\\GagandeepBajwa\\Documents\\impact_V2\\venv\\Lib\\site-packages\\meridian\\analysis\\analyzer.py:540: UserWarning: The `aggregate_geos` argument is ignored in the national model. It will be reset to `True`.\n",
      "  warnings.warn(\n",
      "c:\\Users\\GagandeepBajwa\\Documents\\impact_V2\\venv\\Lib\\site-packages\\meridian\\analysis\\analyzer.py:3063: UserWarning: Effectiveness is not reported because it does not have a clear interpretation by time period.\n",
      "  warnings.warn(\n",
      "c:\\Users\\GagandeepBajwa\\Documents\\impact_V2\\venv\\Lib\\site-packages\\meridian\\analysis\\analyzer.py:925: UserWarning: Setting `use_kpi=True` has no effect when `kpi_type=REVENUE` since in this case, KPI is equal to revenue.\n",
      "  warnings.warn(\n",
      "c:\\Users\\GagandeepBajwa\\Documents\\impact_V2\\venv\\Lib\\site-packages\\tensorflow\\python\\autograph\\impl\\api.py:371: UserWarning: Setting `use_kpi=True` has no effect when `kpi_type=REVENUE` since in this case, KPI is equal to revenue.\n",
      "  return py_builtins.overload_of(f)(*args)\n"
     ]
    }
   ],
   "source": [
    "import os\n",
    "filepath = os.path.join(os.getcwd())\n",
    "start_date = '2023-03-27'\n",
    "end_date = '2025-04-28' # Changed end_date to a valid date\n",
    "mmm_summarizer.output_model_results_summary('summary_output_charlesivy_v3.html', filepath, start_date, end_date)"
   ]
  },
  {
   "cell_type": "code",
   "execution_count": 10,
   "id": "98cc2dc3",
   "metadata": {},
   "outputs": [
    {
     "name": "stdout",
     "output_type": "stream",
     "text": [
      "CPU times: total: 6min 12s\n",
      "Wall time: 4min 24s\n"
     ]
    }
   ],
   "source": [
    "%%time\n",
    "budget_optimizer = optimizer.BudgetOptimizer(mmm)\n",
    "optimization_results = budget_optimizer.optimize()"
   ]
  },
  {
   "cell_type": "code",
   "execution_count": 11,
   "id": "a7810cdb",
   "metadata": {},
   "outputs": [],
   "source": [
    "optimization_results.output_optimization_summary('optimization_output_charlesivy_v3.html', filepath)"
   ]
  },
  {
   "cell_type": "code",
   "execution_count": 13,
   "metadata": {},
   "outputs": [],
   "source": [
    "save_path=os.path.join(os.getcwd(),'saved_mmm_charlesivy_v3.pkl')\n",
    "model.save_mmm(mmm, save_path)"
   ]
  },
  {
   "cell_type": "code",
   "execution_count": null,
   "id": "de1fac10",
   "metadata": {},
   "outputs": [],
   "source": []
  },
  {
   "cell_type": "code",
   "execution_count": null,
   "id": "cbfefeb4",
   "metadata": {},
   "outputs": [],
   "source": []
  }
 ],
 "metadata": {
  "kernelspec": {
   "display_name": "Python 3",
   "language": "python",
   "name": "python3"
  },
  "language_info": {
   "codemirror_mode": {
    "name": "ipython",
    "version": 3
   },
   "file_extension": ".py",
   "mimetype": "text/x-python",
   "name": "python",
   "nbconvert_exporter": "python",
   "pygments_lexer": "ipython3",
   "version": "3.11.11"
  }
 },
 "nbformat": 4,
 "nbformat_minor": 5
}
