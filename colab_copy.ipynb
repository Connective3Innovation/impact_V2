{
 "cells": [
  {
   "cell_type": "code",
   "execution_count": null,
   "id": "df95f882",
   "metadata": {},
   "outputs": [],
   "source": [
    "# Install meridian: from PyPI @ latest release\n",
    "!pip install --upgrade google-meridian[colab,and-cuda]\n",
    "\n",
    "# Install meridian: from PyPI @ specific version\n",
    "# !pip install google-meridian[colab,and-cuda]==1.0.3\n",
    "\n",
    "# Install meridian: from GitHub @HEAD\n",
    "# !pip install --upgrade \"google-meridian[colab,and-cuda] @ git+https://github.com/google/meridian.git\""
   ]
  },
  {
   "cell_type": "code",
   "execution_count": null,
   "id": "10aa7096",
   "metadata": {},
   "outputs": [],
   "source": [
    "import numpy as np\n",
    "import pandas as pd\n",
    "import tensorflow as tf\n",
    "import tensorflow_probability as tfp\n",
    "import arviz as az\n",
    "\n",
    "import IPython\n",
    "\n",
    "from meridian import constants\n",
    "from meridian.data import load\n",
    "from meridian.data import test_utils\n",
    "from meridian.model import model\n",
    "from meridian.model import spec\n",
    "from meridian.model import prior_distribution\n",
    "from meridian.analysis import optimizer\n",
    "from meridian.analysis import analyzer\n",
    "from meridian.analysis import visualizer\n",
    "from meridian.analysis import summarizer\n",
    "from meridian.analysis import formatter\n",
    "\n",
    "# check if GPU is available\n",
    "from psutil import virtual_memory\n",
    "ram_gb = virtual_memory().total / 1e9\n",
    "print('Your runtime has {:.1f} gigabytes of available RAM\\n'.format(ram_gb))\n",
    "print(\"Num GPUs Available: \", len(tf.config.experimental.list_physical_devices('GPU')))\n",
    "print(\"Num CPUs Available: \", len(tf.config.experimental.list_physical_devices('CPU')))"
   ]
  },
  {
   "cell_type": "code",
   "execution_count": null,
   "id": "e85efdf7",
   "metadata": {},
   "outputs": [],
   "source": [
    "import pandas as pd\n",
    "from meridian import constants\n",
    "from meridian.data import load\n",
    "from meridian.data import test_utils\n",
    "from meridian.model import model\n",
    "from meridian.model import spec\n",
    "from meridian.model import prior_distribution\n",
    "from meridian.analysis import optimizer\n",
    "from meridian.analysis import analyzer\n",
    "from meridian.analysis import visualizer\n",
    "from meridian.analysis import summarizer\n",
    "from meridian.analysis import formatter\n",
    "import io\n",
    "import requests\n",
    "\n",
    "\n",
    "coord_to_columns = load.CoordToColumns(\n",
    "    time='Date',\n",
    "    #geo='geo',\n",
    "    controls=['Organic_impressions'],\n",
    "    #population='population',\n",
    "    kpi='total_revenue',\n",
    "    #revenue_per_kpi='revenue_per_conversion',\n",
    "    media=[\n",
    "        'facebook_impressions',\n",
    "        'bing_impressions',\n",
    "        'google_impressions',\n",
    "        'tiktok_impressions',\n",
    "        'pinterest_impressions',\n",
    "    ],\n",
    "    media_spend=[\n",
    "       'bing_spend',\n",
    "      'pinterest_spend',\n",
    "      'facebook_spend',\n",
    "      'google_spend',\n",
    "      'tiktok_spend',\n",
    "    ],\n",
    "    #organic_media=['Organic_impressions'],\n",
    "    #non_media_treatments=['Promo'],\n",
    ")\n",
    "\n",
    "correct_media_to_channel = {\n",
    "    'facebook_impressions': 'Facebook',\n",
    "    'bing_impressions': 'Bing',\n",
    "    'google_impressions': 'Google',\n",
    "    'tiktok_impressions': 'Tiktok',\n",
    "    'pinterest_impressions': 'Pinterest',\n",
    "}\n",
    "correct_media_spend_to_channel = {\n",
    "    'bing_spend': 'Bing',\n",
    "    'pinterest_spend': 'Pinterest',\n",
    "    'facebook_spend': 'Facebook',\n",
    "    'google_spend': 'Google',\n",
    "    'tiktok_spend': 'Tiktok'\n",
    "}\n",
    "# Download the CSV data\n",
    "url = 'https://raw.githubusercontent.com/Connective3Innovation/impact_V2/main/Data/charles%26ivy_apr2023_apr_2025_cleaned.csv' #Modified URL to raw content\n",
    "response = requests.get(url)\n",
    "response.raise_for_status() # Raise HTTPError for bad responses (4xx or 5xx)\n",
    "csv_data = response.content.decode('utf-8') #Assuming UTF-8 encoding\n",
    "\n",
    "# Load into pandas DataFrame\n",
    "df = pd.read_csv(io.StringIO(csv_data), sep=',') #Explicitly setting separator\n",
    "\n",
    "loader = load.DataFrameDataLoader(\n",
    "    #csv_path='https://github.com/Connective3Innovation/impact_V2/blob/main/Data/charles%26ivy_apr2023_apr_2025_cleaned.csv',\n",
    "    df=df, # Pass the DataFrame directly\n",
    "    kpi_type='revenue',\n",
    "    coord_to_columns=coord_to_columns,\n",
    "    media_to_channel=correct_media_to_channel,\n",
    "    media_spend_to_channel=correct_media_spend_to_channel,\n",
    ")\n",
    "data = loader.load()"
   ]
  },
  {
   "cell_type": "code",
   "execution_count": null,
   "id": "155db652",
   "metadata": {},
   "outputs": [],
   "source": [
    "roi_mu = 0.2     # Mu for ROI prior for each media channel.\n",
    "roi_sigma = 0.9  # Sigma for ROI prior for each media channel.\n",
    "prior = prior_distribution.PriorDistribution(\n",
    "    roi_m=tfp.distributions.LogNormal(roi_mu, roi_sigma, name=constants.ROI_M)\n",
    ")\n",
    "model_spec = spec.ModelSpec(prior=prior)\n",
    "\n",
    "mmm = model.Meridian(input_data=data, model_spec=model_spec)"
   ]
  },
  {
   "cell_type": "code",
   "execution_count": null,
   "id": "7c9ac4dd",
   "metadata": {},
   "outputs": [],
   "source": [
    "%%time\n",
    "mmm.sample_prior(500)\n",
    "mmm.sample_posterior(n_chains=10, n_adapt=2000, n_burnin=500, n_keep=1000, seed=1)"
   ]
  },
  {
   "cell_type": "code",
   "execution_count": null,
   "id": "aeb25723",
   "metadata": {},
   "outputs": [],
   "source": [
    "model_diagnostics = visualizer.ModelDiagnostics(mmm)\n",
    "model_diagnostics.plot_rhat_boxplot()"
   ]
  },
  {
   "cell_type": "code",
   "execution_count": null,
   "id": "dcf18c28",
   "metadata": {},
   "outputs": [],
   "source": [
    "model_fit = visualizer.ModelFit(mmm)\n",
    "model_fit.plot_model_fit()"
   ]
  },
  {
   "cell_type": "code",
   "execution_count": null,
   "id": "e8786f87",
   "metadata": {},
   "outputs": [],
   "source": [
    "mmm_summarizer = summarizer.Summarizer(mmm)"
   ]
  },
  {
   "cell_type": "code",
   "execution_count": null,
   "id": "243e7899",
   "metadata": {},
   "outputs": [],
   "source": [
    "from google.colab import drive\n",
    "drive.mount('/content/drive')"
   ]
  },
  {
   "cell_type": "code",
   "execution_count": null,
   "id": "621d70c6",
   "metadata": {},
   "outputs": [],
   "source": [
    "filepath = '/content/drive/MyDrive'\n",
    "start_date = '2023-03-27'\n",
    "end_date = '2025-04-28' # Changed end_date to a valid date\n",
    "mmm_summarizer.output_model_results_summary('summary_output_charlesivy_v1.html', filepath, start_date, end_date)"
   ]
  },
  {
   "cell_type": "code",
   "execution_count": null,
   "id": "8e75cc45",
   "metadata": {},
   "outputs": [],
   "source": [
    "IPython.display.HTML(filename='/content/drive/MyDrive/summary_output_charlesivy_v1.html')"
   ]
  },
  {
   "cell_type": "code",
   "execution_count": null,
   "id": "98cc2dc3",
   "metadata": {},
   "outputs": [],
   "source": []
  },
  {
   "cell_type": "code",
   "execution_count": null,
   "id": "a7810cdb",
   "metadata": {},
   "outputs": [],
   "source": []
  },
  {
   "cell_type": "code",
   "execution_count": null,
   "metadata": {},
   "outputs": [],
   "source": []
  },
  {
   "cell_type": "code",
   "execution_count": null,
   "id": "de1fac10",
   "metadata": {},
   "outputs": [],
   "source": []
  },
  {
   "cell_type": "code",
   "execution_count": null,
   "id": "cbfefeb4",
   "metadata": {},
   "outputs": [],
   "source": []
  }
 ],
 "metadata": {
  "language_info": {
   "name": "python"
  }
 },
 "nbformat": 4,
 "nbformat_minor": 5
}
