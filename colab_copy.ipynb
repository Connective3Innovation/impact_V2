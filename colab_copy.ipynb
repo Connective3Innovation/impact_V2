{
 "cells": [
  {
   "cell_type": "markdown",
   "id": "df95f882",
   "metadata": {},
   "source": [
    "# Install meridian: from PyPI @ latest release\n",
    "!pip install --upgrade google-meridian[colab,and-cuda]\n",
    "\n",
    "# Install meridian: from PyPI @ specific version\n",
    "# !pip install google-meridian[colab,and-cuda]==1.0.3\n",
    "\n",
    "# Install meridian: from GitHub @HEAD\n",
    "# !pip install --upgrade \"google-meridian[colab,and-cuda] @ git+https://github.com/google/meridian.git\""
   ]
  },
  {
   "cell_type": "code",
   "execution_count": 15,
   "id": "10aa7096",
   "metadata": {},
   "outputs": [
    {
     "name": "stdout",
     "output_type": "stream",
     "text": [
      "Your runtime has 16.6 gigabytes of available RAM\n",
      "\n",
      "Num GPUs Available:  0\n",
      "Num CPUs Available:  1\n"
     ]
    }
   ],
   "source": [
    "import numpy as np\n",
    "import pandas as pd\n",
    "import tensorflow as tf\n",
    "import tensorflow_probability as tfp\n",
    "import arviz as az\n",
    "\n",
    "import IPython\n",
    "\n",
    "from meridian import constants\n",
    "from meridian.data import load\n",
    "from meridian.data import test_utils\n",
    "from meridian.model import model\n",
    "from meridian.model import spec\n",
    "from meridian.model import prior_distribution\n",
    "from meridian.analysis import optimizer#\n",
    "from meridian.analysis import analyzer\n",
    "from meridian.analysis import visualizer\n",
    "from meridian.analysis import summarizer\n",
    "from meridian.analysis import formatter\n",
    "\n",
    "# check if GPU is available\n",
    "from psutil import virtual_memory\n",
    "ram_gb = virtual_memory().total / 1e9\n",
    "print('Your runtime has {:.1f} gigabytes of available RAM\\n'.format(ram_gb))\n",
    "print(\"Num GPUs Available: \", len(tf.config.experimental.list_physical_devices('GPU')))\n",
    "print(\"Num CPUs Available: \", len(tf.config.experimental.list_physical_devices('CPU')))"
   ]
  },
  {
   "cell_type": "code",
   "execution_count": null,
   "id": "e85efdf7",
   "metadata": {},
   "outputs": [
    {
     "name": "stderr",
     "output_type": "stream",
     "text": [
      "c:\\Users\\GagandeepBajwa\\Documents\\impact_V2\\venv\\Lib\\site-packages\\meridian\\data\\load.py:1023: FutureWarning: Downcasting behavior in `replace` is deprecated and will be removed in a future version. To retain the old behavior, explicitly call `result.infer_objects(copy=False)`. To opt-in to the future behavior, set `pd.set_option('future.no_silent_downcasting', True)`\n",
      "  self.df[geo_column_name] = self.df[geo_column_name].replace(\n",
      "c:\\Users\\GagandeepBajwa\\Documents\\impact_V2\\venv\\Lib\\site-packages\\meridian\\data\\load.py:201: FutureWarning: The return type of `Dataset.dims` will be changed to return a set of dimension names in future, in order to be more consistent with `DataArray.dims`. To access a mapping from dimension names to lengths, please use `Dataset.sizes`.\n",
      "  if (constants.GEO) not in self.dataset.dims.keys():\n",
      "c:\\Users\\GagandeepBajwa\\Documents\\impact_V2\\venv\\Lib\\site-packages\\meridian\\data\\load.py:206: UserWarning: The `population` argument is ignored in a nationally aggregated model. It will be reset to [1]\n",
      "  warnings.warn(\n",
      "c:\\Users\\GagandeepBajwa\\Documents\\impact_V2\\venv\\Lib\\site-packages\\meridian\\data\\load.py:231: FutureWarning: The return type of `Dataset.dims` will be changed to return a set of dimension names in future, in order to be more consistent with `DataArray.dims`. To access a mapping from dimension names to lengths, please use `Dataset.sizes`.\n",
      "  if constants.MEDIA_TIME not in self.dataset.dims.keys():\n",
      "c:\\Users\\GagandeepBajwa\\Documents\\impact_V2\\venv\\Lib\\site-packages\\meridian\\data\\input_data.py:385: UserWarning: Revenue from the `kpi` data is used when `kpi_type`=`revenue`. `revenue_per_kpi` is ignored.\n",
      "  warnings.warn(\n"
     ]
    }
   ],
   "source": [
    "\n",
    "import io\n",
    "import requests\n",
    "\n",
    "\n",
    "coord_to_columns = load.CoordToColumns(\n",
    "    time='Date',\n",
    "    #geo='geo',\n",
    "    controls=['seasonality_sin' ,'seasonality_cos','is_holiday_week'],\n",
    "    #population='population',\n",
    "    kpi='total_revenue',\n",
    "    #revenue_per_kpi='revenue_per_conversion',\n",
    "    media=[\n",
    "        'facebook_impressions',\n",
    "        'bing_impressions',\n",
    "        'google_impressions',\n",
    "        'tiktok_impressions',\n",
    "        'pinterest_impressions',\n",
    "    ],\n",
    "    media_spend=[\n",
    "       'bing_spend',\n",
    "      'pinterest_spend',\n",
    "      'facebook_spend',\n",
    "      'google_spend',\n",
    "      'tiktok_spend',\n",
    "    ],\n",
    "    organic_media=['Organic_impressions'],\n",
    "    #non_media_treatments=['Promo'],\n",
    ")\n",
    "\n",
    "correct_media_to_channel = {\n",
    "    'facebook_impressions': 'Facebook',\n",
    "    'bing_impressions': 'Bing',\n",
    "    'google_impressions': 'Google',\n",
    "    'tiktok_impressions': 'Tiktok',\n",
    "    'pinterest_impressions': 'Pinterest',\n",
    "}\n",
    "correct_media_spend_to_channel = {\n",
    "    'bing_spend': 'Bing',\n",
    "    'pinterest_spend': 'Pinterest',\n",
    "    'facebook_spend': 'Facebook',\n",
    "    'google_spend': 'Google',\n",
    "    'tiktok_spend': 'Tiktok'\n",
    "}\n",
    "# Download the CSV data\n",
    "url = 'https://github.com/Connective3Innovation/impact_V2/blob/main/Data/charles%26ivy_apr2023_apr_2025_cleaned_v1.csv' # Updated to raw content URL\n",
    "response = requests.get(url)\n",
    "response.raise_for_status() # Raise HTTPError for bad responses (4xx or 5xx)\n",
    "csv_data = response.content.decode('utf-8') # Assuming UTF-8 encoding\n",
    "\n",
    "# Load into pandas DataFrame\n",
    "df = pd.read_csv(io.StringIO(csv_data), sep=',') # Explicitly setting separator\n",
    "\n",
    "loader = load.DataFrameDataLoader(\n",
    "    #csv_path='https://github.com/Connective3Innovation/impact_V2/blob/main/Data/charles%26ivy_apr2023_apr_2025_cleaned.csv',\n",
    "    df=df, # Pass the DataFrame directly\n",
    "    kpi_type='revenue',\n",
    "    coord_to_columns=coord_to_columns,\n",
    "    media_to_channel=correct_media_to_channel,\n",
    "    media_spend_to_channel=correct_media_spend_to_channel,\n",
    ")\n",
    "data = loader.load()"
   ]
  },
  {
   "cell_type": "code",
   "execution_count": 6,
   "id": "155db652",
   "metadata": {},
   "outputs": [
    {
     "name": "stderr",
     "output_type": "stream",
     "text": [
      "c:\\Users\\GagandeepBajwa\\Documents\\impact_V2\\venv\\Lib\\site-packages\\meridian\\model\\model.py:64: UserWarning: In a nationally aggregated model, the `media_effects_dist` will be reset to `normal`.\n",
      "  warnings.warn(\n"
     ]
    }
   ],
   "source": [
    "roi_mu = 0.2     # Mu for ROI prior for each media channel.\n",
    "roi_sigma = 0.9  # Sigma for ROI prior for each media channel.\n",
    "prior = prior_distribution.PriorDistribution(\n",
    "    roi_m=tfp.distributions.LogNormal(roi_mu, roi_sigma, name=constants.ROI_M)\n",
    ")\n",
    "model_spec = spec.ModelSpec(prior=prior)\n",
    "\n",
    "mmm = model.Meridian(input_data=data, model_spec=model_spec)"
   ]
  },
  {
   "cell_type": "code",
   "execution_count": 4,
   "id": "4ce8ed6a",
   "metadata": {},
   "outputs": [
    {
     "data": {
      "text/plain": [
       "Date                        2024-11-25\n",
       "facebook_impressions           1820099\n",
       "bing_impressions                 91637\n",
       "google_impressions             3268585\n",
       "tiktok_impressions             95397.0\n",
       "pinterest_impressions           119031\n",
       "bing_spend                 1913.109997\n",
       "pinterest_spend            1057.043594\n",
       "facebook_spend            23655.069995\n",
       "google_spend              41471.219546\n",
       "tiktok_spend                570.849999\n",
       "total_revenue              444492.5741\n",
       "total_conversions              8303.12\n",
       "facebook_revenue         147751.099998\n",
       "tiktok_revenue                  6703.0\n",
       "pinterest_revenue             17649.35\n",
       "Organic_impressions           148874.0\n",
       "bing_revenue                  43815.59\n",
       "google_revenue           228573.534075\n",
       "geo                       national_geo\n",
       "population                         1.0\n",
       "Name: 87, dtype: object"
      ]
     },
     "execution_count": 4,
     "metadata": {},
     "output_type": "execute_result"
    }
   ],
   "source": [
    "df.loc[df['total_revenue'].idxmax()]"
   ]
  },
  {
   "cell_type": "code",
   "execution_count": 7,
   "id": "7c9ac4dd",
   "metadata": {},
   "outputs": [
    {
     "name": "stderr",
     "output_type": "stream",
     "text": [
      "c:\\Users\\GagandeepBajwa\\Documents\\impact_V2\\venv\\Lib\\site-packages\\meridian\\model\\prior_distribution.py:852: UserWarning: Hierarchical distribution parameters must be deterministically zero for national models. tau_g_excl_baseline has been automatically set to Deterministic(0).\n",
      "  warnings.warn(\n",
      "c:\\Users\\GagandeepBajwa\\Documents\\impact_V2\\venv\\Lib\\site-packages\\meridian\\model\\prior_distribution.py:852: UserWarning: Hierarchical distribution parameters must be deterministically zero for national models. eta_m has been automatically set to Deterministic(0).\n",
      "  warnings.warn(\n",
      "c:\\Users\\GagandeepBajwa\\Documents\\impact_V2\\venv\\Lib\\site-packages\\meridian\\model\\prior_distribution.py:852: UserWarning: Hierarchical distribution parameters must be deterministically zero for national models. eta_rf has been automatically set to Deterministic(0).\n",
      "  warnings.warn(\n",
      "c:\\Users\\GagandeepBajwa\\Documents\\impact_V2\\venv\\Lib\\site-packages\\meridian\\model\\prior_distribution.py:852: UserWarning: Hierarchical distribution parameters must be deterministically zero for national models. eta_om has been automatically set to Deterministic(0).\n",
      "  warnings.warn(\n",
      "c:\\Users\\GagandeepBajwa\\Documents\\impact_V2\\venv\\Lib\\site-packages\\meridian\\model\\prior_distribution.py:852: UserWarning: Hierarchical distribution parameters must be deterministically zero for national models. eta_orf has been automatically set to Deterministic(0).\n",
      "  warnings.warn(\n",
      "c:\\Users\\GagandeepBajwa\\Documents\\impact_V2\\venv\\Lib\\site-packages\\meridian\\model\\prior_distribution.py:852: UserWarning: Hierarchical distribution parameters must be deterministically zero for national models. xi_c has been automatically set to Deterministic(0).\n",
      "  warnings.warn(\n",
      "c:\\Users\\GagandeepBajwa\\Documents\\impact_V2\\venv\\Lib\\site-packages\\meridian\\model\\prior_distribution.py:852: UserWarning: Hierarchical distribution parameters must be deterministically zero for national models. xi_n has been automatically set to Deterministic(0).\n",
      "  warnings.warn(\n"
     ]
    },
    {
     "name": "stdout",
     "output_type": "stream",
     "text": [
      "CPU times: total: 4min 12s\n",
      "Wall time: 4min 26s\n"
     ]
    }
   ],
   "source": [
    "%%time\n",
    "mmm.sample_prior(500)\n",
    "mmm.sample_posterior(n_chains=10, n_adapt=2000, n_burnin=500, n_keep=1000, seed=1)"
   ]
  },
  {
   "cell_type": "code",
   "execution_count": 8,
   "id": "aeb25723",
   "metadata": {},
   "outputs": [
    {
     "data": {
      "text/html": [
       "\n",
       "<style>\n",
       "  #altair-viz-eac74b157d2d4e50ac99812153bc3ed6.vega-embed {\n",
       "    width: 100%;\n",
       "    display: flex;\n",
       "  }\n",
       "\n",
       "  #altair-viz-eac74b157d2d4e50ac99812153bc3ed6.vega-embed details,\n",
       "  #altair-viz-eac74b157d2d4e50ac99812153bc3ed6.vega-embed details summary {\n",
       "    position: relative;\n",
       "  }\n",
       "</style>\n",
       "<div id=\"altair-viz-eac74b157d2d4e50ac99812153bc3ed6\"></div>\n",
       "<script type=\"text/javascript\">\n",
       "  var VEGA_DEBUG = (typeof VEGA_DEBUG == \"undefined\") ? {} : VEGA_DEBUG;\n",
       "  (function(spec, embedOpt){\n",
       "    let outputDiv = document.currentScript.previousElementSibling;\n",
       "    if (outputDiv.id !== \"altair-viz-eac74b157d2d4e50ac99812153bc3ed6\") {\n",
       "      outputDiv = document.getElementById(\"altair-viz-eac74b157d2d4e50ac99812153bc3ed6\");\n",
       "    }\n",
       "\n",
       "    const paths = {\n",
       "      \"vega\": \"https://cdn.jsdelivr.net/npm/vega@5?noext\",\n",
       "      \"vega-lib\": \"https://cdn.jsdelivr.net/npm/vega-lib?noext\",\n",
       "      \"vega-lite\": \"https://cdn.jsdelivr.net/npm/vega-lite@5.20.1?noext\",\n",
       "      \"vega-embed\": \"https://cdn.jsdelivr.net/npm/vega-embed@6?noext\",\n",
       "    };\n",
       "\n",
       "    function maybeLoadScript(lib, version) {\n",
       "      var key = `${lib.replace(\"-\", \"\")}_version`;\n",
       "      return (VEGA_DEBUG[key] == version) ?\n",
       "        Promise.resolve(paths[lib]) :\n",
       "        new Promise(function(resolve, reject) {\n",
       "          var s = document.createElement('script');\n",
       "          document.getElementsByTagName(\"head\")[0].appendChild(s);\n",
       "          s.async = true;\n",
       "          s.onload = () => {\n",
       "            VEGA_DEBUG[key] = version;\n",
       "            return resolve(paths[lib]);\n",
       "          };\n",
       "          s.onerror = () => reject(`Error loading script: ${paths[lib]}`);\n",
       "          s.src = paths[lib];\n",
       "        });\n",
       "    }\n",
       "\n",
       "    function showError(err) {\n",
       "      outputDiv.innerHTML = `<div class=\"error\" style=\"color:red;\">${err}</div>`;\n",
       "      throw err;\n",
       "    }\n",
       "\n",
       "    function displayChart(vegaEmbed) {\n",
       "      vegaEmbed(outputDiv, spec, embedOpt)\n",
       "        .catch(err => showError(`Javascript Error: ${err.message}<br>This usually means there's a typo in your chart specification. See the javascript console for the full traceback.`));\n",
       "    }\n",
       "\n",
       "    if(typeof define === \"function\" && define.amd) {\n",
       "      requirejs.config({paths});\n",
       "      let deps = [\"vega-embed\"];\n",
       "      require(deps, displayChart, err => showError(`Error loading script: ${err.message}`));\n",
       "    } else {\n",
       "      maybeLoadScript(\"vega\", \"5\")\n",
       "        .then(() => maybeLoadScript(\"vega-lite\", \"5.20.1\"))\n",
       "        .then(() => maybeLoadScript(\"vega-embed\", \"6\"))\n",
       "        .catch(showError)\n",
       "        .then(() => displayChart(vegaEmbed));\n",
       "    }\n",
       "  })({\"config\": {\"view\": {\"continuousWidth\": 300, \"continuousHeight\": 300}, \"axis\": {\"labelColor\": \"#5F6368\", \"labelFont\": \"Roboto\", \"labelFontSize\": 12, \"titleColor\": \"#5F6368\", \"titleFont\": \"Roboto\", \"titleFontSize\": 12, \"titleFontWeight\": \"normal\"}}, \"layer\": [{\"data\": {\"name\": \"data-719deebb6817ec6f26ab135eeec8bd02\"}, \"mark\": {\"type\": \"boxplot\", \"median\": {\"color\": \"#8AB4F8\"}, \"outliers\": {\"filled\": true}}, \"encoding\": {\"x\": {\"axis\": {\"labelAngle\": -45}, \"field\": \"parameter\", \"type\": \"nominal\"}, \"y\": {\"field\": \"rhat\", \"scale\": {\"zero\": false}, \"type\": \"quantitative\"}}}, {\"data\": {\"name\": \"empty\"}, \"mark\": {\"type\": \"rule\", \"color\": \"#D93025\", \"opacity\": 0.8}, \"encoding\": {\"y\": {\"datum\": 1}}}], \"title\": {\"text\": \"R-hat Convergence Diagnostic\", \"anchor\": \"start\", \"color\": \"#3C4043\", \"font\": \"Google Sans Display\", \"fontSize\": 18, \"fontWeight\": \"normal\", \"offset\": 10}, \"width\": 400, \"$schema\": \"https://vega.github.io/schema/vega-lite/v5.20.1.json\", \"datasets\": {\"data-719deebb6817ec6f26ab135eeec8bd02\": [{\"parameter\": \"alpha_m\", \"rhat\": 1.0011883974075317}, {\"parameter\": \"alpha_m\", \"rhat\": 1.0004833936691284}, {\"parameter\": \"alpha_m\", \"rhat\": 1.0003793239593506}, {\"parameter\": \"alpha_m\", \"rhat\": 0.9993759393692017}, {\"parameter\": \"alpha_m\", \"rhat\": 1.0001299381256104}, {\"parameter\": \"alpha_om\", \"rhat\": 0.9994734525680542}, {\"parameter\": \"beta_gm\", \"rhat\": 1.0011889934539795}, {\"parameter\": \"beta_gm\", \"rhat\": 0.9994558095932007}, {\"parameter\": \"beta_gm\", \"rhat\": 1.0006028413772583}, {\"parameter\": \"beta_gm\", \"rhat\": 0.9997955560684204}, {\"parameter\": \"beta_gm\", \"rhat\": 0.9994659423828125}, {\"parameter\": \"beta_gom\", \"rhat\": 1.0010571479797363}, {\"parameter\": \"beta_m\", \"rhat\": 1.0011889934539795}, {\"parameter\": \"beta_m\", \"rhat\": 0.9994558095932007}, {\"parameter\": \"beta_m\", \"rhat\": 1.0006028413772583}, {\"parameter\": \"beta_m\", \"rhat\": 0.9997955560684204}, {\"parameter\": \"beta_m\", \"rhat\": 0.9994659423828125}, {\"parameter\": \"beta_om\", \"rhat\": 1.0010571479797363}, {\"parameter\": \"ec_m\", \"rhat\": 1.0006166696548462}, {\"parameter\": \"ec_m\", \"rhat\": 0.9998811483383179}, {\"parameter\": \"ec_m\", \"rhat\": 1.0000874996185303}, {\"parameter\": \"ec_m\", \"rhat\": 1.0006839036941528}, {\"parameter\": \"ec_m\", \"rhat\": 1.000205636024475}, {\"parameter\": \"ec_om\", \"rhat\": 1.0003968477249146}, {\"parameter\": \"gamma_c\", \"rhat\": 1.0011765956878662}, {\"parameter\": \"gamma_gc\", \"rhat\": 1.0011765956878662}, {\"parameter\": \"knot_values\", \"rhat\": 1.0021830797195435}, {\"parameter\": \"mu_t\", \"rhat\": 1.002182960510254}, {\"parameter\": \"mu_t\", \"rhat\": 1.002182960510254}, {\"parameter\": \"mu_t\", \"rhat\": 1.002182960510254}, {\"parameter\": \"mu_t\", \"rhat\": 1.002182960510254}, {\"parameter\": \"mu_t\", \"rhat\": 1.002182960510254}, {\"parameter\": \"mu_t\", \"rhat\": 1.002182960510254}, {\"parameter\": \"mu_t\", \"rhat\": 1.002182960510254}, {\"parameter\": \"mu_t\", \"rhat\": 1.002182960510254}, {\"parameter\": \"mu_t\", \"rhat\": 1.002182960510254}, {\"parameter\": \"mu_t\", \"rhat\": 1.002182960510254}, {\"parameter\": \"mu_t\", \"rhat\": 1.002182960510254}, {\"parameter\": \"mu_t\", \"rhat\": 1.002182960510254}, {\"parameter\": \"mu_t\", \"rhat\": 1.002182960510254}, {\"parameter\": \"mu_t\", \"rhat\": 1.002182960510254}, {\"parameter\": \"mu_t\", \"rhat\": 1.002182960510254}, {\"parameter\": \"mu_t\", \"rhat\": 1.002182960510254}, {\"parameter\": \"mu_t\", \"rhat\": 1.002182960510254}, {\"parameter\": \"mu_t\", \"rhat\": 1.002182960510254}, {\"parameter\": \"mu_t\", \"rhat\": 1.002182960510254}, {\"parameter\": \"mu_t\", \"rhat\": 1.002182960510254}, {\"parameter\": \"mu_t\", \"rhat\": 1.002182960510254}, {\"parameter\": \"mu_t\", \"rhat\": 1.002182960510254}, {\"parameter\": \"mu_t\", \"rhat\": 1.002182960510254}, {\"parameter\": \"mu_t\", \"rhat\": 1.002182960510254}, {\"parameter\": \"mu_t\", \"rhat\": 1.002182960510254}, {\"parameter\": \"mu_t\", \"rhat\": 1.002182960510254}, {\"parameter\": \"mu_t\", \"rhat\": 1.002182960510254}, {\"parameter\": \"mu_t\", \"rhat\": 1.002182960510254}, {\"parameter\": \"mu_t\", \"rhat\": 1.002182960510254}, {\"parameter\": \"mu_t\", \"rhat\": 1.002182960510254}, {\"parameter\": \"mu_t\", \"rhat\": 1.002182960510254}, {\"parameter\": \"mu_t\", \"rhat\": 1.002182960510254}, {\"parameter\": \"mu_t\", \"rhat\": 1.002182960510254}, {\"parameter\": \"mu_t\", \"rhat\": 1.002182960510254}, {\"parameter\": \"mu_t\", \"rhat\": 1.002182960510254}, {\"parameter\": \"mu_t\", \"rhat\": 1.002182960510254}, {\"parameter\": \"mu_t\", \"rhat\": 1.002182960510254}, {\"parameter\": \"mu_t\", \"rhat\": 1.002182960510254}, {\"parameter\": \"mu_t\", \"rhat\": 1.002182960510254}, {\"parameter\": \"mu_t\", \"rhat\": 1.002182960510254}, {\"parameter\": \"mu_t\", \"rhat\": 1.002182960510254}, {\"parameter\": \"mu_t\", \"rhat\": 1.002182960510254}, {\"parameter\": \"mu_t\", \"rhat\": 1.002182960510254}, {\"parameter\": \"mu_t\", \"rhat\": 1.002182960510254}, {\"parameter\": \"mu_t\", \"rhat\": 1.002182960510254}, {\"parameter\": \"mu_t\", \"rhat\": 1.002182960510254}, {\"parameter\": \"mu_t\", \"rhat\": 1.002182960510254}, {\"parameter\": \"mu_t\", \"rhat\": 1.002182960510254}, {\"parameter\": \"mu_t\", \"rhat\": 1.002182960510254}, {\"parameter\": \"mu_t\", \"rhat\": 1.002182960510254}, {\"parameter\": \"mu_t\", \"rhat\": 1.002182960510254}, {\"parameter\": \"mu_t\", \"rhat\": 1.002182960510254}, {\"parameter\": \"mu_t\", \"rhat\": 1.002182960510254}, {\"parameter\": \"mu_t\", \"rhat\": 1.002182960510254}, {\"parameter\": \"mu_t\", \"rhat\": 1.002182960510254}, {\"parameter\": \"mu_t\", \"rhat\": 1.002182960510254}, {\"parameter\": \"mu_t\", \"rhat\": 1.002182960510254}, {\"parameter\": \"mu_t\", \"rhat\": 1.002182960510254}, {\"parameter\": \"mu_t\", \"rhat\": 1.002182960510254}, {\"parameter\": \"mu_t\", \"rhat\": 1.002182960510254}, {\"parameter\": \"mu_t\", \"rhat\": 1.002182960510254}, {\"parameter\": \"mu_t\", \"rhat\": 1.002182960510254}, {\"parameter\": \"mu_t\", \"rhat\": 1.002182960510254}, {\"parameter\": \"mu_t\", \"rhat\": 1.002182960510254}, {\"parameter\": \"mu_t\", \"rhat\": 1.002182960510254}, {\"parameter\": \"mu_t\", \"rhat\": 1.002182960510254}, {\"parameter\": \"mu_t\", \"rhat\": 1.002182960510254}, {\"parameter\": \"mu_t\", \"rhat\": 1.002182960510254}, {\"parameter\": \"mu_t\", \"rhat\": 1.002182960510254}, {\"parameter\": \"mu_t\", \"rhat\": 1.002182960510254}, {\"parameter\": \"mu_t\", \"rhat\": 1.002182960510254}, {\"parameter\": \"mu_t\", \"rhat\": 1.002182960510254}, {\"parameter\": \"mu_t\", \"rhat\": 1.002182960510254}, {\"parameter\": \"mu_t\", \"rhat\": 1.002182960510254}, {\"parameter\": \"mu_t\", \"rhat\": 1.002182960510254}, {\"parameter\": \"mu_t\", \"rhat\": 1.002182960510254}, {\"parameter\": \"mu_t\", \"rhat\": 1.002182960510254}, {\"parameter\": \"mu_t\", \"rhat\": 1.002182960510254}, {\"parameter\": \"mu_t\", \"rhat\": 1.002182960510254}, {\"parameter\": \"mu_t\", \"rhat\": 1.002182960510254}, {\"parameter\": \"mu_t\", \"rhat\": 1.002182960510254}, {\"parameter\": \"mu_t\", \"rhat\": 1.002182960510254}, {\"parameter\": \"mu_t\", \"rhat\": 1.002182960510254}, {\"parameter\": \"mu_t\", \"rhat\": 1.002182960510254}, {\"parameter\": \"mu_t\", \"rhat\": 1.002182960510254}, {\"parameter\": \"mu_t\", \"rhat\": 1.002182960510254}, {\"parameter\": \"mu_t\", \"rhat\": 1.002182960510254}, {\"parameter\": \"mu_t\", \"rhat\": 1.002182960510254}, {\"parameter\": \"mu_t\", \"rhat\": 1.002182960510254}, {\"parameter\": \"mu_t\", \"rhat\": 1.002182960510254}, {\"parameter\": \"mu_t\", \"rhat\": 1.002182960510254}, {\"parameter\": \"mu_t\", \"rhat\": 1.002182960510254}, {\"parameter\": \"mu_t\", \"rhat\": 1.002182960510254}, {\"parameter\": \"mu_t\", \"rhat\": 1.002182960510254}, {\"parameter\": \"mu_t\", \"rhat\": 1.002182960510254}, {\"parameter\": \"mu_t\", \"rhat\": 1.002182960510254}, {\"parameter\": \"mu_t\", \"rhat\": 1.002182960510254}, {\"parameter\": \"mu_t\", \"rhat\": 1.002182960510254}, {\"parameter\": \"mu_t\", \"rhat\": 1.002182960510254}, {\"parameter\": \"mu_t\", \"rhat\": 1.002182960510254}, {\"parameter\": \"mu_t\", \"rhat\": 1.002182960510254}, {\"parameter\": \"mu_t\", \"rhat\": 1.002182960510254}, {\"parameter\": \"mu_t\", \"rhat\": 1.002182960510254}, {\"parameter\": \"mu_t\", \"rhat\": 1.002182960510254}, {\"parameter\": \"mu_t\", \"rhat\": 1.002182960510254}, {\"parameter\": \"mu_t\", \"rhat\": 1.002182960510254}, {\"parameter\": \"mu_t\", \"rhat\": 1.002182960510254}, {\"parameter\": \"mu_t\", \"rhat\": 1.002182960510254}, {\"parameter\": \"mu_t\", \"rhat\": 1.002182960510254}, {\"parameter\": \"mu_t\", \"rhat\": 1.002182960510254}, {\"parameter\": \"roi_m\", \"rhat\": 1.0010662078857422}, {\"parameter\": \"roi_m\", \"rhat\": 0.9993849992752075}, {\"parameter\": \"roi_m\", \"rhat\": 1.0014313459396362}, {\"parameter\": \"roi_m\", \"rhat\": 0.9999402761459351}, {\"parameter\": \"roi_m\", \"rhat\": 0.9992014169692993}, {\"parameter\": \"sigma\", \"rhat\": 1.0001330375671387}], \"empty\": [{}]}}, {\"mode\": \"vega-lite\"});\n",
       "</script>"
      ],
      "text/plain": [
       "alt.LayerChart(...)"
      ]
     },
     "execution_count": 8,
     "metadata": {},
     "output_type": "execute_result"
    }
   ],
   "source": [
    "model_diagnostics = visualizer.ModelDiagnostics(mmm)\n",
    "model_diagnostics.plot_rhat_boxplot()"
   ]
  },
  {
   "cell_type": "code",
   "execution_count": 9,
   "id": "dcf18c28",
   "metadata": {},
   "outputs": [
    {
     "name": "stderr",
     "output_type": "stream",
     "text": [
      "c:\\Users\\GagandeepBajwa\\Documents\\impact_V2\\venv\\Lib\\site-packages\\meridian\\analysis\\analyzer.py:540: UserWarning: The `aggregate_geos` argument is ignored in the national model. It will be reset to `True`.\n",
      "  warnings.warn(\n"
     ]
    },
    {
     "data": {
      "text/html": [
       "\n",
       "<style>\n",
       "  #altair-viz-805b3ff95a2f440b84fe4f937744cd5f.vega-embed {\n",
       "    width: 100%;\n",
       "    display: flex;\n",
       "  }\n",
       "\n",
       "  #altair-viz-805b3ff95a2f440b84fe4f937744cd5f.vega-embed details,\n",
       "  #altair-viz-805b3ff95a2f440b84fe4f937744cd5f.vega-embed details summary {\n",
       "    position: relative;\n",
       "  }\n",
       "</style>\n",
       "<div id=\"altair-viz-805b3ff95a2f440b84fe4f937744cd5f\"></div>\n",
       "<script type=\"text/javascript\">\n",
       "  var VEGA_DEBUG = (typeof VEGA_DEBUG == \"undefined\") ? {} : VEGA_DEBUG;\n",
       "  (function(spec, embedOpt){\n",
       "    let outputDiv = document.currentScript.previousElementSibling;\n",
       "    if (outputDiv.id !== \"altair-viz-805b3ff95a2f440b84fe4f937744cd5f\") {\n",
       "      outputDiv = document.getElementById(\"altair-viz-805b3ff95a2f440b84fe4f937744cd5f\");\n",
       "    }\n",
       "\n",
       "    const paths = {\n",
       "      \"vega\": \"https://cdn.jsdelivr.net/npm/vega@5?noext\",\n",
       "      \"vega-lib\": \"https://cdn.jsdelivr.net/npm/vega-lib?noext\",\n",
       "      \"vega-lite\": \"https://cdn.jsdelivr.net/npm/vega-lite@5.20.1?noext\",\n",
       "      \"vega-embed\": \"https://cdn.jsdelivr.net/npm/vega-embed@6?noext\",\n",
       "    };\n",
       "\n",
       "    function maybeLoadScript(lib, version) {\n",
       "      var key = `${lib.replace(\"-\", \"\")}_version`;\n",
       "      return (VEGA_DEBUG[key] == version) ?\n",
       "        Promise.resolve(paths[lib]) :\n",
       "        new Promise(function(resolve, reject) {\n",
       "          var s = document.createElement('script');\n",
       "          document.getElementsByTagName(\"head\")[0].appendChild(s);\n",
       "          s.async = true;\n",
       "          s.onload = () => {\n",
       "            VEGA_DEBUG[key] = version;\n",
       "            return resolve(paths[lib]);\n",
       "          };\n",
       "          s.onerror = () => reject(`Error loading script: ${paths[lib]}`);\n",
       "          s.src = paths[lib];\n",
       "        });\n",
       "    }\n",
       "\n",
       "    function showError(err) {\n",
       "      outputDiv.innerHTML = `<div class=\"error\" style=\"color:red;\">${err}</div>`;\n",
       "      throw err;\n",
       "    }\n",
       "\n",
       "    function displayChart(vegaEmbed) {\n",
       "      vegaEmbed(outputDiv, spec, embedOpt)\n",
       "        .catch(err => showError(`Javascript Error: ${err.message}<br>This usually means there's a typo in your chart specification. See the javascript console for the full traceback.`));\n",
       "    }\n",
       "\n",
       "    if(typeof define === \"function\" && define.amd) {\n",
       "      requirejs.config({paths});\n",
       "      let deps = [\"vega-embed\"];\n",
       "      require(deps, displayChart, err => showError(`Error loading script: ${err.message}`));\n",
       "    } else {\n",
       "      maybeLoadScript(\"vega\", \"5\")\n",
       "        .then(() => maybeLoadScript(\"vega-lite\", \"5.20.1\"))\n",
       "        .then(() => maybeLoadScript(\"vega-embed\", \"6\"))\n",
       "        .catch(showError)\n",
       "        .then(() => displayChart(vegaEmbed));\n",
       "    }\n",
       "  })({\"config\": {\"view\": {\"continuousWidth\": 300, \"continuousHeight\": 300}, \"axis\": {\"labelColor\": \"#5F6368\", \"labelFont\": \"Roboto\", \"labelFontSize\": 12, \"titleColor\": \"#5F6368\", \"titleFont\": \"Roboto\", \"titleFontSize\": 12, \"titleFontWeight\": \"normal\"}}, \"layer\": [{\"mark\": {\"type\": \"line\"}, \"encoding\": {\"color\": {\"field\": \"type\", \"scale\": {\"domain\": [\"expected\", \"actual\", \"baseline\"], \"range\": [\"#1A73E8\", \"#81C995\", \"#F9AB00\"]}, \"type\": \"nominal\"}, \"x\": {\"axis\": {\"domainColor\": \"#DADCE0\", \"format\": \"%Y %b\", \"grid\": false, \"tickCount\": 8}, \"field\": \"time\", \"title\": \"Time period\", \"type\": \"temporal\"}, \"y\": {\"axis\": {\"domain\": false, \"labelExpr\": \"replace(format(datum.value, '.3~s'), 'G', 'B')\", \"labelPadding\": 10, \"tickCount\": 5, \"ticks\": false, \"titleAlign\": \"left\", \"titleAngle\": 0, \"titleY\": -20}, \"field\": \"mean\", \"title\": \"Revenue\", \"type\": \"quantitative\"}}}, {\"mark\": {\"type\": \"area\", \"opacity\": 0.3}, \"encoding\": {\"color\": {\"field\": \"type\", \"legend\": null, \"scale\": {\"domain\": [\"expected\"], \"range\": [\"#1A73E8\"]}, \"type\": \"nominal\"}, \"x\": {\"field\": \"time\", \"type\": \"temporal\"}, \"y\": {\"field\": \"ci_hi\", \"type\": \"quantitative\"}, \"y2\": {\"field\": \"ci_lo\"}}}], \"data\": {\"name\": \"data-db2052d7cb66cdea570603a25ad5895c\"}, \"resolve\": {\"scale\": {\"color\": \"independent\"}}, \"title\": {\"text\": \"Expected revenue vs. actual revenue\", \"anchor\": \"start\", \"color\": \"#3C4043\", \"font\": \"Google Sans Display\", \"fontSize\": 18, \"fontWeight\": \"normal\", \"offset\": 10}, \"width\": 900, \"$schema\": \"https://vega.github.io/schema/vega-lite/v5.20.1.json\", \"datasets\": {\"data-db2052d7cb66cdea570603a25ad5895c\": [{\"time\": \"2023-03-27\", \"type\": \"actual\", \"ci_hi\": 85739.4765625, \"ci_lo\": 85739.4765625, \"mean\": 85739.4765625}, {\"time\": \"2023-03-27\", \"type\": \"baseline\", \"ci_hi\": -30697.041015625, \"ci_lo\": -292988.0625, \"mean\": -146102.15625}, {\"time\": \"2023-03-27\", \"type\": \"expected\", \"ci_hi\": 100160.921875, \"ci_lo\": -13128.892578125, \"mean\": 46179.1640625}, {\"time\": \"2023-04-03\", \"type\": \"actual\", \"ci_hi\": 218566.03125, \"ci_lo\": 218566.03125, \"mean\": 218566.03125}, {\"time\": \"2023-04-03\", \"type\": \"baseline\", \"ci_hi\": -30697.041015625, \"ci_lo\": -292988.0625, \"mean\": -146102.15625}, {\"time\": \"2023-04-03\", \"type\": \"expected\", \"ci_hi\": 285029.09375, \"ci_lo\": 204318.59375, \"mean\": 247179.546875}, {\"time\": \"2023-04-10\", \"type\": \"actual\", \"ci_hi\": 284758.15625, \"ci_lo\": 284758.15625, \"mean\": 284758.15625}, {\"time\": \"2023-04-10\", \"type\": \"baseline\", \"ci_hi\": -30697.041015625, \"ci_lo\": -292988.0625, \"mean\": -146102.15625}, {\"time\": \"2023-04-10\", \"type\": \"expected\", \"ci_hi\": 331755.375, \"ci_lo\": 267310.9375, \"mean\": 302264.90625}, {\"time\": \"2023-04-17\", \"type\": \"actual\", \"ci_hi\": 238625.984375, \"ci_lo\": 238625.984375, \"mean\": 238625.984375}, {\"time\": \"2023-04-17\", \"type\": \"baseline\", \"ci_hi\": -30697.041015625, \"ci_lo\": -292988.0625, \"mean\": -146102.15625}, {\"time\": \"2023-04-17\", \"type\": \"expected\", \"ci_hi\": 329488.96875, \"ci_lo\": 279574.3125, \"mean\": 306744.1875}, {\"time\": \"2023-04-24\", \"type\": \"actual\", \"ci_hi\": 281379.1875, \"ci_lo\": 281379.1875, \"mean\": 281379.1875}, {\"time\": \"2023-04-24\", \"type\": \"baseline\", \"ci_hi\": -30697.041015625, \"ci_lo\": -292988.0625, \"mean\": -146102.15625}, {\"time\": \"2023-04-24\", \"type\": \"expected\", \"ci_hi\": 308620.6875, \"ci_lo\": 270956.28125, \"mean\": 291197.59375}, {\"time\": \"2023-05-01\", \"type\": \"actual\", \"ci_hi\": 295090.53125, \"ci_lo\": 295090.53125, \"mean\": 295090.53125}, {\"time\": \"2023-05-01\", \"type\": \"baseline\", \"ci_hi\": -30697.041015625, \"ci_lo\": -292988.0625, \"mean\": -146102.15625}, {\"time\": \"2023-05-01\", \"type\": \"expected\", \"ci_hi\": 342048.6875, \"ci_lo\": 302647.8125, \"mean\": 323099.375}, {\"time\": \"2023-05-08\", \"type\": \"actual\", \"ci_hi\": 354746.0, \"ci_lo\": 354746.0, \"mean\": 354746.0}, {\"time\": \"2023-05-08\", \"type\": \"baseline\", \"ci_hi\": -30697.041015625, \"ci_lo\": -292988.0625, \"mean\": -146102.15625}, {\"time\": \"2023-05-08\", \"type\": \"expected\", \"ci_hi\": 330478.8125, \"ci_lo\": 296048.3125, \"mean\": 313713.78125}, {\"time\": \"2023-05-15\", \"type\": \"actual\", \"ci_hi\": 230501.796875, \"ci_lo\": 230501.796875, \"mean\": 230501.796875}, {\"time\": \"2023-05-15\", \"type\": \"baseline\", \"ci_hi\": -30697.041015625, \"ci_lo\": -292988.0625, \"mean\": -146102.15625}, {\"time\": \"2023-05-15\", \"type\": \"expected\", \"ci_hi\": 342796.34375, \"ci_lo\": 304751.5, \"mean\": 324535.1875}, {\"time\": \"2023-05-22\", \"type\": \"actual\", \"ci_hi\": 261650.625, \"ci_lo\": 261650.625, \"mean\": 261650.625}, {\"time\": \"2023-05-22\", \"type\": \"baseline\", \"ci_hi\": -30697.041015625, \"ci_lo\": -292988.0625, \"mean\": -146102.15625}, {\"time\": \"2023-05-22\", \"type\": \"expected\", \"ci_hi\": 333658.71875, \"ci_lo\": 301349.90625, \"mean\": 317566.34375}, {\"time\": \"2023-05-29\", \"type\": \"actual\", \"ci_hi\": 301327.0625, \"ci_lo\": 301327.0625, \"mean\": 301327.0625}, {\"time\": \"2023-05-29\", \"type\": \"baseline\", \"ci_hi\": -30697.041015625, \"ci_lo\": -292988.0625, \"mean\": -146102.15625}, {\"time\": \"2023-05-29\", \"type\": \"expected\", \"ci_hi\": 364027.34375, \"ci_lo\": 317757.71875, \"mean\": 341859.15625}, {\"time\": \"2023-06-05\", \"type\": \"actual\", \"ci_hi\": 287988.75, \"ci_lo\": 287988.75, \"mean\": 287988.75}, {\"time\": \"2023-06-05\", \"type\": \"baseline\", \"ci_hi\": -30697.041015625, \"ci_lo\": -292988.0625, \"mean\": -146102.15625}, {\"time\": \"2023-06-05\", \"type\": \"expected\", \"ci_hi\": 383767.90625, \"ci_lo\": 329076.25, \"mean\": 357177.03125}, {\"time\": \"2023-06-12\", \"type\": \"actual\", \"ci_hi\": 297923.21875, \"ci_lo\": 297923.21875, \"mean\": 297923.21875}, {\"time\": \"2023-06-12\", \"type\": \"baseline\", \"ci_hi\": -30697.041015625, \"ci_lo\": -292988.0625, \"mean\": -146102.15625}, {\"time\": \"2023-06-12\", \"type\": \"expected\", \"ci_hi\": 371439.15625, \"ci_lo\": 323319.09375, \"mean\": 348199.25}, {\"time\": \"2023-06-19\", \"type\": \"actual\", \"ci_hi\": 266178.71875, \"ci_lo\": 266178.71875, \"mean\": 266178.71875}, {\"time\": \"2023-06-19\", \"type\": \"baseline\", \"ci_hi\": -30697.041015625, \"ci_lo\": -292988.0625, \"mean\": -146102.15625}, {\"time\": \"2023-06-19\", \"type\": \"expected\", \"ci_hi\": 316892.96875, \"ci_lo\": 249044.921875, \"mean\": 284469.59375}, {\"time\": \"2023-06-26\", \"type\": \"actual\", \"ci_hi\": 212131.03125, \"ci_lo\": 212131.03125, \"mean\": 212131.03125}, {\"time\": \"2023-06-26\", \"type\": \"baseline\", \"ci_hi\": -30697.041015625, \"ci_lo\": -292988.0625, \"mean\": -146102.15625}, {\"time\": \"2023-06-26\", \"type\": \"expected\", \"ci_hi\": 277426.125, \"ci_lo\": 215199.75, \"mean\": 243510.046875}, {\"time\": \"2023-07-03\", \"type\": \"actual\", \"ci_hi\": 172204.4375, \"ci_lo\": 172204.4375, \"mean\": 172204.4375}, {\"time\": \"2023-07-03\", \"type\": \"baseline\", \"ci_hi\": -30697.041015625, \"ci_lo\": -292988.0625, \"mean\": -146102.15625}, {\"time\": \"2023-07-03\", \"type\": \"expected\", \"ci_hi\": 258260.921875, \"ci_lo\": 207119.296875, \"mean\": 230399.109375}, {\"time\": \"2023-07-10\", \"type\": \"actual\", \"ci_hi\": 137605.171875, \"ci_lo\": 137605.171875, \"mean\": 137605.171875}, {\"time\": \"2023-07-10\", \"type\": \"baseline\", \"ci_hi\": -30697.041015625, \"ci_lo\": -292988.0625, \"mean\": -146102.15625}, {\"time\": \"2023-07-10\", \"type\": \"expected\", \"ci_hi\": 234613.390625, \"ci_lo\": 187629.25, \"mean\": 209231.921875}, {\"time\": \"2023-07-17\", \"type\": \"actual\", \"ci_hi\": 181781.1875, \"ci_lo\": 181781.1875, \"mean\": 181781.1875}, {\"time\": \"2023-07-17\", \"type\": \"baseline\", \"ci_hi\": -30697.041015625, \"ci_lo\": -292988.0625, \"mean\": -146102.15625}, {\"time\": \"2023-07-17\", \"type\": \"expected\", \"ci_hi\": 240748.453125, \"ci_lo\": 194230.125, \"mean\": 215953.96875}, {\"time\": \"2023-07-24\", \"type\": \"actual\", \"ci_hi\": 205570.578125, \"ci_lo\": 205570.578125, \"mean\": 205570.578125}, {\"time\": \"2023-07-24\", \"type\": \"baseline\", \"ci_hi\": -30697.041015625, \"ci_lo\": -292988.0625, \"mean\": -146102.15625}, {\"time\": \"2023-07-24\", \"type\": \"expected\", \"ci_hi\": 265736.875, \"ci_lo\": 208212.78125, \"mean\": 235921.515625}, {\"time\": \"2023-07-31\", \"type\": \"actual\", \"ci_hi\": 183860.84375, \"ci_lo\": 183860.84375, \"mean\": 183860.84375}, {\"time\": \"2023-07-31\", \"type\": \"baseline\", \"ci_hi\": -30697.041015625, \"ci_lo\": -292988.0625, \"mean\": -146102.15625}, {\"time\": \"2023-07-31\", \"type\": \"expected\", \"ci_hi\": 240852.0625, \"ci_lo\": 199065.125, \"mean\": 218556.109375}, {\"time\": \"2023-08-07\", \"type\": \"actual\", \"ci_hi\": 180266.46875, \"ci_lo\": 180266.46875, \"mean\": 180266.46875}, {\"time\": \"2023-08-07\", \"type\": \"baseline\", \"ci_hi\": -30697.041015625, \"ci_lo\": -292988.0625, \"mean\": -146102.15625}, {\"time\": \"2023-08-07\", \"type\": \"expected\", \"ci_hi\": 242321.421875, \"ci_lo\": 196823.046875, \"mean\": 218458.015625}, {\"time\": \"2023-08-14\", \"type\": \"actual\", \"ci_hi\": 146588.796875, \"ci_lo\": 146588.796875, \"mean\": 146588.796875}, {\"time\": \"2023-08-14\", \"type\": \"baseline\", \"ci_hi\": -30697.041015625, \"ci_lo\": -292988.0625, \"mean\": -146102.15625}, {\"time\": \"2023-08-14\", \"type\": \"expected\", \"ci_hi\": 209042.109375, \"ci_lo\": 165262.34375, \"mean\": 185950.1875}, {\"time\": \"2023-08-21\", \"type\": \"actual\", \"ci_hi\": 121569.6328125, \"ci_lo\": 121569.6328125, \"mean\": 121569.6328125}, {\"time\": \"2023-08-21\", \"type\": \"baseline\", \"ci_hi\": -30697.041015625, \"ci_lo\": -292988.0625, \"mean\": -146102.15625}, {\"time\": \"2023-08-21\", \"type\": \"expected\", \"ci_hi\": 189888.59375, \"ci_lo\": 145065.359375, \"mean\": 166333.5625}, {\"time\": \"2023-08-28\", \"type\": \"actual\", \"ci_hi\": 153008.28125, \"ci_lo\": 153008.28125, \"mean\": 153008.28125}, {\"time\": \"2023-08-28\", \"type\": \"baseline\", \"ci_hi\": -30697.041015625, \"ci_lo\": -292988.0625, \"mean\": -146102.15625}, {\"time\": \"2023-08-28\", \"type\": \"expected\", \"ci_hi\": 183087.65625, \"ci_lo\": 140325.1875, \"mean\": 160834.796875}, {\"time\": \"2023-09-04\", \"type\": \"actual\", \"ci_hi\": 143557.25, \"ci_lo\": 143557.25, \"mean\": 143557.25}, {\"time\": \"2023-09-04\", \"type\": \"baseline\", \"ci_hi\": -30697.041015625, \"ci_lo\": -292988.0625, \"mean\": -146102.15625}, {\"time\": \"2023-09-04\", \"type\": \"expected\", \"ci_hi\": 186249.046875, \"ci_lo\": 151632.203125, \"mean\": 168531.125}, {\"time\": \"2023-09-11\", \"type\": \"actual\", \"ci_hi\": 124717.0546875, \"ci_lo\": 124717.0546875, \"mean\": 124717.0546875}, {\"time\": \"2023-09-11\", \"type\": \"baseline\", \"ci_hi\": -30697.041015625, \"ci_lo\": -292988.0625, \"mean\": -146102.15625}, {\"time\": \"2023-09-11\", \"type\": \"expected\", \"ci_hi\": 186741.6875, \"ci_lo\": 147261.75, \"mean\": 166685.234375}, {\"time\": \"2023-09-18\", \"type\": \"actual\", \"ci_hi\": 95326.0234375, \"ci_lo\": 95326.0234375, \"mean\": 95326.0234375}, {\"time\": \"2023-09-18\", \"type\": \"baseline\", \"ci_hi\": -30697.041015625, \"ci_lo\": -292988.0625, \"mean\": -146102.15625}, {\"time\": \"2023-09-18\", \"type\": \"expected\", \"ci_hi\": 183831.515625, \"ci_lo\": 146578.484375, \"mean\": 164931.171875}, {\"time\": \"2023-09-25\", \"type\": \"actual\", \"ci_hi\": 138962.703125, \"ci_lo\": 138962.703125, \"mean\": 138962.703125}, {\"time\": \"2023-09-25\", \"type\": \"baseline\", \"ci_hi\": -30697.041015625, \"ci_lo\": -292988.0625, \"mean\": -146102.15625}, {\"time\": \"2023-09-25\", \"type\": \"expected\", \"ci_hi\": 172201.296875, \"ci_lo\": 131673.78125, \"mean\": 151702.5}, {\"time\": \"2023-10-02\", \"type\": \"actual\", \"ci_hi\": 157495.03125, \"ci_lo\": 157495.03125, \"mean\": 157495.03125}, {\"time\": \"2023-10-02\", \"type\": \"baseline\", \"ci_hi\": -30697.041015625, \"ci_lo\": -292988.0625, \"mean\": -146102.15625}, {\"time\": \"2023-10-02\", \"type\": \"expected\", \"ci_hi\": 165076.765625, \"ci_lo\": 124348.7109375, \"mean\": 144243.640625}, {\"time\": \"2023-10-09\", \"type\": \"actual\", \"ci_hi\": 123120.5078125, \"ci_lo\": 123120.5078125, \"mean\": 123120.5078125}, {\"time\": \"2023-10-09\", \"type\": \"baseline\", \"ci_hi\": -30697.041015625, \"ci_lo\": -292988.0625, \"mean\": -146102.15625}, {\"time\": \"2023-10-09\", \"type\": \"expected\", \"ci_hi\": 184065.671875, \"ci_lo\": 150232.3125, \"mean\": 167288.734375}, {\"time\": \"2023-10-16\", \"type\": \"actual\", \"ci_hi\": 136376.671875, \"ci_lo\": 136376.671875, \"mean\": 136376.671875}, {\"time\": \"2023-10-16\", \"type\": \"baseline\", \"ci_hi\": -30697.041015625, \"ci_lo\": -292988.0625, \"mean\": -146102.15625}, {\"time\": \"2023-10-16\", \"type\": \"expected\", \"ci_hi\": 182003.78125, \"ci_lo\": 146899.984375, \"mean\": 164046.484375}, {\"time\": \"2023-10-23\", \"type\": \"actual\", \"ci_hi\": 160853.734375, \"ci_lo\": 160853.734375, \"mean\": 160853.734375}, {\"time\": \"2023-10-23\", \"type\": \"baseline\", \"ci_hi\": -30697.041015625, \"ci_lo\": -292988.0625, \"mean\": -146102.15625}, {\"time\": \"2023-10-23\", \"type\": \"expected\", \"ci_hi\": 197277.546875, \"ci_lo\": 165542.421875, \"mean\": 181379.234375}, {\"time\": \"2023-10-30\", \"type\": \"actual\", \"ci_hi\": 137867.59375, \"ci_lo\": 137867.59375, \"mean\": 137867.59375}, {\"time\": \"2023-10-30\", \"type\": \"baseline\", \"ci_hi\": -30697.041015625, \"ci_lo\": -292988.0625, \"mean\": -146102.15625}, {\"time\": \"2023-10-30\", \"type\": \"expected\", \"ci_hi\": 192051.453125, \"ci_lo\": 160411.265625, \"mean\": 175998.046875}, {\"time\": \"2023-11-06\", \"type\": \"actual\", \"ci_hi\": 150911.203125, \"ci_lo\": 150911.203125, \"mean\": 150911.203125}, {\"time\": \"2023-11-06\", \"type\": \"baseline\", \"ci_hi\": -30697.041015625, \"ci_lo\": -292988.0625, \"mean\": -146102.15625}, {\"time\": \"2023-11-06\", \"type\": \"expected\", \"ci_hi\": 182149.140625, \"ci_lo\": 146900.515625, \"mean\": 164217.59375}, {\"time\": \"2023-11-13\", \"type\": \"actual\", \"ci_hi\": 203455.875, \"ci_lo\": 203455.875, \"mean\": 203455.875}, {\"time\": \"2023-11-13\", \"type\": \"baseline\", \"ci_hi\": -30697.041015625, \"ci_lo\": -292988.0625, \"mean\": -146102.15625}, {\"time\": \"2023-11-13\", \"type\": \"expected\", \"ci_hi\": 176979.484375, \"ci_lo\": 140252.84375, \"mean\": 158259.921875}, {\"time\": \"2023-11-20\", \"type\": \"actual\", \"ci_hi\": 305820.75, \"ci_lo\": 305820.75, \"mean\": 305820.75}, {\"time\": \"2023-11-20\", \"type\": \"baseline\", \"ci_hi\": -30697.041015625, \"ci_lo\": -292988.0625, \"mean\": -146102.15625}, {\"time\": \"2023-11-20\", \"type\": \"expected\", \"ci_hi\": 182840.640625, \"ci_lo\": 141959.5625, \"mean\": 162331.015625}, {\"time\": \"2023-11-27\", \"type\": \"actual\", \"ci_hi\": 149883.09375, \"ci_lo\": 149883.09375, \"mean\": 149883.09375}, {\"time\": \"2023-11-27\", \"type\": \"baseline\", \"ci_hi\": -30697.041015625, \"ci_lo\": -292988.0625, \"mean\": -146102.15625}, {\"time\": \"2023-11-27\", \"type\": \"expected\", \"ci_hi\": 181548.40625, \"ci_lo\": 146173.578125, \"mean\": 163669.953125}, {\"time\": \"2023-12-04\", \"type\": \"actual\", \"ci_hi\": 81270.25, \"ci_lo\": 81270.25, \"mean\": 81270.25}, {\"time\": \"2023-12-04\", \"type\": \"baseline\", \"ci_hi\": -30697.041015625, \"ci_lo\": -292988.0625, \"mean\": -146102.15625}, {\"time\": \"2023-12-04\", \"type\": \"expected\", \"ci_hi\": 164334.859375, \"ci_lo\": 118970.9375, \"mean\": 141174.546875}, {\"time\": \"2023-12-11\", \"type\": \"actual\", \"ci_hi\": 70227.1953125, \"ci_lo\": 70227.1953125, \"mean\": 70227.1953125}, {\"time\": \"2023-12-11\", \"type\": \"baseline\", \"ci_hi\": -30697.041015625, \"ci_lo\": -292988.0625, \"mean\": -146102.15625}, {\"time\": \"2023-12-11\", \"type\": \"expected\", \"ci_hi\": 151885.609375, \"ci_lo\": 101617.390625, \"mean\": 126090.3046875}, {\"time\": \"2023-12-18\", \"type\": \"actual\", \"ci_hi\": 41365.16796875, \"ci_lo\": 41365.16796875, \"mean\": 41365.16796875}, {\"time\": \"2023-12-18\", \"type\": \"baseline\", \"ci_hi\": -30697.041015625, \"ci_lo\": -292988.0625, \"mean\": -146102.15625}, {\"time\": \"2023-12-18\", \"type\": \"expected\", \"ci_hi\": 139554.84375, \"ci_lo\": 80494.3515625, \"mean\": 109527.8046875}, {\"time\": \"2023-12-25\", \"type\": \"actual\", \"ci_hi\": 105169.1015625, \"ci_lo\": 105169.1015625, \"mean\": 105169.1015625}, {\"time\": \"2023-12-25\", \"type\": \"baseline\", \"ci_hi\": -30697.041015625, \"ci_lo\": -292988.0625, \"mean\": -146102.15625}, {\"time\": \"2023-12-25\", \"type\": \"expected\", \"ci_hi\": 163057.0, \"ci_lo\": 122560.046875, \"mean\": 142621.4375}, {\"time\": \"2024-01-01\", \"type\": \"actual\", \"ci_hi\": 157165.71875, \"ci_lo\": 157165.71875, \"mean\": 157165.71875}, {\"time\": \"2024-01-01\", \"type\": \"baseline\", \"ci_hi\": -30697.041015625, \"ci_lo\": -292988.0625, \"mean\": -146102.15625}, {\"time\": \"2024-01-01\", \"type\": \"expected\", \"ci_hi\": 183157.75, \"ci_lo\": 146929.234375, \"mean\": 164920.890625}, {\"time\": \"2024-01-08\", \"type\": \"actual\", \"ci_hi\": 145551.171875, \"ci_lo\": 145551.171875, \"mean\": 145551.171875}, {\"time\": \"2024-01-08\", \"type\": \"baseline\", \"ci_hi\": -114006.0703125, \"ci_lo\": -350468.96875, \"mean\": -215699.0}, {\"time\": \"2024-01-08\", \"type\": \"expected\", \"ci_hi\": 138055.109375, \"ci_lo\": 45982.328125, \"mean\": 92333.8671875}, {\"time\": \"2024-01-15\", \"type\": \"actual\", \"ci_hi\": 141539.09375, \"ci_lo\": 141539.09375, \"mean\": 141539.09375}, {\"time\": \"2024-01-15\", \"type\": \"baseline\", \"ci_hi\": -79404.6015625, \"ci_lo\": -322867.71875, \"mean\": -184327.25}, {\"time\": \"2024-01-15\", \"type\": \"expected\", \"ci_hi\": 155867.5625, \"ci_lo\": 102997.9609375, \"mean\": 130069.7109375}, {\"time\": \"2024-01-22\", \"type\": \"actual\", \"ci_hi\": 175258.78125, \"ci_lo\": 175258.78125, \"mean\": 175258.78125}, {\"time\": \"2024-01-22\", \"type\": \"baseline\", \"ci_hi\": -72326.1953125, \"ci_lo\": -318062.375, \"mean\": -178103.765625}, {\"time\": \"2024-01-22\", \"type\": \"expected\", \"ci_hi\": 168210.953125, \"ci_lo\": 125101.90625, \"mean\": 146893.015625}, {\"time\": \"2024-01-29\", \"type\": \"actual\", \"ci_hi\": 164262.40625, \"ci_lo\": 164262.40625, \"mean\": 164262.40625}, {\"time\": \"2024-01-29\", \"type\": \"baseline\", \"ci_hi\": -73902.078125, \"ci_lo\": -318864.375, \"mean\": -179528.234375}, {\"time\": \"2024-01-29\", \"type\": \"expected\", \"ci_hi\": 163388.0625, \"ci_lo\": 122127.3203125, \"mean\": 142845.21875}, {\"time\": \"2024-02-05\", \"type\": \"actual\", \"ci_hi\": 220058.765625, \"ci_lo\": 220058.765625, \"mean\": 220058.765625}, {\"time\": \"2024-02-05\", \"type\": \"baseline\", \"ci_hi\": -72193.90625, \"ci_lo\": -317929.03125, \"mean\": -177998.421875}, {\"time\": \"2024-02-05\", \"type\": \"expected\", \"ci_hi\": 210618.96875, \"ci_lo\": 161986.78125, \"mean\": 187040.3125}, {\"time\": \"2024-02-12\", \"type\": \"actual\", \"ci_hi\": 189268.0, \"ci_lo\": 189268.0, \"mean\": 189268.0}, {\"time\": \"2024-02-12\", \"type\": \"baseline\", \"ci_hi\": -68606.296875, \"ci_lo\": -315603.28125, \"mean\": -175209.8125}, {\"time\": \"2024-02-12\", \"type\": \"expected\", \"ci_hi\": 209779.9375, \"ci_lo\": 168433.5625, \"mean\": 189585.46875}, {\"time\": \"2024-02-19\", \"type\": \"actual\", \"ci_hi\": 186666.75, \"ci_lo\": 186666.75, \"mean\": 186666.75}, {\"time\": \"2024-02-19\", \"type\": \"baseline\", \"ci_hi\": -61990.84765625, \"ci_lo\": -310840.5625, \"mean\": -169763.140625}, {\"time\": \"2024-02-19\", \"type\": \"expected\", \"ci_hi\": 212407.640625, \"ci_lo\": 175557.96875, \"mean\": 194403.21875}, {\"time\": \"2024-02-26\", \"type\": \"actual\", \"ci_hi\": 171289.40625, \"ci_lo\": 171289.40625, \"mean\": 171289.40625}, {\"time\": \"2024-02-26\", \"type\": \"baseline\", \"ci_hi\": -58286.06640625, \"ci_lo\": -308630.53125, \"mean\": -166856.34375}, {\"time\": \"2024-02-26\", \"type\": \"expected\", \"ci_hi\": 209883.265625, \"ci_lo\": 175272.046875, \"mean\": 193133.46875}, {\"time\": \"2024-03-04\", \"type\": \"actual\", \"ci_hi\": 219704.09375, \"ci_lo\": 219704.09375, \"mean\": 219704.09375}, {\"time\": \"2024-03-04\", \"type\": \"baseline\", \"ci_hi\": -56110.28125, \"ci_lo\": -307486.0, \"mean\": -165249.34375}, {\"time\": \"2024-03-04\", \"type\": \"expected\", \"ci_hi\": 234226.78125, \"ci_lo\": 194096.28125, \"mean\": 214869.375}, {\"time\": \"2024-03-11\", \"type\": \"actual\", \"ci_hi\": 234839.328125, \"ci_lo\": 234839.328125, \"mean\": 234839.328125}, {\"time\": \"2024-03-11\", \"type\": \"baseline\", \"ci_hi\": -50723.5390625, \"ci_lo\": -303480.34375, \"mean\": -160940.171875}, {\"time\": \"2024-03-11\", \"type\": \"expected\", \"ci_hi\": 245899.34375, \"ci_lo\": 205571.453125, \"mean\": 226671.828125}, {\"time\": \"2024-03-18\", \"type\": \"actual\", \"ci_hi\": 201742.28125, \"ci_lo\": 201742.28125, \"mean\": 201742.28125}, {\"time\": \"2024-03-18\", \"type\": \"baseline\", \"ci_hi\": -33579.3984375, \"ci_lo\": -294518.53125, \"mean\": -148200.03125}, {\"time\": \"2024-03-18\", \"type\": \"expected\", \"ci_hi\": 246679.515625, \"ci_lo\": 218478.3125, \"mean\": 233050.4375}, {\"time\": \"2024-03-25\", \"type\": \"actual\", \"ci_hi\": 270904.4375, \"ci_lo\": 270904.4375, \"mean\": 270904.4375}, {\"time\": \"2024-03-25\", \"type\": \"baseline\", \"ci_hi\": -37254.15234375, \"ci_lo\": -296496.375, \"mean\": -150845.140625}, {\"time\": \"2024-03-25\", \"type\": \"expected\", \"ci_hi\": 248997.0625, \"ci_lo\": 224468.234375, \"mean\": 236995.015625}, {\"time\": \"2024-04-01\", \"type\": \"actual\", \"ci_hi\": 242245.953125, \"ci_lo\": 242245.953125, \"mean\": 242245.953125}, {\"time\": \"2024-04-01\", \"type\": \"baseline\", \"ci_hi\": -27217.021484375, \"ci_lo\": -290585.84375, \"mean\": -143378.90625}, {\"time\": \"2024-04-01\", \"type\": \"expected\", \"ci_hi\": 274227.6875, \"ci_lo\": 249369.734375, \"mean\": 261889.84375}, {\"time\": \"2024-04-08\", \"type\": \"actual\", \"ci_hi\": 234180.546875, \"ci_lo\": 234180.546875, \"mean\": 234180.546875}, {\"time\": \"2024-04-08\", \"type\": \"baseline\", \"ci_hi\": -33988.36328125, \"ci_lo\": -294722.5, \"mean\": -148557.421875}, {\"time\": \"2024-04-08\", \"type\": \"expected\", \"ci_hi\": 281032.4375, \"ci_lo\": 256272.703125, \"mean\": 268940.34375}, {\"time\": \"2024-04-15\", \"type\": \"actual\", \"ci_hi\": 315525.6875, \"ci_lo\": 315525.6875, \"mean\": 315525.6875}, {\"time\": \"2024-04-15\", \"type\": \"baseline\", \"ci_hi\": -12928.884765625, \"ci_lo\": -283031.875, \"mean\": -132920.578125}, {\"time\": \"2024-04-15\", \"type\": \"expected\", \"ci_hi\": 314915.53125, \"ci_lo\": 285151.21875, \"mean\": 300240.34375}, {\"time\": \"2024-04-22\", \"type\": \"actual\", \"ci_hi\": 280369.3125, \"ci_lo\": 280369.3125, \"mean\": 280369.3125}, {\"time\": \"2024-04-22\", \"type\": \"baseline\", \"ci_hi\": -21687.73046875, \"ci_lo\": -287938.3125, \"mean\": -139080.671875}, {\"time\": \"2024-04-22\", \"type\": \"expected\", \"ci_hi\": 299829.75, \"ci_lo\": 276202.90625, \"mean\": 288013.1875}, {\"time\": \"2024-04-29\", \"type\": \"actual\", \"ci_hi\": 238781.859375, \"ci_lo\": 238781.859375, \"mean\": 238781.859375}, {\"time\": \"2024-04-29\", \"type\": \"baseline\", \"ci_hi\": -36311.69921875, \"ci_lo\": -296022.53125, \"mean\": -150078.84375}, {\"time\": \"2024-04-29\", \"type\": \"expected\", \"ci_hi\": 285346.5, \"ci_lo\": 259970.53125, \"mean\": 272795.34375}, {\"time\": \"2024-05-06\", \"type\": \"actual\", \"ci_hi\": 316955.4375, \"ci_lo\": 316955.4375, \"mean\": 316955.4375}, {\"time\": \"2024-05-06\", \"type\": \"baseline\", \"ci_hi\": -18171.22265625, \"ci_lo\": -286026.65625, \"mean\": -136409.453125}, {\"time\": \"2024-05-06\", \"type\": \"expected\", \"ci_hi\": 307811.53125, \"ci_lo\": 280715.1875, \"mean\": 294368.40625}, {\"time\": \"2024-05-13\", \"type\": \"actual\", \"ci_hi\": 268497.46875, \"ci_lo\": 268497.46875, \"mean\": 268497.46875}, {\"time\": \"2024-05-13\", \"type\": \"baseline\", \"ci_hi\": -28327.626953125, \"ci_lo\": -291199.59375, \"mean\": -144186.265625}, {\"time\": \"2024-05-13\", \"type\": \"expected\", \"ci_hi\": 279868.625, \"ci_lo\": 253569.25, \"mean\": 266588.125}, {\"time\": \"2024-05-20\", \"type\": \"actual\", \"ci_hi\": 292030.84375, \"ci_lo\": 292030.84375, \"mean\": 292030.84375}, {\"time\": \"2024-05-20\", \"type\": \"baseline\", \"ci_hi\": -36062.09765625, \"ci_lo\": -295950.25, \"mean\": -149953.609375}, {\"time\": \"2024-05-20\", \"type\": \"expected\", \"ci_hi\": 259255.390625, \"ci_lo\": 234439.671875, \"mean\": 246694.5}, {\"time\": \"2024-05-27\", \"type\": \"actual\", \"ci_hi\": 281483.90625, \"ci_lo\": 281483.90625, \"mean\": 281483.90625}, {\"time\": \"2024-05-27\", \"type\": \"baseline\", \"ci_hi\": -42048.65625, \"ci_lo\": -299220.59375, \"mean\": -154346.34375}, {\"time\": \"2024-05-27\", \"type\": \"expected\", \"ci_hi\": 255916.515625, \"ci_lo\": 230744.84375, \"mean\": 243304.671875}, {\"time\": \"2024-06-03\", \"type\": \"actual\", \"ci_hi\": 225713.4375, \"ci_lo\": 225713.4375, \"mean\": 225713.4375}, {\"time\": \"2024-06-03\", \"type\": \"baseline\", \"ci_hi\": -42397.73046875, \"ci_lo\": -299381.0, \"mean\": -154637.734375}, {\"time\": \"2024-06-03\", \"type\": \"expected\", \"ci_hi\": 245131.578125, \"ci_lo\": 216639.984375, \"mean\": 230562.875}, {\"time\": \"2024-06-10\", \"type\": \"actual\", \"ci_hi\": 228916.75, \"ci_lo\": 228916.75, \"mean\": 228916.75}, {\"time\": \"2024-06-10\", \"type\": \"baseline\", \"ci_hi\": -49471.96875, \"ci_lo\": -303101.15625, \"mean\": -159954.15625}, {\"time\": \"2024-06-10\", \"type\": \"expected\", \"ci_hi\": 246407.5, \"ci_lo\": 211162.9375, \"mean\": 228286.3125}, {\"time\": \"2024-06-17\", \"type\": \"actual\", \"ci_hi\": 242915.65625, \"ci_lo\": 242915.65625, \"mean\": 242915.65625}, {\"time\": \"2024-06-17\", \"type\": \"baseline\", \"ci_hi\": -45951.95703125, \"ci_lo\": -301024.375, \"mean\": -157187.734375}, {\"time\": \"2024-06-17\", \"type\": \"expected\", \"ci_hi\": 253939.484375, \"ci_lo\": 219332.515625, \"mean\": 236305.5625}, {\"time\": \"2024-06-24\", \"type\": \"actual\", \"ci_hi\": 252200.59375, \"ci_lo\": 252200.59375, \"mean\": 252200.59375}, {\"time\": \"2024-06-24\", \"type\": \"baseline\", \"ci_hi\": -39497.42578125, \"ci_lo\": -297673.34375, \"mean\": -152594.671875}, {\"time\": \"2024-06-24\", \"type\": \"expected\", \"ci_hi\": 260129.546875, \"ci_lo\": 229237.21875, \"mean\": 244475.953125}, {\"time\": \"2024-07-01\", \"type\": \"actual\", \"ci_hi\": 218650.09375, \"ci_lo\": 218650.09375, \"mean\": 218650.09375}, {\"time\": \"2024-07-01\", \"type\": \"baseline\", \"ci_hi\": -44012.5546875, \"ci_lo\": -300063.875, \"mean\": -155793.15625}, {\"time\": \"2024-07-01\", \"type\": \"expected\", \"ci_hi\": 264238.1875, \"ci_lo\": 226216.21875, \"mean\": 244819.046875}, {\"time\": \"2024-07-08\", \"type\": \"actual\", \"ci_hi\": 235972.9375, \"ci_lo\": 235972.9375, \"mean\": 235972.9375}, {\"time\": \"2024-07-08\", \"type\": \"baseline\", \"ci_hi\": -48388.7578125, \"ci_lo\": -302622.40625, \"mean\": -159096.328125}, {\"time\": \"2024-07-08\", \"type\": \"expected\", \"ci_hi\": 244739.421875, \"ci_lo\": 209071.859375, \"mean\": 226362.46875}, {\"time\": \"2024-07-15\", \"type\": \"actual\", \"ci_hi\": 239699.90625, \"ci_lo\": 239699.90625, \"mean\": 239699.90625}, {\"time\": \"2024-07-15\", \"type\": \"baseline\", \"ci_hi\": -42648.09375, \"ci_lo\": -299530.96875, \"mean\": -154845.484375}, {\"time\": \"2024-07-15\", \"type\": \"expected\", \"ci_hi\": 254470.5625, \"ci_lo\": 211999.46875, \"mean\": 232482.015625}, {\"time\": \"2024-07-22\", \"type\": \"actual\", \"ci_hi\": 245438.0, \"ci_lo\": 245438.0, \"mean\": 245438.0}, {\"time\": \"2024-07-22\", \"type\": \"baseline\", \"ci_hi\": -41126.4609375, \"ci_lo\": -298809.6875, \"mean\": -153675.546875}, {\"time\": \"2024-07-22\", \"type\": \"expected\", \"ci_hi\": 263756.75, \"ci_lo\": 216725.484375, \"mean\": 239425.09375}, {\"time\": \"2024-07-29\", \"type\": \"actual\", \"ci_hi\": 326090.0, \"ci_lo\": 326090.0, \"mean\": 326090.0}, {\"time\": \"2024-07-29\", \"type\": \"baseline\", \"ci_hi\": -42848.55859375, \"ci_lo\": -299609.8125, \"mean\": -154973.359375}, {\"time\": \"2024-07-29\", \"type\": \"expected\", \"ci_hi\": 262154.96875, \"ci_lo\": 211399.59375, \"mean\": 235987.296875}, {\"time\": \"2024-08-05\", \"type\": \"actual\", \"ci_hi\": 238082.046875, \"ci_lo\": 238082.046875, \"mean\": 238082.046875}, {\"time\": \"2024-08-05\", \"type\": \"baseline\", \"ci_hi\": -37287.46875, \"ci_lo\": -296498.84375, \"mean\": -150873.15625}, {\"time\": \"2024-08-05\", \"type\": \"expected\", \"ci_hi\": 258959.203125, \"ci_lo\": 214885.875, \"mean\": 235730.09375}, {\"time\": \"2024-08-12\", \"type\": \"actual\", \"ci_hi\": 228503.578125, \"ci_lo\": 228503.578125, \"mean\": 228503.578125}, {\"time\": \"2024-08-12\", \"type\": \"baseline\", \"ci_hi\": -38830.546875, \"ci_lo\": -297269.40625, \"mean\": -152051.296875}, {\"time\": \"2024-08-12\", \"type\": \"expected\", \"ci_hi\": 259214.125, \"ci_lo\": 214771.9375, \"mean\": 235939.0}, {\"time\": \"2024-08-19\", \"type\": \"actual\", \"ci_hi\": 279974.375, \"ci_lo\": 279974.375, \"mean\": 279974.375}, {\"time\": \"2024-08-19\", \"type\": \"baseline\", \"ci_hi\": -41714.82421875, \"ci_lo\": -299002.34375, \"mean\": -154092.75}, {\"time\": \"2024-08-19\", \"type\": \"expected\", \"ci_hi\": 257274.265625, \"ci_lo\": 228321.046875, \"mean\": 242581.890625}, {\"time\": \"2024-08-26\", \"type\": \"actual\", \"ci_hi\": 343277.8125, \"ci_lo\": 343277.8125, \"mean\": 343277.8125}, {\"time\": \"2024-08-26\", \"type\": \"baseline\", \"ci_hi\": -49679.28515625, \"ci_lo\": -303215.25, \"mean\": -160102.03125}, {\"time\": \"2024-08-26\", \"type\": \"expected\", \"ci_hi\": 245888.71875, \"ci_lo\": 218465.4375, \"mean\": 232126.40625}, {\"time\": \"2024-09-02\", \"type\": \"actual\", \"ci_hi\": 251587.03125, \"ci_lo\": 251587.03125, \"mean\": 251587.03125}, {\"time\": \"2024-09-02\", \"type\": \"baseline\", \"ci_hi\": -40083.40625, \"ci_lo\": -297998.90625, \"mean\": -152997.71875}, {\"time\": \"2024-09-02\", \"type\": \"expected\", \"ci_hi\": 249553.734375, \"ci_lo\": 221812.078125, \"mean\": 235240.265625}, {\"time\": \"2024-09-09\", \"type\": \"actual\", \"ci_hi\": 239781.96875, \"ci_lo\": 239781.96875, \"mean\": 239781.96875}, {\"time\": \"2024-09-09\", \"type\": \"baseline\", \"ci_hi\": -28433.236328125, \"ci_lo\": -291269.125, \"mean\": -144271.234375}, {\"time\": \"2024-09-09\", \"type\": \"expected\", \"ci_hi\": 263892.78125, \"ci_lo\": 238624.84375, \"mean\": 250910.640625}, {\"time\": \"2024-09-16\", \"type\": \"actual\", \"ci_hi\": 262028.078125, \"ci_lo\": 262028.078125, \"mean\": 262028.078125}, {\"time\": \"2024-09-16\", \"type\": \"baseline\", \"ci_hi\": -23315.109375, \"ci_lo\": -288826.71875, \"mean\": -140277.34375}, {\"time\": \"2024-09-16\", \"type\": \"expected\", \"ci_hi\": 278717.6875, \"ci_lo\": 249300.71875, \"mean\": 263564.75}, {\"time\": \"2024-09-23\", \"type\": \"actual\", \"ci_hi\": 184156.15625, \"ci_lo\": 184156.15625, \"mean\": 184156.15625}, {\"time\": \"2024-09-23\", \"type\": \"baseline\", \"ci_hi\": -22568.48046875, \"ci_lo\": -288630.9375, \"mean\": -139698.5}, {\"time\": \"2024-09-23\", \"type\": \"expected\", \"ci_hi\": 293346.40625, \"ci_lo\": 268705.53125, \"mean\": 281118.5625}, {\"time\": \"2024-09-30\", \"type\": \"actual\", \"ci_hi\": 333192.03125, \"ci_lo\": 333192.03125, \"mean\": 333192.03125}, {\"time\": \"2024-09-30\", \"type\": \"baseline\", \"ci_hi\": -22112.34375, \"ci_lo\": -288309.0625, \"mean\": -139373.75}, {\"time\": \"2024-09-30\", \"type\": \"expected\", \"ci_hi\": 319169.65625, \"ci_lo\": 288046.5625, \"mean\": 303698.28125}, {\"time\": \"2024-10-07\", \"type\": \"actual\", \"ci_hi\": 307816.15625, \"ci_lo\": 307816.15625, \"mean\": 307816.15625}, {\"time\": \"2024-10-07\", \"type\": \"baseline\", \"ci_hi\": -11327.8466796875, \"ci_lo\": -282290.03125, \"mean\": -131818.203125}, {\"time\": \"2024-10-07\", \"type\": \"expected\", \"ci_hi\": 334520.6875, \"ci_lo\": 302643.5625, \"mean\": 318812.25}, {\"time\": \"2024-10-14\", \"type\": \"actual\", \"ci_hi\": 323692.1875, \"ci_lo\": 323692.1875, \"mean\": 323692.1875}, {\"time\": \"2024-10-14\", \"type\": \"baseline\", \"ci_hi\": -19782.845703125, \"ci_lo\": -286826.90625, \"mean\": -137524.828125}, {\"time\": \"2024-10-14\", \"type\": \"expected\", \"ci_hi\": 320384.90625, \"ci_lo\": 292643.625, \"mean\": 306511.78125}, {\"time\": \"2024-10-21\", \"type\": \"actual\", \"ci_hi\": 375699.53125, \"ci_lo\": 375699.53125, \"mean\": 375699.53125}, {\"time\": \"2024-10-21\", \"type\": \"baseline\", \"ci_hi\": -19508.373046875, \"ci_lo\": -286654.53125, \"mean\": -137265.40625}, {\"time\": \"2024-10-21\", \"type\": \"expected\", \"ci_hi\": 305599.34375, \"ci_lo\": 279967.78125, \"mean\": 292598.65625}, {\"time\": \"2024-10-28\", \"type\": \"actual\", \"ci_hi\": 371307.90625, \"ci_lo\": 371307.90625, \"mean\": 371307.90625}, {\"time\": \"2024-10-28\", \"type\": \"baseline\", \"ci_hi\": -29051.083984375, \"ci_lo\": -291736.34375, \"mean\": -144700.828125}, {\"time\": \"2024-10-28\", \"type\": \"expected\", \"ci_hi\": 313650.65625, \"ci_lo\": 283973.59375, \"mean\": 298916.59375}, {\"time\": \"2024-11-04\", \"type\": \"actual\", \"ci_hi\": 340645.34375, \"ci_lo\": 340645.34375, \"mean\": 340645.34375}, {\"time\": \"2024-11-04\", \"type\": \"baseline\", \"ci_hi\": -22422.564453125, \"ci_lo\": -288528.75, \"mean\": -139594.75}, {\"time\": \"2024-11-04\", \"type\": \"expected\", \"ci_hi\": 298919.3125, \"ci_lo\": 274398.78125, \"mean\": 286445.5}, {\"time\": \"2024-11-11\", \"type\": \"actual\", \"ci_hi\": 389449.5625, \"ci_lo\": 389449.5625, \"mean\": 389449.5625}, {\"time\": \"2024-11-11\", \"type\": \"baseline\", \"ci_hi\": -33236.96875, \"ci_lo\": -294135.125, \"mean\": -147968.109375}, {\"time\": \"2024-11-11\", \"type\": \"expected\", \"ci_hi\": 280969.15625, \"ci_lo\": 251055.0, \"mean\": 265989.71875}, {\"time\": \"2024-11-18\", \"type\": \"actual\", \"ci_hi\": 378821.34375, \"ci_lo\": 378821.34375, \"mean\": 378821.34375}, {\"time\": \"2024-11-18\", \"type\": \"baseline\", \"ci_hi\": -39350.54296875, \"ci_lo\": -297676.96875, \"mean\": -152490.390625}, {\"time\": \"2024-11-18\", \"type\": \"expected\", \"ci_hi\": 268061.84375, \"ci_lo\": 238238.546875, \"mean\": 253416.9375}, {\"time\": \"2024-11-25\", \"type\": \"actual\", \"ci_hi\": 444492.5625, \"ci_lo\": 444492.5625, \"mean\": 444492.5625}, {\"time\": \"2024-11-25\", \"type\": \"baseline\", \"ci_hi\": -47263.1953125, \"ci_lo\": -302090.625, \"mean\": -158239.65625}, {\"time\": \"2024-11-25\", \"type\": \"expected\", \"ci_hi\": 277380.3125, \"ci_lo\": 228906.109375, \"mean\": 254516.09375}, {\"time\": \"2024-12-02\", \"type\": \"actual\", \"ci_hi\": 326803.40625, \"ci_lo\": 326803.40625, \"mean\": 326803.40625}, {\"time\": \"2024-12-02\", \"type\": \"baseline\", \"ci_hi\": -48389.1875, \"ci_lo\": -302626.59375, \"mean\": -159100.0}, {\"time\": \"2024-12-02\", \"type\": \"expected\", \"ci_hi\": 280722.65625, \"ci_lo\": 240471.296875, \"mean\": 261361.59375}, {\"time\": \"2024-12-09\", \"type\": \"actual\", \"ci_hi\": 280422.8125, \"ci_lo\": 280422.8125, \"mean\": 280422.8125}, {\"time\": \"2024-12-09\", \"type\": \"baseline\", \"ci_hi\": -48659.46484375, \"ci_lo\": -302822.625, \"mean\": -159281.046875}, {\"time\": \"2024-12-09\", \"type\": \"expected\", \"ci_hi\": 282134.28125, \"ci_lo\": 240627.515625, \"mean\": 262559.46875}, {\"time\": \"2024-12-16\", \"type\": \"actual\", \"ci_hi\": 136153.5, \"ci_lo\": 136153.5, \"mean\": 136153.5}, {\"time\": \"2024-12-16\", \"type\": \"baseline\", \"ci_hi\": -48472.8984375, \"ci_lo\": -302686.65625, \"mean\": -159155.40625}, {\"time\": \"2024-12-16\", \"type\": \"expected\", \"ci_hi\": 244160.640625, \"ci_lo\": 201784.21875, \"mean\": 223754.140625}, {\"time\": \"2024-12-23\", \"type\": \"actual\", \"ci_hi\": 115912.8046875, \"ci_lo\": 115912.8046875, \"mean\": 115912.8046875}, {\"time\": \"2024-12-23\", \"type\": \"baseline\", \"ci_hi\": -53249.55078125, \"ci_lo\": -305342.125, \"mean\": -163054.828125}, {\"time\": \"2024-12-23\", \"type\": \"expected\", \"ci_hi\": 219845.390625, \"ci_lo\": 181909.34375, \"mean\": 201012.703125}, {\"time\": \"2024-12-30\", \"type\": \"actual\", \"ci_hi\": 206465.921875, \"ci_lo\": 206465.921875, \"mean\": 206465.921875}, {\"time\": \"2024-12-30\", \"type\": \"baseline\", \"ci_hi\": -33757.7890625, \"ci_lo\": -294664.4375, \"mean\": -148419.03125}, {\"time\": \"2024-12-30\", \"type\": \"expected\", \"ci_hi\": 304861.25, \"ci_lo\": 245600.28125, \"mean\": 276569.5}, {\"time\": \"2025-01-06\", \"type\": \"actual\", \"ci_hi\": 231850.421875, \"ci_lo\": 231850.421875, \"mean\": 231850.421875}, {\"time\": \"2025-01-06\", \"type\": \"baseline\", \"ci_hi\": -29665.94921875, \"ci_lo\": -292122.71875, \"mean\": -145233.984375}, {\"time\": \"2025-01-06\", \"type\": \"expected\", \"ci_hi\": 292101.09375, \"ci_lo\": 245820.03125, \"mean\": 270196.4375}, {\"time\": \"2025-01-13\", \"type\": \"actual\", \"ci_hi\": 307895.96875, \"ci_lo\": 307895.96875, \"mean\": 307895.96875}, {\"time\": \"2025-01-13\", \"type\": \"baseline\", \"ci_hi\": -27955.98828125, \"ci_lo\": -290865.3125, \"mean\": -143927.3125}, {\"time\": \"2025-01-13\", \"type\": \"expected\", \"ci_hi\": 283878.96875, \"ci_lo\": 243112.359375, \"mean\": 264443.53125}, {\"time\": \"2025-01-20\", \"type\": \"actual\", \"ci_hi\": 429822.21875, \"ci_lo\": 429822.21875, \"mean\": 429822.21875}, {\"time\": \"2025-01-20\", \"type\": \"baseline\", \"ci_hi\": -12062.17578125, \"ci_lo\": -282607.53125, \"mean\": -132319.328125}, {\"time\": \"2025-01-20\", \"type\": \"expected\", \"ci_hi\": 313009.53125, \"ci_lo\": 274483.6875, \"mean\": 294932.28125}, {\"time\": \"2025-01-27\", \"type\": \"actual\", \"ci_hi\": 289156.03125, \"ci_lo\": 289156.03125, \"mean\": 289156.03125}, {\"time\": \"2025-01-27\", \"type\": \"baseline\", \"ci_hi\": -10241.529296875, \"ci_lo\": -281810.625, \"mean\": -131136.4375}, {\"time\": \"2025-01-27\", \"type\": \"expected\", \"ci_hi\": 290699.9375, \"ci_lo\": 240453.46875, \"mean\": 266308.0}, {\"time\": \"2025-02-03\", \"type\": \"actual\", \"ci_hi\": 338967.40625, \"ci_lo\": 338967.40625, \"mean\": 338967.40625}, {\"time\": \"2025-02-03\", \"type\": \"baseline\", \"ci_hi\": -3033.158447265625, \"ci_lo\": -278665.65625, \"mean\": -126179.203125}, {\"time\": \"2025-02-03\", \"type\": \"expected\", \"ci_hi\": 289838.0, \"ci_lo\": 246896.40625, \"mean\": 268664.15625}, {\"time\": \"2025-02-10\", \"type\": \"actual\", \"ci_hi\": 258915.125, \"ci_lo\": 258915.125, \"mean\": 258915.125}, {\"time\": \"2025-02-10\", \"type\": \"baseline\", \"ci_hi\": -2234.192138671875, \"ci_lo\": -278618.15625, \"mean\": -125687.171875}, {\"time\": \"2025-02-10\", \"type\": \"expected\", \"ci_hi\": 317656.1875, \"ci_lo\": 270204.40625, \"mean\": 295238.71875}, {\"time\": \"2025-02-17\", \"type\": \"actual\", \"ci_hi\": 277979.78125, \"ci_lo\": 277979.78125, \"mean\": 277979.78125}, {\"time\": \"2025-02-17\", \"type\": \"baseline\", \"ci_hi\": 14425.537109375, \"ci_lo\": -271832.78125, \"mean\": -113955.2421875}, {\"time\": \"2025-02-17\", \"type\": \"expected\", \"ci_hi\": 330066.3125, \"ci_lo\": 279088.96875, \"mean\": 305278.0625}, {\"time\": \"2025-02-24\", \"type\": \"actual\", \"ci_hi\": 329035.15625, \"ci_lo\": 329035.15625, \"mean\": 329035.15625}, {\"time\": \"2025-02-24\", \"type\": \"baseline\", \"ci_hi\": 10038.330078125, \"ci_lo\": -273600.875, \"mean\": -117038.453125}, {\"time\": \"2025-02-24\", \"type\": \"expected\", \"ci_hi\": 335518.9375, \"ci_lo\": 291603.6875, \"mean\": 314397.0625}, {\"time\": \"2025-03-03\", \"type\": \"actual\", \"ci_hi\": 409456.34375, \"ci_lo\": 409456.34375, \"mean\": 409456.34375}, {\"time\": \"2025-03-03\", \"type\": \"baseline\", \"ci_hi\": 18931.470703125, \"ci_lo\": -270338.40625, \"mean\": -110832.8046875}, {\"time\": \"2025-03-03\", \"type\": \"expected\", \"ci_hi\": 366021.8125, \"ci_lo\": 319087.1875, \"mean\": 343343.5}, {\"time\": \"2025-03-10\", \"type\": \"actual\", \"ci_hi\": 400494.5625, \"ci_lo\": 400494.5625, \"mean\": 400494.5625}, {\"time\": \"2025-03-10\", \"type\": \"baseline\", \"ci_hi\": 16991.771484375, \"ci_lo\": -270886.4375, \"mean\": -112136.6875}, {\"time\": \"2025-03-10\", \"type\": \"expected\", \"ci_hi\": 380604.125, \"ci_lo\": 337040.5, \"mean\": 359337.1875}, {\"time\": \"2025-03-17\", \"type\": \"actual\", \"ci_hi\": 411173.8125, \"ci_lo\": 411173.8125, \"mean\": 411173.8125}, {\"time\": \"2025-03-17\", \"type\": \"baseline\", \"ci_hi\": 32939.359375, \"ci_lo\": -265760.5, \"mean\": -101229.390625}, {\"time\": \"2025-03-17\", \"type\": \"expected\", \"ci_hi\": 403021.9375, \"ci_lo\": 353797.28125, \"mean\": 378774.78125}, {\"time\": \"2025-03-24\", \"type\": \"actual\", \"ci_hi\": 422040.5, \"ci_lo\": 422040.5, \"mean\": 422040.5}, {\"time\": \"2025-03-24\", \"type\": \"baseline\", \"ci_hi\": 25431.029296875, \"ci_lo\": -268197.59375, \"mean\": -106510.8359375}, {\"time\": \"2025-03-24\", \"type\": \"expected\", \"ci_hi\": 406519.59375, \"ci_lo\": 359962.75, \"mean\": 383597.4375}, {\"time\": \"2025-03-31\", \"type\": \"actual\", \"ci_hi\": 436120.75, \"ci_lo\": 436120.75, \"mean\": 436120.75}, {\"time\": \"2025-03-31\", \"type\": \"baseline\", \"ci_hi\": 40943.7890625, \"ci_lo\": -263306.6875, \"mean\": -95714.515625}, {\"time\": \"2025-03-31\", \"type\": \"expected\", \"ci_hi\": 433053.375, \"ci_lo\": 376283.09375, \"mean\": 405039.84375}, {\"time\": \"2025-04-07\", \"type\": \"actual\", \"ci_hi\": 399795.875, \"ci_lo\": 399795.875, \"mean\": 399795.875}, {\"time\": \"2025-04-07\", \"type\": \"baseline\", \"ci_hi\": 38487.375, \"ci_lo\": -263931.8125, \"mean\": -97418.1328125}, {\"time\": \"2025-04-07\", \"type\": \"expected\", \"ci_hi\": 433386.4375, \"ci_lo\": 379500.9375, \"mean\": 406567.15625}, {\"time\": \"2025-04-14\", \"type\": \"actual\", \"ci_hi\": 371545.5, \"ci_lo\": 371545.5, \"mean\": 371545.5}, {\"time\": \"2025-04-14\", \"type\": \"baseline\", \"ci_hi\": 21967.490234375, \"ci_lo\": -269307.75, \"mean\": -108870.3359375}, {\"time\": \"2025-04-14\", \"type\": \"expected\", \"ci_hi\": 410281.4375, \"ci_lo\": 363146.40625, \"mean\": 386834.1875}, {\"time\": \"2025-04-21\", \"type\": \"actual\", \"ci_hi\": 385647.90625, \"ci_lo\": 385647.90625, \"mean\": 385647.90625}, {\"time\": \"2025-04-21\", \"type\": \"baseline\", \"ci_hi\": 40274.46484375, \"ci_lo\": -263450.03125, \"mean\": -96188.0546875}, {\"time\": \"2025-04-21\", \"type\": \"expected\", \"ci_hi\": 438430.375, \"ci_lo\": 379749.6875, \"mean\": 408482.9375}, {\"time\": \"2025-04-28\", \"type\": \"actual\", \"ci_hi\": 174361.890625, \"ci_lo\": 174361.890625, \"mean\": 174361.890625}, {\"time\": \"2025-04-28\", \"type\": \"baseline\", \"ci_hi\": -62198.046875, \"ci_lo\": -311029.1875, \"mean\": -169940.453125}, {\"time\": \"2025-04-28\", \"type\": \"expected\", \"ci_hi\": 277735.625, \"ci_lo\": 186722.4375, \"mean\": 232261.5}]}}, {\"mode\": \"vega-lite\"});\n",
       "</script>"
      ],
      "text/plain": [
       "alt.LayerChart(...)"
      ]
     },
     "execution_count": 9,
     "metadata": {},
     "output_type": "execute_result"
    }
   ],
   "source": [
    "model_fit = visualizer.ModelFit(mmm)\n",
    "model_fit.plot_model_fit()"
   ]
  },
  {
   "cell_type": "code",
   "execution_count": 11,
   "id": "e8786f87",
   "metadata": {},
   "outputs": [],
   "source": [
    "mmm_summarizer = summarizer.Summarizer(mmm)"
   ]
  },
  {
   "cell_type": "code",
   "execution_count": 12,
   "id": "fa44daa3",
   "metadata": {},
   "outputs": [
    {
     "name": "stderr",
     "output_type": "stream",
     "text": [
      "c:\\Users\\GagandeepBajwa\\Documents\\impact_V2\\venv\\Lib\\site-packages\\meridian\\analysis\\analyzer.py:540: UserWarning: The `aggregate_geos` argument is ignored in the national model. It will be reset to `True`.\n",
      "  warnings.warn(\n",
      "c:\\Users\\GagandeepBajwa\\Documents\\impact_V2\\venv\\Lib\\site-packages\\meridian\\analysis\\analyzer.py:540: UserWarning: The `aggregate_geos` argument is ignored in the national model. It will be reset to `True`.\n",
      "  warnings.warn(\n",
      "c:\\Users\\GagandeepBajwa\\Documents\\impact_V2\\venv\\Lib\\site-packages\\meridian\\analysis\\analyzer.py:3063: UserWarning: Effectiveness is not reported because it does not have a clear interpretation by time period.\n",
      "  warnings.warn(\n",
      "c:\\Users\\GagandeepBajwa\\Documents\\impact_V2\\venv\\Lib\\site-packages\\meridian\\analysis\\analyzer.py:925: UserWarning: Setting `use_kpi=True` has no effect when `kpi_type=REVENUE` since in this case, KPI is equal to revenue.\n",
      "  warnings.warn(\n",
      "c:\\Users\\GagandeepBajwa\\Documents\\impact_V2\\venv\\Lib\\site-packages\\tensorflow\\python\\autograph\\impl\\api.py:371: UserWarning: Setting `use_kpi=True` has no effect when `kpi_type=REVENUE` since in this case, KPI is equal to revenue.\n",
      "  return py_builtins.overload_of(f)(*args)\n"
     ]
    }
   ],
   "source": [
    "import os\n",
    "filepath = os.path.join(os.getcwd())\n",
    "start_date = '2023-03-27'\n",
    "end_date = '2025-04-28' # Changed end_date to a valid date\n",
    "mmm_summarizer.output_model_results_summary('summary_output_charlesivy_v1.html', filepath, start_date, end_date)"
   ]
  },
  {
   "cell_type": "code",
   "execution_count": 13,
   "id": "98cc2dc3",
   "metadata": {},
   "outputs": [
    {
     "name": "stdout",
     "output_type": "stream",
     "text": [
      "CPU times: total: 3min 46s\n",
      "Wall time: 2min 44s\n"
     ]
    }
   ],
   "source": [
    "%%time\n",
    "budget_optimizer = optimizer.BudgetOptimizer(mmm)\n",
    "optimization_results = budget_optimizer.optimize()"
   ]
  },
  {
   "cell_type": "code",
   "execution_count": 14,
   "id": "a7810cdb",
   "metadata": {},
   "outputs": [],
   "source": [
    "optimization_results.output_optimization_summary('optimization_output_charlesivy_v1.html', filepath)"
   ]
  },
  {
   "cell_type": "code",
   "execution_count": null,
   "metadata": {},
   "outputs": [],
   "source": [
    "save_path=os.path.join(os.getcwd(),saved_mmm_charlesivy_v1.pkl)\n",
    "model.save_mmm(mmm, save_path)"
   ]
  },
  {
   "cell_type": "code",
   "execution_count": null,
   "id": "de1fac10",
   "metadata": {},
   "outputs": [],
   "source": []
  },
  {
   "cell_type": "code",
   "execution_count": null,
   "id": "cbfefeb4",
   "metadata": {},
   "outputs": [],
   "source": []
  }
 ],
 "metadata": {
  "kernelspec": {
   "display_name": "Python 3",
   "language": "python",
   "name": "python3"
  },
  "language_info": {
   "codemirror_mode": {
    "name": "ipython",
    "version": 3
   },
   "file_extension": ".py",
   "mimetype": "text/x-python",
   "name": "python",
   "nbconvert_exporter": "python",
   "pygments_lexer": "ipython3",
   "version": "3.11.11"
  }
 },
 "nbformat": 4,
 "nbformat_minor": 5
}
