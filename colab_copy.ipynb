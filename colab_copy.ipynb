{
 "cells": [
  {
   "cell_type": "markdown",
   "id": "df95f882",
   "metadata": {},
   "source": [
    "# Install meridian: from PyPI @ latest release\n",
    "!pip install --upgrade google-meridian[colab,and-cuda]\n",
    "\n",
    "# Install meridian: from PyPI @ specific version\n",
    "# !pip install google-meridian[colab,and-cuda]==1.0.3\n",
    "\n",
    "# Install meridian: from GitHub @HEAD\n",
    "# !pip install --upgrade \"google-meridian[colab,and-cuda] @ git+https://github.com/google/meridian.git\""
   ]
  },
  {
   "cell_type": "code",
   "execution_count": 1,
   "id": "10aa7096",
   "metadata": {},
   "outputs": [
    {
     "name": "stdout",
     "output_type": "stream",
     "text": [
      "WARNING:tensorflow:From c:\\Users\\GagandeepBajwa\\Documents\\impact_V2\\venv\\Lib\\site-packages\\tf_keras\\src\\losses.py:2976: The name tf.losses.sparse_softmax_cross_entropy is deprecated. Please use tf.compat.v1.losses.sparse_softmax_cross_entropy instead.\n",
      "\n",
      "WARNING:tensorflow:From c:\\Users\\GagandeepBajwa\\Documents\\impact_V2\\venv\\Lib\\site-packages\\tensorflow_probability\\python\\internal\\backend\\numpy\\_utils.py:48: The name tf.logging.TaskLevelStatusMessage is deprecated. Please use tf.compat.v1.logging.TaskLevelStatusMessage instead.\n",
      "\n",
      "WARNING:tensorflow:From c:\\Users\\GagandeepBajwa\\Documents\\impact_V2\\venv\\Lib\\site-packages\\tensorflow_probability\\python\\internal\\backend\\numpy\\_utils.py:48: The name tf.control_flow_v2_enabled is deprecated. Please use tf.compat.v1.control_flow_v2_enabled instead.\n",
      "\n",
      "Your runtime has 16.6 gigabytes of available RAM\n",
      "\n",
      "Num GPUs Available:  0\n",
      "Num CPUs Available:  1\n"
     ]
    }
   ],
   "source": [
    "import numpy as np\n",
    "import pandas as pd\n",
    "import tensorflow as tf\n",
    "import tensorflow_probability as tfp\n",
    "import arviz as az\n",
    "\n",
    "import IPython\n",
    "\n",
    "from meridian import constants\n",
    "from meridian.data import load\n",
    "from meridian.data import test_utils\n",
    "from meridian.model import model\n",
    "from meridian.model import spec\n",
    "from meridian.model import prior_distribution\n",
    "from meridian.analysis import optimizer#\n",
    "from meridian.analysis import analyzer\n",
    "from meridian.analysis import visualizer\n",
    "from meridian.analysis import summarizer\n",
    "from meridian.analysis import formatter\n",
    "\n",
    "# check if GPU is available\n",
    "from psutil import virtual_memory\n",
    "ram_gb = virtual_memory().total / 1e9\n",
    "print('Your runtime has {:.1f} gigabytes of available RAM\\n'.format(ram_gb))\n",
    "print(\"Num GPUs Available: \", len(tf.config.experimental.list_physical_devices('GPU')))\n",
    "print(\"Num CPUs Available: \", len(tf.config.experimental.list_physical_devices('CPU')))"
   ]
  },
  {
   "cell_type": "code",
   "execution_count": null,
   "id": "e85efdf7",
   "metadata": {},
   "outputs": [
    {
     "name": "stderr",
     "output_type": "stream",
     "text": [
      "c:\\Users\\GagandeepBajwa\\Documents\\impact_V2\\venv\\Lib\\site-packages\\meridian\\data\\load.py:1023: FutureWarning: Downcasting behavior in `replace` is deprecated and will be removed in a future version. To retain the old behavior, explicitly call `result.infer_objects(copy=False)`. To opt-in to the future behavior, set `pd.set_option('future.no_silent_downcasting', True)`\n",
      "  self.df[geo_column_name] = self.df[geo_column_name].replace(\n",
      "c:\\Users\\GagandeepBajwa\\Documents\\impact_V2\\venv\\Lib\\site-packages\\meridian\\data\\load.py:201: FutureWarning: The return type of `Dataset.dims` will be changed to return a set of dimension names in future, in order to be more consistent with `DataArray.dims`. To access a mapping from dimension names to lengths, please use `Dataset.sizes`.\n",
      "  if (constants.GEO) not in self.dataset.dims.keys():\n",
      "c:\\Users\\GagandeepBajwa\\Documents\\impact_V2\\venv\\Lib\\site-packages\\meridian\\data\\load.py:206: UserWarning: The `population` argument is ignored in a nationally aggregated model. It will be reset to [1]\n",
      "  warnings.warn(\n",
      "c:\\Users\\GagandeepBajwa\\Documents\\impact_V2\\venv\\Lib\\site-packages\\meridian\\data\\load.py:231: FutureWarning: The return type of `Dataset.dims` will be changed to return a set of dimension names in future, in order to be more consistent with `DataArray.dims`. To access a mapping from dimension names to lengths, please use `Dataset.sizes`.\n",
      "  if constants.MEDIA_TIME not in self.dataset.dims.keys():\n",
      "c:\\Users\\GagandeepBajwa\\Documents\\impact_V2\\venv\\Lib\\site-packages\\meridian\\data\\input_data.py:385: UserWarning: Revenue from the `kpi` data is used when `kpi_type`=`revenue`. `revenue_per_kpi` is ignored.\n",
      "  warnings.warn(\n"
     ]
    }
   ],
   "source": [
    "\n",
    "import io\n",
    "import requests\n",
    "\n",
    "\n",
    "coord_to_columns = load.CoordToColumns(\n",
    "    time='Date',\n",
    "    #geo='geo',\n",
    "    controls=['seasonality_sin' ,'seasonality_cos','is_holiday_week','Organic_impressions','Organic_impressions_lag1','avg_temp','rain_mm'],\n",
    "    #population='population',\n",
    "    kpi='total_revenue',\n",
    "    #revenue_per_kpi='revenue_per_conversion',\n",
    "    media=[\n",
    "        'facebook_impressions',\n",
    "        'bing_impressions',\n",
    "        'google_impressions',\n",
    "        'tiktok_impressions',\n",
    "        'pinterest_impressions',\n",
    "    ],\n",
    "    media_spend=[\n",
    "       'bing_spend',\n",
    "      'pinterest_spend',\n",
    "      'facebook_spend',\n",
    "      'google_spend',\n",
    "      'tiktok_spend',\n",
    "    ],\n",
    "   # organic_media=['Organic_impressions'],\n",
    "    #non_media_treatments=['Promo'],\n",
    ")\n",
    "\n",
    "correct_media_to_channel = {\n",
    "    'facebook_impressions': 'Facebook',\n",
    "    'bing_impressions': 'Bing',\n",
    "    'google_impressions': 'Google',\n",
    "    'tiktok_impressions': 'Tiktok',\n",
    "    'pinterest_impressions': 'Pinterest',\n",
    "}\n",
    "correct_media_spend_to_channel = {\n",
    "    'bing_spend': 'Bing',\n",
    "    'pinterest_spend': 'Pinterest',\n",
    "    'facebook_spend': 'Facebook',\n",
    "    'google_spend': 'Google',\n",
    "    'tiktok_spend': 'Tiktok'\n",
    "}\n",
    "# Download the CSV data\n",
    "url = 'https://raw.githubusercontent.com/Connective3Innovation/impact_V2/refs/heads/main/Data/charles_ivy_with_weather_added_v3.csv' # Updated to raw content URL\n",
    "response = requests.get(url)\n",
    "response.raise_for_status() # Raise HTTPError for bad responses (4xx or 5xx)\n",
    "csv_data = response.content.decode('utf-8') # Assuming UTF-8 encoding\n",
    "\n",
    "# Load into pandas DataFrame\n",
    "df = pd.read_csv(io.StringIO(csv_data), sep=',') # Explicitly setting separator and skipping bad lines\n",
    "\n",
    "loader = load.DataFrameDataLoader(\n",
    "    #csv_path='https://github.com/Connective3Innovation/impact_V2/blob/main/Data/charles%26ivy_apr2023_apr_2025_cleaned.csv',\n",
    "    df=df, # Pass the DataFrame directly\n",
    "    kpi_type='revenue',\n",
    "    coord_to_columns=coord_to_columns,\n",
    "    media_to_channel=correct_media_to_channel,\n",
    "    media_spend_to_channel=correct_media_spend_to_channel,\n",
    ")\n",
    "data = loader.load()"
   ]
  },
  {
   "cell_type": "code",
   "execution_count": 3,
   "id": "155db652",
   "metadata": {},
   "outputs": [
    {
     "name": "stderr",
     "output_type": "stream",
     "text": [
      "c:\\Users\\GagandeepBajwa\\Documents\\impact_V2\\venv\\Lib\\site-packages\\meridian\\model\\model.py:64: UserWarning: In a nationally aggregated model, the `media_effects_dist` will be reset to `normal`.\n",
      "  warnings.warn(\n"
     ]
    }
   ],
   "source": [
    "roi_mu = 0.2     # Mu for ROI prior for each media channel.\n",
    "roi_sigma = 0.9  # Sigma for ROI prior for each media channel.\n",
    "prior = prior_distribution.PriorDistribution(\n",
    "    roi_m=tfp.distributions.LogNormal(roi_mu, roi_sigma, name=constants.ROI_M)\n",
    ")\n",
    "model_spec = spec.ModelSpec(prior=prior)\n",
    "\n",
    "mmm = model.Meridian(input_data=data, model_spec=model_spec)"
   ]
  },
  {
   "cell_type": "code",
   "execution_count": 4,
   "id": "4ce8ed6a",
   "metadata": {},
   "outputs": [
    {
     "data": {
      "text/plain": [
       "Date                        2024-11-25\n",
       "facebook_impressions           1820099\n",
       "bing_impressions                 91637\n",
       "google_impressions             3268585\n",
       "tiktok_impressions             95397.0\n",
       "pinterest_impressions           119031\n",
       "bing_spend                 1913.109997\n",
       "pinterest_spend            1057.043594\n",
       "facebook_spend            23655.069995\n",
       "google_spend              41471.219546\n",
       "tiktok_spend                570.849999\n",
       "total_revenue              444492.5741\n",
       "total_conversions              8303.12\n",
       "facebook_revenue         147751.099998\n",
       "tiktok_revenue                  6703.0\n",
       "pinterest_revenue             17649.35\n",
       "Organic_impressions           148874.0\n",
       "bing_revenue                  43815.59\n",
       "google_revenue           228573.534075\n",
       "week_of_year                        48\n",
       "seasonality_sin              -0.464723\n",
       "seasonality_cos               0.885456\n",
       "is_holiday_week                      0\n",
       "geo                       national_geo\n",
       "population                         1.0\n",
       "Name: 87, dtype: object"
      ]
     },
     "execution_count": 4,
     "metadata": {},
     "output_type": "execute_result"
    }
   ],
   "source": [
    "df.loc[df['total_revenue'].idxmax()]"
   ]
  },
  {
   "cell_type": "code",
   "execution_count": 4,
   "id": "7c9ac4dd",
   "metadata": {},
   "outputs": [
    {
     "name": "stderr",
     "output_type": "stream",
     "text": [
      "c:\\Users\\GagandeepBajwa\\Documents\\impact_V2\\venv\\Lib\\site-packages\\meridian\\model\\prior_distribution.py:852: UserWarning: Hierarchical distribution parameters must be deterministically zero for national models. tau_g_excl_baseline has been automatically set to Deterministic(0).\n",
      "  warnings.warn(\n",
      "c:\\Users\\GagandeepBajwa\\Documents\\impact_V2\\venv\\Lib\\site-packages\\meridian\\model\\prior_distribution.py:852: UserWarning: Hierarchical distribution parameters must be deterministically zero for national models. eta_m has been automatically set to Deterministic(0).\n",
      "  warnings.warn(\n",
      "c:\\Users\\GagandeepBajwa\\Documents\\impact_V2\\venv\\Lib\\site-packages\\meridian\\model\\prior_distribution.py:852: UserWarning: Hierarchical distribution parameters must be deterministically zero for national models. eta_rf has been automatically set to Deterministic(0).\n",
      "  warnings.warn(\n",
      "c:\\Users\\GagandeepBajwa\\Documents\\impact_V2\\venv\\Lib\\site-packages\\meridian\\model\\prior_distribution.py:852: UserWarning: Hierarchical distribution parameters must be deterministically zero for national models. eta_om has been automatically set to Deterministic(0).\n",
      "  warnings.warn(\n",
      "c:\\Users\\GagandeepBajwa\\Documents\\impact_V2\\venv\\Lib\\site-packages\\meridian\\model\\prior_distribution.py:852: UserWarning: Hierarchical distribution parameters must be deterministically zero for national models. eta_orf has been automatically set to Deterministic(0).\n",
      "  warnings.warn(\n",
      "c:\\Users\\GagandeepBajwa\\Documents\\impact_V2\\venv\\Lib\\site-packages\\meridian\\model\\prior_distribution.py:852: UserWarning: Hierarchical distribution parameters must be deterministically zero for national models. xi_c has been automatically set to Deterministic(0).\n",
      "  warnings.warn(\n",
      "c:\\Users\\GagandeepBajwa\\Documents\\impact_V2\\venv\\Lib\\site-packages\\meridian\\model\\prior_distribution.py:852: UserWarning: Hierarchical distribution parameters must be deterministically zero for national models. xi_n has been automatically set to Deterministic(0).\n",
      "  warnings.warn(\n"
     ]
    },
    {
     "name": "stdout",
     "output_type": "stream",
     "text": [
      "CPU times: total: 4min 10s\n",
      "Wall time: 4min 22s\n"
     ]
    }
   ],
   "source": [
    "%%time\n",
    "mmm.sample_prior(500)\n",
    "mmm.sample_posterior(n_chains=10, n_adapt=2000, n_burnin=500, n_keep=1000, seed=1)"
   ]
  },
  {
   "cell_type": "code",
   "execution_count": 5,
   "id": "aeb25723",
   "metadata": {},
   "outputs": [
    {
     "data": {
      "text/html": [
       "\n",
       "<style>\n",
       "  #altair-viz-1a50e68afaf74c47add3ef884e50d3dc.vega-embed {\n",
       "    width: 100%;\n",
       "    display: flex;\n",
       "  }\n",
       "\n",
       "  #altair-viz-1a50e68afaf74c47add3ef884e50d3dc.vega-embed details,\n",
       "  #altair-viz-1a50e68afaf74c47add3ef884e50d3dc.vega-embed details summary {\n",
       "    position: relative;\n",
       "  }\n",
       "</style>\n",
       "<div id=\"altair-viz-1a50e68afaf74c47add3ef884e50d3dc\"></div>\n",
       "<script type=\"text/javascript\">\n",
       "  var VEGA_DEBUG = (typeof VEGA_DEBUG == \"undefined\") ? {} : VEGA_DEBUG;\n",
       "  (function(spec, embedOpt){\n",
       "    let outputDiv = document.currentScript.previousElementSibling;\n",
       "    if (outputDiv.id !== \"altair-viz-1a50e68afaf74c47add3ef884e50d3dc\") {\n",
       "      outputDiv = document.getElementById(\"altair-viz-1a50e68afaf74c47add3ef884e50d3dc\");\n",
       "    }\n",
       "\n",
       "    const paths = {\n",
       "      \"vega\": \"https://cdn.jsdelivr.net/npm/vega@5?noext\",\n",
       "      \"vega-lib\": \"https://cdn.jsdelivr.net/npm/vega-lib?noext\",\n",
       "      \"vega-lite\": \"https://cdn.jsdelivr.net/npm/vega-lite@5.20.1?noext\",\n",
       "      \"vega-embed\": \"https://cdn.jsdelivr.net/npm/vega-embed@6?noext\",\n",
       "    };\n",
       "\n",
       "    function maybeLoadScript(lib, version) {\n",
       "      var key = `${lib.replace(\"-\", \"\")}_version`;\n",
       "      return (VEGA_DEBUG[key] == version) ?\n",
       "        Promise.resolve(paths[lib]) :\n",
       "        new Promise(function(resolve, reject) {\n",
       "          var s = document.createElement('script');\n",
       "          document.getElementsByTagName(\"head\")[0].appendChild(s);\n",
       "          s.async = true;\n",
       "          s.onload = () => {\n",
       "            VEGA_DEBUG[key] = version;\n",
       "            return resolve(paths[lib]);\n",
       "          };\n",
       "          s.onerror = () => reject(`Error loading script: ${paths[lib]}`);\n",
       "          s.src = paths[lib];\n",
       "        });\n",
       "    }\n",
       "\n",
       "    function showError(err) {\n",
       "      outputDiv.innerHTML = `<div class=\"error\" style=\"color:red;\">${err}</div>`;\n",
       "      throw err;\n",
       "    }\n",
       "\n",
       "    function displayChart(vegaEmbed) {\n",
       "      vegaEmbed(outputDiv, spec, embedOpt)\n",
       "        .catch(err => showError(`Javascript Error: ${err.message}<br>This usually means there's a typo in your chart specification. See the javascript console for the full traceback.`));\n",
       "    }\n",
       "\n",
       "    if(typeof define === \"function\" && define.amd) {\n",
       "      requirejs.config({paths});\n",
       "      let deps = [\"vega-embed\"];\n",
       "      require(deps, displayChart, err => showError(`Error loading script: ${err.message}`));\n",
       "    } else {\n",
       "      maybeLoadScript(\"vega\", \"5\")\n",
       "        .then(() => maybeLoadScript(\"vega-lite\", \"5.20.1\"))\n",
       "        .then(() => maybeLoadScript(\"vega-embed\", \"6\"))\n",
       "        .catch(showError)\n",
       "        .then(() => displayChart(vegaEmbed));\n",
       "    }\n",
       "  })({\"config\": {\"view\": {\"continuousWidth\": 300, \"continuousHeight\": 300}, \"axis\": {\"labelColor\": \"#5F6368\", \"labelFont\": \"Roboto\", \"labelFontSize\": 12, \"titleColor\": \"#5F6368\", \"titleFont\": \"Roboto\", \"titleFontSize\": 12, \"titleFontWeight\": \"normal\"}}, \"layer\": [{\"data\": {\"name\": \"data-2e8409bc5a5fdb58359811fd367cdff4\"}, \"mark\": {\"type\": \"boxplot\", \"median\": {\"color\": \"#8AB4F8\"}, \"outliers\": {\"filled\": true}}, \"encoding\": {\"x\": {\"axis\": {\"labelAngle\": -45}, \"field\": \"parameter\", \"type\": \"nominal\"}, \"y\": {\"field\": \"rhat\", \"scale\": {\"zero\": false}, \"type\": \"quantitative\"}}}, {\"data\": {\"name\": \"empty\"}, \"mark\": {\"type\": \"rule\", \"color\": \"#D93025\", \"opacity\": 0.8}, \"encoding\": {\"y\": {\"datum\": 1}}}], \"title\": {\"text\": \"R-hat Convergence Diagnostic\", \"anchor\": \"start\", \"color\": \"#3C4043\", \"font\": \"Google Sans Display\", \"fontSize\": 18, \"fontWeight\": \"normal\", \"offset\": 10}, \"width\": 400, \"$schema\": \"https://vega.github.io/schema/vega-lite/v5.20.1.json\", \"datasets\": {\"data-2e8409bc5a5fdb58359811fd367cdff4\": [{\"parameter\": \"alpha_m\", \"rhat\": 0.9998787641525269}, {\"parameter\": \"alpha_m\", \"rhat\": 0.9994875192642212}, {\"parameter\": \"alpha_m\", \"rhat\": 1.000913381576538}, {\"parameter\": \"alpha_m\", \"rhat\": 0.9997707605361938}, {\"parameter\": \"alpha_m\", \"rhat\": 0.9996342658996582}, {\"parameter\": \"beta_gm\", \"rhat\": 1.000043272972107}, {\"parameter\": \"beta_gm\", \"rhat\": 1.002212405204773}, {\"parameter\": \"beta_gm\", \"rhat\": 0.9995933771133423}, {\"parameter\": \"beta_gm\", \"rhat\": 0.999719500541687}, {\"parameter\": \"beta_gm\", \"rhat\": 1.0005090236663818}, {\"parameter\": \"beta_m\", \"rhat\": 1.000043272972107}, {\"parameter\": \"beta_m\", \"rhat\": 1.002212405204773}, {\"parameter\": \"beta_m\", \"rhat\": 0.9995933771133423}, {\"parameter\": \"beta_m\", \"rhat\": 0.999719500541687}, {\"parameter\": \"beta_m\", \"rhat\": 1.0005090236663818}, {\"parameter\": \"ec_m\", \"rhat\": 1.000209927558899}, {\"parameter\": \"ec_m\", \"rhat\": 1.0002624988555908}, {\"parameter\": \"ec_m\", \"rhat\": 1.0012315511703491}, {\"parameter\": \"ec_m\", \"rhat\": 0.9994503259658813}, {\"parameter\": \"ec_m\", \"rhat\": 0.9995187520980835}, {\"parameter\": \"gamma_c\", \"rhat\": 1.0003859996795654}, {\"parameter\": \"gamma_c\", \"rhat\": 1.0004384517669678}, {\"parameter\": \"gamma_c\", \"rhat\": 0.9992766380310059}, {\"parameter\": \"gamma_c\", \"rhat\": 1.000609040260315}, {\"parameter\": \"gamma_c\", \"rhat\": 1.000903606414795}, {\"parameter\": \"gamma_gc\", \"rhat\": 1.0003859996795654}, {\"parameter\": \"gamma_gc\", \"rhat\": 1.0004384517669678}, {\"parameter\": \"gamma_gc\", \"rhat\": 0.9992766380310059}, {\"parameter\": \"gamma_gc\", \"rhat\": 1.000609040260315}, {\"parameter\": \"gamma_gc\", \"rhat\": 1.000903606414795}, {\"parameter\": \"knot_values\", \"rhat\": 1.0030229091644287}, {\"parameter\": \"mu_t\", \"rhat\": 1.0030230283737183}, {\"parameter\": \"mu_t\", \"rhat\": 1.0030230283737183}, {\"parameter\": \"mu_t\", \"rhat\": 1.0030230283737183}, {\"parameter\": \"mu_t\", \"rhat\": 1.0030230283737183}, {\"parameter\": \"mu_t\", \"rhat\": 1.0030230283737183}, {\"parameter\": \"mu_t\", \"rhat\": 1.0030230283737183}, {\"parameter\": \"mu_t\", \"rhat\": 1.0030230283737183}, {\"parameter\": \"mu_t\", \"rhat\": 1.0030230283737183}, {\"parameter\": \"mu_t\", \"rhat\": 1.0030230283737183}, {\"parameter\": \"mu_t\", \"rhat\": 1.0030230283737183}, {\"parameter\": \"mu_t\", \"rhat\": 1.0030230283737183}, {\"parameter\": \"mu_t\", \"rhat\": 1.0030230283737183}, {\"parameter\": \"mu_t\", \"rhat\": 1.0030230283737183}, {\"parameter\": \"mu_t\", \"rhat\": 1.0030230283737183}, {\"parameter\": \"mu_t\", \"rhat\": 1.0030230283737183}, {\"parameter\": \"mu_t\", \"rhat\": 1.0030230283737183}, {\"parameter\": \"mu_t\", \"rhat\": 1.0030230283737183}, {\"parameter\": \"mu_t\", \"rhat\": 1.0030230283737183}, {\"parameter\": \"mu_t\", \"rhat\": 1.0030230283737183}, {\"parameter\": \"mu_t\", \"rhat\": 1.0030230283737183}, {\"parameter\": \"mu_t\", \"rhat\": 1.0030230283737183}, {\"parameter\": \"mu_t\", \"rhat\": 1.0030230283737183}, {\"parameter\": \"mu_t\", \"rhat\": 1.0030230283737183}, {\"parameter\": \"mu_t\", \"rhat\": 1.0030230283737183}, {\"parameter\": \"mu_t\", \"rhat\": 1.0030230283737183}, {\"parameter\": \"mu_t\", \"rhat\": 1.0030230283737183}, {\"parameter\": \"mu_t\", \"rhat\": 1.0030230283737183}, {\"parameter\": \"mu_t\", \"rhat\": 1.0030230283737183}, {\"parameter\": \"mu_t\", \"rhat\": 1.0030230283737183}, {\"parameter\": \"mu_t\", \"rhat\": 1.0030230283737183}, {\"parameter\": \"mu_t\", \"rhat\": 1.0030230283737183}, {\"parameter\": \"mu_t\", \"rhat\": 1.0030230283737183}, {\"parameter\": \"mu_t\", \"rhat\": 1.0030230283737183}, {\"parameter\": \"mu_t\", \"rhat\": 1.0030230283737183}, {\"parameter\": \"mu_t\", \"rhat\": 1.0030230283737183}, {\"parameter\": \"mu_t\", \"rhat\": 1.0030230283737183}, {\"parameter\": \"mu_t\", \"rhat\": 1.0030230283737183}, {\"parameter\": \"mu_t\", \"rhat\": 1.0030230283737183}, {\"parameter\": \"mu_t\", \"rhat\": 1.0030230283737183}, {\"parameter\": \"mu_t\", \"rhat\": 1.0030230283737183}, {\"parameter\": \"mu_t\", \"rhat\": 1.0030230283737183}, {\"parameter\": \"mu_t\", \"rhat\": 1.0030230283737183}, {\"parameter\": \"mu_t\", \"rhat\": 1.0030230283737183}, {\"parameter\": \"mu_t\", \"rhat\": 1.0030230283737183}, {\"parameter\": \"mu_t\", \"rhat\": 1.0030230283737183}, {\"parameter\": \"mu_t\", \"rhat\": 1.0030230283737183}, {\"parameter\": \"mu_t\", \"rhat\": 1.0030230283737183}, {\"parameter\": \"mu_t\", \"rhat\": 1.0030230283737183}, {\"parameter\": \"mu_t\", \"rhat\": 1.0030230283737183}, {\"parameter\": \"mu_t\", \"rhat\": 1.0030230283737183}, {\"parameter\": \"mu_t\", \"rhat\": 1.0030230283737183}, {\"parameter\": \"mu_t\", \"rhat\": 1.0030230283737183}, {\"parameter\": \"mu_t\", \"rhat\": 1.0030230283737183}, {\"parameter\": \"mu_t\", \"rhat\": 1.0030230283737183}, {\"parameter\": \"mu_t\", \"rhat\": 1.0030230283737183}, {\"parameter\": \"mu_t\", \"rhat\": 1.0030230283737183}, {\"parameter\": \"mu_t\", \"rhat\": 1.0030230283737183}, {\"parameter\": \"mu_t\", \"rhat\": 1.0030230283737183}, {\"parameter\": \"mu_t\", \"rhat\": 1.0030230283737183}, {\"parameter\": \"mu_t\", \"rhat\": 1.0030230283737183}, {\"parameter\": \"mu_t\", \"rhat\": 1.0030230283737183}, {\"parameter\": \"mu_t\", \"rhat\": 1.0030230283737183}, {\"parameter\": \"mu_t\", \"rhat\": 1.0030230283737183}, {\"parameter\": \"mu_t\", \"rhat\": 1.0030230283737183}, {\"parameter\": \"mu_t\", \"rhat\": 1.0030230283737183}, {\"parameter\": \"mu_t\", \"rhat\": 1.0030230283737183}, {\"parameter\": \"mu_t\", \"rhat\": 1.0030230283737183}, {\"parameter\": \"mu_t\", \"rhat\": 1.0030230283737183}, {\"parameter\": \"mu_t\", \"rhat\": 1.0030230283737183}, {\"parameter\": \"mu_t\", \"rhat\": 1.0030230283737183}, {\"parameter\": \"mu_t\", \"rhat\": 1.0030230283737183}, {\"parameter\": \"mu_t\", \"rhat\": 1.0030230283737183}, {\"parameter\": \"mu_t\", \"rhat\": 1.0030230283737183}, {\"parameter\": \"mu_t\", \"rhat\": 1.0030230283737183}, {\"parameter\": \"mu_t\", \"rhat\": 1.0030230283737183}, {\"parameter\": \"mu_t\", \"rhat\": 1.0030230283737183}, {\"parameter\": \"mu_t\", \"rhat\": 1.0030230283737183}, {\"parameter\": \"mu_t\", \"rhat\": 1.0030230283737183}, {\"parameter\": \"mu_t\", \"rhat\": 1.0030230283737183}, {\"parameter\": \"mu_t\", \"rhat\": 1.0030230283737183}, {\"parameter\": \"mu_t\", \"rhat\": 1.0030230283737183}, {\"parameter\": \"mu_t\", \"rhat\": 1.0030230283737183}, {\"parameter\": \"mu_t\", \"rhat\": 1.0030230283737183}, {\"parameter\": \"mu_t\", \"rhat\": 1.0030230283737183}, {\"parameter\": \"mu_t\", \"rhat\": 1.0030230283737183}, {\"parameter\": \"mu_t\", \"rhat\": 1.0030230283737183}, {\"parameter\": \"mu_t\", \"rhat\": 1.0030230283737183}, {\"parameter\": \"mu_t\", \"rhat\": 1.0030230283737183}, {\"parameter\": \"mu_t\", \"rhat\": 1.0030230283737183}, {\"parameter\": \"mu_t\", \"rhat\": 1.0030230283737183}, {\"parameter\": \"mu_t\", \"rhat\": 1.0030230283737183}, {\"parameter\": \"mu_t\", \"rhat\": 1.0030230283737183}, {\"parameter\": \"mu_t\", \"rhat\": 1.0030230283737183}, {\"parameter\": \"mu_t\", \"rhat\": 1.0030230283737183}, {\"parameter\": \"mu_t\", \"rhat\": 1.0030230283737183}, {\"parameter\": \"mu_t\", \"rhat\": 1.0030230283737183}, {\"parameter\": \"mu_t\", \"rhat\": 1.0030230283737183}, {\"parameter\": \"mu_t\", \"rhat\": 1.0030230283737183}, {\"parameter\": \"mu_t\", \"rhat\": 1.0030230283737183}, {\"parameter\": \"mu_t\", \"rhat\": 1.0030230283737183}, {\"parameter\": \"mu_t\", \"rhat\": 1.0030230283737183}, {\"parameter\": \"mu_t\", \"rhat\": 1.0030230283737183}, {\"parameter\": \"mu_t\", \"rhat\": 1.0030230283737183}, {\"parameter\": \"mu_t\", \"rhat\": 1.0030230283737183}, {\"parameter\": \"mu_t\", \"rhat\": 1.0030230283737183}, {\"parameter\": \"mu_t\", \"rhat\": 1.0030230283737183}, {\"parameter\": \"mu_t\", \"rhat\": 1.0030230283737183}, {\"parameter\": \"mu_t\", \"rhat\": 1.0030230283737183}, {\"parameter\": \"mu_t\", \"rhat\": 1.0030230283737183}, {\"parameter\": \"mu_t\", \"rhat\": 1.0030230283737183}, {\"parameter\": \"roi_m\", \"rhat\": 0.9999263286590576}, {\"parameter\": \"roi_m\", \"rhat\": 1.0017914772033691}, {\"parameter\": \"roi_m\", \"rhat\": 1.00400710105896}, {\"parameter\": \"roi_m\", \"rhat\": 0.9996308088302612}, {\"parameter\": \"roi_m\", \"rhat\": 1.0001319646835327}, {\"parameter\": \"sigma\", \"rhat\": 0.9999052286148071}], \"empty\": [{}]}}, {\"mode\": \"vega-lite\"});\n",
       "</script>"
      ],
      "text/plain": [
       "alt.LayerChart(...)"
      ]
     },
     "execution_count": 5,
     "metadata": {},
     "output_type": "execute_result"
    }
   ],
   "source": [
    "model_diagnostics = visualizer.ModelDiagnostics(mmm)\n",
    "model_diagnostics.plot_rhat_boxplot()"
   ]
  },
  {
   "cell_type": "code",
   "execution_count": 6,
   "id": "dcf18c28",
   "metadata": {},
   "outputs": [
    {
     "name": "stderr",
     "output_type": "stream",
     "text": [
      "c:\\Users\\GagandeepBajwa\\Documents\\impact_V2\\venv\\Lib\\site-packages\\meridian\\analysis\\analyzer.py:540: UserWarning: The `aggregate_geos` argument is ignored in the national model. It will be reset to `True`.\n",
      "  warnings.warn(\n"
     ]
    },
    {
     "data": {
      "text/html": [
       "\n",
       "<style>\n",
       "  #altair-viz-3b72380f505945d19dc54822b1d9afa7.vega-embed {\n",
       "    width: 100%;\n",
       "    display: flex;\n",
       "  }\n",
       "\n",
       "  #altair-viz-3b72380f505945d19dc54822b1d9afa7.vega-embed details,\n",
       "  #altair-viz-3b72380f505945d19dc54822b1d9afa7.vega-embed details summary {\n",
       "    position: relative;\n",
       "  }\n",
       "</style>\n",
       "<div id=\"altair-viz-3b72380f505945d19dc54822b1d9afa7\"></div>\n",
       "<script type=\"text/javascript\">\n",
       "  var VEGA_DEBUG = (typeof VEGA_DEBUG == \"undefined\") ? {} : VEGA_DEBUG;\n",
       "  (function(spec, embedOpt){\n",
       "    let outputDiv = document.currentScript.previousElementSibling;\n",
       "    if (outputDiv.id !== \"altair-viz-3b72380f505945d19dc54822b1d9afa7\") {\n",
       "      outputDiv = document.getElementById(\"altair-viz-3b72380f505945d19dc54822b1d9afa7\");\n",
       "    }\n",
       "\n",
       "    const paths = {\n",
       "      \"vega\": \"https://cdn.jsdelivr.net/npm/vega@5?noext\",\n",
       "      \"vega-lib\": \"https://cdn.jsdelivr.net/npm/vega-lib?noext\",\n",
       "      \"vega-lite\": \"https://cdn.jsdelivr.net/npm/vega-lite@5.20.1?noext\",\n",
       "      \"vega-embed\": \"https://cdn.jsdelivr.net/npm/vega-embed@6?noext\",\n",
       "    };\n",
       "\n",
       "    function maybeLoadScript(lib, version) {\n",
       "      var key = `${lib.replace(\"-\", \"\")}_version`;\n",
       "      return (VEGA_DEBUG[key] == version) ?\n",
       "        Promise.resolve(paths[lib]) :\n",
       "        new Promise(function(resolve, reject) {\n",
       "          var s = document.createElement('script');\n",
       "          document.getElementsByTagName(\"head\")[0].appendChild(s);\n",
       "          s.async = true;\n",
       "          s.onload = () => {\n",
       "            VEGA_DEBUG[key] = version;\n",
       "            return resolve(paths[lib]);\n",
       "          };\n",
       "          s.onerror = () => reject(`Error loading script: ${paths[lib]}`);\n",
       "          s.src = paths[lib];\n",
       "        });\n",
       "    }\n",
       "\n",
       "    function showError(err) {\n",
       "      outputDiv.innerHTML = `<div class=\"error\" style=\"color:red;\">${err}</div>`;\n",
       "      throw err;\n",
       "    }\n",
       "\n",
       "    function displayChart(vegaEmbed) {\n",
       "      vegaEmbed(outputDiv, spec, embedOpt)\n",
       "        .catch(err => showError(`Javascript Error: ${err.message}<br>This usually means there's a typo in your chart specification. See the javascript console for the full traceback.`));\n",
       "    }\n",
       "\n",
       "    if(typeof define === \"function\" && define.amd) {\n",
       "      requirejs.config({paths});\n",
       "      let deps = [\"vega-embed\"];\n",
       "      require(deps, displayChart, err => showError(`Error loading script: ${err.message}`));\n",
       "    } else {\n",
       "      maybeLoadScript(\"vega\", \"5\")\n",
       "        .then(() => maybeLoadScript(\"vega-lite\", \"5.20.1\"))\n",
       "        .then(() => maybeLoadScript(\"vega-embed\", \"6\"))\n",
       "        .catch(showError)\n",
       "        .then(() => displayChart(vegaEmbed));\n",
       "    }\n",
       "  })({\"config\": {\"view\": {\"continuousWidth\": 300, \"continuousHeight\": 300}, \"axis\": {\"labelColor\": \"#5F6368\", \"labelFont\": \"Roboto\", \"labelFontSize\": 12, \"titleColor\": \"#5F6368\", \"titleFont\": \"Roboto\", \"titleFontSize\": 12, \"titleFontWeight\": \"normal\"}}, \"layer\": [{\"mark\": {\"type\": \"line\"}, \"encoding\": {\"color\": {\"field\": \"type\", \"scale\": {\"domain\": [\"expected\", \"actual\", \"baseline\"], \"range\": [\"#1A73E8\", \"#81C995\", \"#F9AB00\"]}, \"type\": \"nominal\"}, \"x\": {\"axis\": {\"domainColor\": \"#DADCE0\", \"format\": \"%Y %b\", \"grid\": false, \"tickCount\": 8}, \"field\": \"time\", \"title\": \"Time period\", \"type\": \"temporal\"}, \"y\": {\"axis\": {\"domain\": false, \"labelExpr\": \"replace(format(datum.value, '.3~s'), 'G', 'B')\", \"labelPadding\": 10, \"tickCount\": 5, \"ticks\": false, \"titleAlign\": \"left\", \"titleAngle\": 0, \"titleY\": -20}, \"field\": \"mean\", \"title\": \"Revenue\", \"type\": \"quantitative\"}}}, {\"mark\": {\"type\": \"area\", \"opacity\": 0.3}, \"encoding\": {\"color\": {\"field\": \"type\", \"legend\": null, \"scale\": {\"domain\": [\"expected\"], \"range\": [\"#1A73E8\"]}, \"type\": \"nominal\"}, \"x\": {\"field\": \"time\", \"type\": \"temporal\"}, \"y\": {\"field\": \"ci_hi\", \"type\": \"quantitative\"}, \"y2\": {\"field\": \"ci_lo\"}}}], \"data\": {\"name\": \"data-1939bc39943136b0bbc9b2f8af242b4d\"}, \"resolve\": {\"scale\": {\"color\": \"independent\"}}, \"title\": {\"text\": \"Expected revenue vs. actual revenue\", \"anchor\": \"start\", \"color\": \"#3C4043\", \"font\": \"Google Sans Display\", \"fontSize\": 18, \"fontWeight\": \"normal\", \"offset\": 10}, \"width\": 900, \"$schema\": \"https://vega.github.io/schema/vega-lite/v5.20.1.json\", \"datasets\": {\"data-1939bc39943136b0bbc9b2f8af242b4d\": [{\"time\": \"2023-03-27\", \"type\": \"actual\", \"ci_hi\": 85739.4765625, \"ci_lo\": 85739.4765625, \"mean\": 85739.4765625}, {\"time\": \"2023-03-27\", \"type\": \"baseline\", \"ci_hi\": -39134.94140625, \"ci_lo\": -247495.53125, \"mean\": -126264.21875}, {\"time\": \"2023-03-27\", \"type\": \"expected\", \"ci_hi\": 84720.6640625, \"ci_lo\": -16442.65625, \"mean\": 35511.0390625}, {\"time\": \"2023-04-03\", \"type\": \"actual\", \"ci_hi\": 218566.03125, \"ci_lo\": 218566.03125, \"mean\": 218566.03125}, {\"time\": \"2023-04-03\", \"type\": \"baseline\", \"ci_hi\": -51933.8203125, \"ci_lo\": -266589.40625, \"mean\": -143153.109375}, {\"time\": \"2023-04-03\", \"type\": \"expected\", \"ci_hi\": 299828.625, \"ci_lo\": 190532.359375, \"mean\": 250271.640625}, {\"time\": \"2023-04-10\", \"type\": \"actual\", \"ci_hi\": 284758.15625, \"ci_lo\": 284758.15625, \"mean\": 284758.15625}, {\"time\": \"2023-04-10\", \"type\": \"baseline\", \"ci_hi\": -51396.7265625, \"ci_lo\": -260951.328125, \"mean\": -139557.296875}, {\"time\": \"2023-04-10\", \"type\": \"expected\", \"ci_hi\": 316611.1875, \"ci_lo\": 260504.453125, \"mean\": 292020.3125}, {\"time\": \"2023-04-17\", \"type\": \"actual\", \"ci_hi\": 238625.984375, \"ci_lo\": 238625.984375, \"mean\": 238625.984375}, {\"time\": \"2023-04-17\", \"type\": \"baseline\", \"ci_hi\": -57419.10546875, \"ci_lo\": -267245.875, \"mean\": -145969.703125}, {\"time\": \"2023-04-17\", \"type\": \"expected\", \"ci_hi\": 322109.40625, \"ci_lo\": 282567.84375, \"mean\": 303288.90625}, {\"time\": \"2023-04-24\", \"type\": \"actual\", \"ci_hi\": 281379.1875, \"ci_lo\": 281379.1875, \"mean\": 281379.1875}, {\"time\": \"2023-04-24\", \"type\": \"baseline\", \"ci_hi\": -63510.0078125, \"ci_lo\": -273634.34375, \"mean\": -152160.015625}, {\"time\": \"2023-04-24\", \"type\": \"expected\", \"ci_hi\": 306377.3125, \"ci_lo\": 274191.125, \"mean\": 290482.9375}, {\"time\": \"2023-05-01\", \"type\": \"actual\", \"ci_hi\": 295090.53125, \"ci_lo\": 295090.53125, \"mean\": 295090.53125}, {\"time\": \"2023-05-01\", \"type\": \"baseline\", \"ci_hi\": -74738.484375, \"ci_lo\": -292048.5625, \"mean\": -168176.046875}, {\"time\": \"2023-05-01\", \"type\": \"expected\", \"ci_hi\": 323931.9375, \"ci_lo\": 270691.46875, \"mean\": 297409.65625}, {\"time\": \"2023-05-08\", \"type\": \"actual\", \"ci_hi\": 354746.0, \"ci_lo\": 354746.0, \"mean\": 354746.0}, {\"time\": \"2023-05-08\", \"type\": \"baseline\", \"ci_hi\": -79996.4375, \"ci_lo\": -297231.96875, \"mean\": -173656.609375}, {\"time\": \"2023-05-08\", \"type\": \"expected\", \"ci_hi\": 306320.375, \"ci_lo\": 251050.9375, \"mean\": 278464.34375}, {\"time\": \"2023-05-15\", \"type\": \"actual\", \"ci_hi\": 230501.796875, \"ci_lo\": 230501.796875, \"mean\": 230501.796875}, {\"time\": \"2023-05-15\", \"type\": \"baseline\", \"ci_hi\": -78361.5703125, \"ci_lo\": -289522.96875, \"mean\": -168522.015625}, {\"time\": \"2023-05-15\", \"type\": \"expected\", \"ci_hi\": 303612.40625, \"ci_lo\": 270083.6875, \"mean\": 286591.875}, {\"time\": \"2023-05-22\", \"type\": \"actual\", \"ci_hi\": 261650.625, \"ci_lo\": 261650.625, \"mean\": 261650.625}, {\"time\": \"2023-05-22\", \"type\": \"baseline\", \"ci_hi\": -82912.03125, \"ci_lo\": -293536.0, \"mean\": -172973.34375}, {\"time\": \"2023-05-22\", \"type\": \"expected\", \"ci_hi\": 310434.625, \"ci_lo\": 276875.9375, \"mean\": 293674.4375}, {\"time\": \"2023-05-29\", \"type\": \"actual\", \"ci_hi\": 301327.0625, \"ci_lo\": 301327.0625, \"mean\": 301327.0625}, {\"time\": \"2023-05-29\", \"type\": \"baseline\", \"ci_hi\": -92878.484375, \"ci_lo\": -310334.875, \"mean\": -186946.796875}, {\"time\": \"2023-05-29\", \"type\": \"expected\", \"ci_hi\": 311728.65625, \"ci_lo\": 254173.3125, \"mean\": 282493.9375}, {\"time\": \"2023-06-05\", \"type\": \"actual\", \"ci_hi\": 287988.75, \"ci_lo\": 287988.75, \"mean\": 287988.75}, {\"time\": \"2023-06-05\", \"type\": \"baseline\", \"ci_hi\": -89820.640625, \"ci_lo\": -300156.6875, \"mean\": -179974.15625}, {\"time\": \"2023-06-05\", \"type\": \"expected\", \"ci_hi\": 321400.5625, \"ci_lo\": 283211.1875, \"mean\": 301953.875}, {\"time\": \"2023-06-12\", \"type\": \"actual\", \"ci_hi\": 297923.21875, \"ci_lo\": 297923.21875, \"mean\": 297923.21875}, {\"time\": \"2023-06-12\", \"type\": \"baseline\", \"ci_hi\": -92657.21875, \"ci_lo\": -302444.90625, \"mean\": -182420.5}, {\"time\": \"2023-06-12\", \"type\": \"expected\", \"ci_hi\": 315345.78125, \"ci_lo\": 278007.125, \"mean\": 296382.0}, {\"time\": \"2023-06-19\", \"type\": \"actual\", \"ci_hi\": 266178.71875, \"ci_lo\": 266178.71875, \"mean\": 266178.71875}, {\"time\": \"2023-06-19\", \"type\": \"baseline\", \"ci_hi\": -94506.3828125, \"ci_lo\": -303937.59375, \"mean\": -184114.15625}, {\"time\": \"2023-06-19\", \"type\": \"expected\", \"ci_hi\": 285892.15625, \"ci_lo\": 250453.015625, \"mean\": 267940.21875}, {\"time\": \"2023-06-26\", \"type\": \"actual\", \"ci_hi\": 212131.03125, \"ci_lo\": 212131.03125, \"mean\": 212131.03125}, {\"time\": \"2023-06-26\", \"type\": \"baseline\", \"ci_hi\": -95682.90625, \"ci_lo\": -304187.46875, \"mean\": -185028.84375}, {\"time\": \"2023-06-26\", \"type\": \"expected\", \"ci_hi\": 261109.578125, \"ci_lo\": 225170.5625, \"mean\": 242741.890625}, {\"time\": \"2023-07-03\", \"type\": \"actual\", \"ci_hi\": 172204.4375, \"ci_lo\": 172204.4375, \"mean\": 172204.4375}, {\"time\": \"2023-07-03\", \"type\": \"baseline\", \"ci_hi\": -96162.7421875, \"ci_lo\": -304356.9375, \"mean\": -185151.859375}, {\"time\": \"2023-07-03\", \"type\": \"expected\", \"ci_hi\": 244271.8125, \"ci_lo\": 210079.921875, \"mean\": 226938.71875}, {\"time\": \"2023-07-10\", \"type\": \"actual\", \"ci_hi\": 137605.171875, \"ci_lo\": 137605.171875, \"mean\": 137605.171875}, {\"time\": \"2023-07-10\", \"type\": \"baseline\", \"ci_hi\": -95957.0, \"ci_lo\": -303532.71875, \"mean\": -184482.671875}, {\"time\": \"2023-07-10\", \"type\": \"expected\", \"ci_hi\": 216140.25, \"ci_lo\": 174721.953125, \"mean\": 195077.96875}, {\"time\": \"2023-07-17\", \"type\": \"actual\", \"ci_hi\": 181781.1875, \"ci_lo\": 181781.1875, \"mean\": 181781.1875}, {\"time\": \"2023-07-17\", \"type\": \"baseline\", \"ci_hi\": -95114.640625, \"ci_lo\": -301389.90625, \"mean\": -183029.21875}, {\"time\": \"2023-07-17\", \"type\": \"expected\", \"ci_hi\": 221744.78125, \"ci_lo\": 187109.265625, \"mean\": 204304.875}, {\"time\": \"2023-07-24\", \"type\": \"actual\", \"ci_hi\": 205570.578125, \"ci_lo\": 205570.578125, \"mean\": 205570.578125}, {\"time\": \"2023-07-24\", \"type\": \"baseline\", \"ci_hi\": -93492.828125, \"ci_lo\": -299967.625, \"mean\": -180813.15625}, {\"time\": \"2023-07-24\", \"type\": \"expected\", \"ci_hi\": 263966.78125, \"ci_lo\": 222985.4375, \"mean\": 243387.796875}, {\"time\": \"2023-07-31\", \"type\": \"actual\", \"ci_hi\": 183860.84375, \"ci_lo\": 183860.84375, \"mean\": 183860.84375}, {\"time\": \"2023-07-31\", \"type\": \"baseline\", \"ci_hi\": -91058.703125, \"ci_lo\": -296588.90625, \"mean\": -177867.359375}, {\"time\": \"2023-07-31\", \"type\": \"expected\", \"ci_hi\": 227554.03125, \"ci_lo\": 194623.28125, \"mean\": 211051.9375}, {\"time\": \"2023-08-07\", \"type\": \"actual\", \"ci_hi\": 180266.46875, \"ci_lo\": 180266.46875, \"mean\": 180266.46875}, {\"time\": \"2023-08-07\", \"type\": \"baseline\", \"ci_hi\": -88125.109375, \"ci_lo\": -292821.65625, \"mean\": -174234.984375}, {\"time\": \"2023-08-07\", \"type\": \"expected\", \"ci_hi\": 233077.78125, \"ci_lo\": 200297.734375, \"mean\": 216695.265625}, {\"time\": \"2023-08-14\", \"type\": \"actual\", \"ci_hi\": 146588.796875, \"ci_lo\": 146588.796875, \"mean\": 146588.796875}, {\"time\": \"2023-08-14\", \"type\": \"baseline\", \"ci_hi\": -84471.53125, \"ci_lo\": -288288.8125, \"mean\": -169967.34375}, {\"time\": \"2023-08-14\", \"type\": \"expected\", \"ci_hi\": 189877.890625, \"ci_lo\": 147823.484375, \"mean\": 169094.265625}, {\"time\": \"2023-08-21\", \"type\": \"actual\", \"ci_hi\": 121569.6328125, \"ci_lo\": 121569.6328125, \"mean\": 121569.6328125}, {\"time\": \"2023-08-21\", \"type\": \"baseline\", \"ci_hi\": -80395.8828125, \"ci_lo\": -283407.5625, \"mean\": -165128.859375}, {\"time\": \"2023-08-21\", \"type\": \"expected\", \"ci_hi\": 164013.84375, \"ci_lo\": 119255.4921875, \"mean\": 141571.5}, {\"time\": \"2023-08-28\", \"type\": \"actual\", \"ci_hi\": 153008.28125, \"ci_lo\": 153008.28125, \"mean\": 153008.28125}, {\"time\": \"2023-08-28\", \"type\": \"baseline\", \"ci_hi\": -75813.515625, \"ci_lo\": -277870.875, \"mean\": -159788.984375}, {\"time\": \"2023-08-28\", \"type\": \"expected\", \"ci_hi\": 155047.796875, \"ci_lo\": 113983.0234375, \"mean\": 134485.515625}, {\"time\": \"2023-09-04\", \"type\": \"actual\", \"ci_hi\": 143557.25, \"ci_lo\": 143557.25, \"mean\": 143557.25}, {\"time\": \"2023-09-04\", \"type\": \"baseline\", \"ci_hi\": -70729.34375, \"ci_lo\": -272265.5, \"mean\": -154025.65625}, {\"time\": \"2023-09-04\", \"type\": \"expected\", \"ci_hi\": 147241.53125, \"ci_lo\": 105593.6015625, \"mean\": 126446.7109375}, {\"time\": \"2023-09-11\", \"type\": \"actual\", \"ci_hi\": 124717.0546875, \"ci_lo\": 124717.0546875, \"mean\": 124717.0546875}, {\"time\": \"2023-09-11\", \"type\": \"baseline\", \"ci_hi\": -65268.8359375, \"ci_lo\": -265438.15625, \"mean\": -147921.78125}, {\"time\": \"2023-09-11\", \"type\": \"expected\", \"ci_hi\": 135718.375, \"ci_lo\": 90511.5078125, \"mean\": 113027.7734375}, {\"time\": \"2023-09-18\", \"type\": \"actual\", \"ci_hi\": 95326.0234375, \"ci_lo\": 95326.0234375, \"mean\": 95326.0234375}, {\"time\": \"2023-09-18\", \"type\": \"baseline\", \"ci_hi\": -59499.45703125, \"ci_lo\": -258668.953125, \"mean\": -141568.65625}, {\"time\": \"2023-09-18\", \"type\": \"expected\", \"ci_hi\": 138086.8125, \"ci_lo\": 95079.5234375, \"mean\": 116571.2734375}, {\"time\": \"2023-09-25\", \"type\": \"actual\", \"ci_hi\": 138962.703125, \"ci_lo\": 138962.703125, \"mean\": 138962.703125}, {\"time\": \"2023-09-25\", \"type\": \"baseline\", \"ci_hi\": -53391.40625, \"ci_lo\": -251791.125, \"mean\": -135057.234375}, {\"time\": \"2023-09-25\", \"type\": \"expected\", \"ci_hi\": 131770.421875, \"ci_lo\": 87868.515625, \"mean\": 109858.90625}, {\"time\": \"2023-10-02\", \"type\": \"actual\", \"ci_hi\": 157495.03125, \"ci_lo\": 157495.03125, \"mean\": 157495.03125}, {\"time\": \"2023-10-02\", \"type\": \"baseline\", \"ci_hi\": -47393.828125, \"ci_lo\": -244908.34375, \"mean\": -128483.5546875}, {\"time\": \"2023-10-02\", \"type\": \"expected\", \"ci_hi\": 139631.6875, \"ci_lo\": 97014.28125, \"mean\": 118349.453125}, {\"time\": \"2023-10-09\", \"type\": \"actual\", \"ci_hi\": 123120.5078125, \"ci_lo\": 123120.5078125, \"mean\": 123120.5078125}, {\"time\": \"2023-10-09\", \"type\": \"baseline\", \"ci_hi\": -41603.5078125, \"ci_lo\": -237781.921875, \"mean\": -121942.71875}, {\"time\": \"2023-10-09\", \"type\": \"expected\", \"ci_hi\": 170206.375, \"ci_lo\": 126769.75, \"mean\": 148902.125}, {\"time\": \"2023-10-16\", \"type\": \"actual\", \"ci_hi\": 136376.671875, \"ci_lo\": 136376.671875, \"mean\": 136376.671875}, {\"time\": \"2023-10-16\", \"type\": \"baseline\", \"ci_hi\": -35605.23828125, \"ci_lo\": -230928.5, \"mean\": -115530.0859375}, {\"time\": \"2023-10-16\", \"type\": \"expected\", \"ci_hi\": 181952.703125, \"ci_lo\": 143004.9375, \"mean\": 162815.1875}, {\"time\": \"2023-10-23\", \"type\": \"actual\", \"ci_hi\": 160853.734375, \"ci_lo\": 160853.734375, \"mean\": 160853.734375}, {\"time\": \"2023-10-23\", \"type\": \"baseline\", \"ci_hi\": -30060.513671875, \"ci_lo\": -225038.703125, \"mean\": -109339.6953125}, {\"time\": \"2023-10-23\", \"type\": \"expected\", \"ci_hi\": 189340.0625, \"ci_lo\": 153143.46875, \"mean\": 171350.515625}, {\"time\": \"2023-10-30\", \"type\": \"actual\", \"ci_hi\": 137867.59375, \"ci_lo\": 137867.59375, \"mean\": 137867.59375}, {\"time\": \"2023-10-30\", \"type\": \"baseline\", \"ci_hi\": -24539.744140625, \"ci_lo\": -219068.40625, \"mean\": -103461.296875}, {\"time\": \"2023-10-30\", \"type\": \"expected\", \"ci_hi\": 204905.671875, \"ci_lo\": 169110.765625, \"mean\": 187262.484375}, {\"time\": \"2023-11-06\", \"type\": \"actual\", \"ci_hi\": 150911.203125, \"ci_lo\": 150911.203125, \"mean\": 150911.203125}, {\"time\": \"2023-11-06\", \"type\": \"baseline\", \"ci_hi\": -19361.34765625, \"ci_lo\": -213481.828125, \"mean\": -97980.9921875}, {\"time\": \"2023-11-06\", \"type\": \"expected\", \"ci_hi\": 190072.140625, \"ci_lo\": 155642.34375, \"mean\": 172870.53125}, {\"time\": \"2023-11-13\", \"type\": \"actual\", \"ci_hi\": 203455.875, \"ci_lo\": 203455.875, \"mean\": 203455.875}, {\"time\": \"2023-11-13\", \"type\": \"baseline\", \"ci_hi\": -14441.2265625, \"ci_lo\": -209068.515625, \"mean\": -92978.359375}, {\"time\": \"2023-11-13\", \"type\": \"expected\", \"ci_hi\": 187191.015625, \"ci_lo\": 152306.921875, \"mean\": 169781.75}, {\"time\": \"2023-11-20\", \"type\": \"actual\", \"ci_hi\": 305820.75, \"ci_lo\": 305820.75, \"mean\": 305820.75}, {\"time\": \"2023-11-20\", \"type\": \"baseline\", \"ci_hi\": -10280.3828125, \"ci_lo\": -204960.6875, \"mean\": -88526.6015625}, {\"time\": \"2023-11-20\", \"type\": \"expected\", \"ci_hi\": 179028.03125, \"ci_lo\": 141113.125, \"mean\": 160090.546875}, {\"time\": \"2023-11-27\", \"type\": \"actual\", \"ci_hi\": 149883.09375, \"ci_lo\": 149883.09375, \"mean\": 149883.09375}, {\"time\": \"2023-11-27\", \"type\": \"baseline\", \"ci_hi\": -6474.10400390625, \"ci_lo\": -201073.1875, \"mean\": -84690.8125}, {\"time\": \"2023-11-27\", \"type\": \"expected\", \"ci_hi\": 193801.703125, \"ci_lo\": 159220.796875, \"mean\": 176591.640625}, {\"time\": \"2023-12-04\", \"type\": \"actual\", \"ci_hi\": 81270.25, \"ci_lo\": 81270.25, \"mean\": 81270.25}, {\"time\": \"2023-12-04\", \"type\": \"baseline\", \"ci_hi\": -3003.124755859375, \"ci_lo\": -197675.40625, \"mean\": -81526.2109375}, {\"time\": \"2023-12-04\", \"type\": \"expected\", \"ci_hi\": 193251.96875, \"ci_lo\": 158058.703125, \"mean\": 175705.671875}, {\"time\": \"2023-12-11\", \"type\": \"actual\", \"ci_hi\": 70227.1953125, \"ci_lo\": 70227.1953125, \"mean\": 70227.1953125}, {\"time\": \"2023-12-11\", \"type\": \"baseline\", \"ci_hi\": -138.92691040039062, \"ci_lo\": -195912.015625, \"mean\": -79079.6484375}, {\"time\": \"2023-12-11\", \"type\": \"expected\", \"ci_hi\": 180724.34375, \"ci_lo\": 138785.25, \"mean\": 160070.421875}, {\"time\": \"2023-12-18\", \"type\": \"actual\", \"ci_hi\": 41365.16796875, \"ci_lo\": 41365.16796875, \"mean\": 41365.16796875}, {\"time\": \"2023-12-18\", \"type\": \"baseline\", \"ci_hi\": 1746.763427734375, \"ci_lo\": -194522.265625, \"mean\": -77386.2578125}, {\"time\": \"2023-12-18\", \"type\": \"expected\", \"ci_hi\": 167393.46875, \"ci_lo\": 117831.078125, \"mean\": 143367.578125}, {\"time\": \"2023-12-25\", \"type\": \"actual\", \"ci_hi\": 105169.1015625, \"ci_lo\": 105169.1015625, \"mean\": 105169.1015625}, {\"time\": \"2023-12-25\", \"type\": \"baseline\", \"ci_hi\": -2774.249755859375, \"ci_lo\": -206576.015625, \"mean\": -86608.59375}, {\"time\": \"2023-12-25\", \"type\": \"expected\", \"ci_hi\": 187686.0625, \"ci_lo\": 126324.703125, \"mean\": 156927.90625}, {\"time\": \"2024-01-01\", \"type\": \"actual\", \"ci_hi\": 157165.71875, \"ci_lo\": 157165.71875, \"mean\": 157165.71875}, {\"time\": \"2024-01-01\", \"type\": \"baseline\", \"ci_hi\": -2235.692138671875, \"ci_lo\": -206308.328125, \"mean\": -86485.1640625}, {\"time\": \"2024-01-01\", \"type\": \"expected\", \"ci_hi\": 201700.4375, \"ci_lo\": 143273.453125, \"mean\": 172658.140625}, {\"time\": \"2024-01-08\", \"type\": \"actual\", \"ci_hi\": 145551.171875, \"ci_lo\": 145551.171875, \"mean\": 145551.171875}, {\"time\": \"2024-01-08\", \"type\": \"baseline\", \"ci_hi\": -54995.3984375, \"ci_lo\": -272766.71875, \"mean\": -150066.453125}, {\"time\": \"2024-01-08\", \"type\": \"expected\", \"ci_hi\": 189388.640625, \"ci_lo\": 69863.4765625, \"mean\": 128953.3671875}, {\"time\": \"2024-01-15\", \"type\": \"actual\", \"ci_hi\": 141539.09375, \"ci_lo\": 141539.09375, \"mean\": 141539.09375}, {\"time\": \"2024-01-15\", \"type\": \"baseline\", \"ci_hi\": -83386.109375, \"ci_lo\": -302538.1875, \"mean\": -175422.890625}, {\"time\": \"2024-01-15\", \"type\": \"expected\", \"ci_hi\": 153300.65625, \"ci_lo\": 74081.5234375, \"mean\": 113780.46875}, {\"time\": \"2024-01-22\", \"type\": \"actual\", \"ci_hi\": 175258.78125, \"ci_lo\": 175258.78125, \"mean\": 175258.78125}, {\"time\": \"2024-01-22\", \"type\": \"baseline\", \"ci_hi\": -62370.68359375, \"ci_lo\": -265180.34375, \"mean\": -145488.890625}, {\"time\": \"2024-01-22\", \"type\": \"expected\", \"ci_hi\": 189581.25, \"ci_lo\": 142131.5625, \"mean\": 165783.046875}, {\"time\": \"2024-01-29\", \"type\": \"actual\", \"ci_hi\": 164262.40625, \"ci_lo\": 164262.40625, \"mean\": 164262.40625}, {\"time\": \"2024-01-29\", \"type\": \"baseline\", \"ci_hi\": -62280.21875, \"ci_lo\": -264249.1875, \"mean\": -144848.484375}, {\"time\": \"2024-01-29\", \"type\": \"expected\", \"ci_hi\": 193376.3125, \"ci_lo\": 148156.546875, \"mean\": 170696.78125}, {\"time\": \"2024-02-05\", \"type\": \"actual\", \"ci_hi\": 220058.765625, \"ci_lo\": 220058.765625, \"mean\": 220058.765625}, {\"time\": \"2024-02-05\", \"type\": \"baseline\", \"ci_hi\": -64492.39453125, \"ci_lo\": -267867.03125, \"mean\": -148039.28125}, {\"time\": \"2024-02-05\", \"type\": \"expected\", \"ci_hi\": 225373.046875, \"ci_lo\": 177989.796875, \"mean\": 201584.453125}, {\"time\": \"2024-02-12\", \"type\": \"actual\", \"ci_hi\": 189268.0, \"ci_lo\": 189268.0, \"mean\": 189268.0}, {\"time\": \"2024-02-12\", \"type\": \"baseline\", \"ci_hi\": -64244.296875, \"ci_lo\": -268876.5625, \"mean\": -148129.453125}, {\"time\": \"2024-02-12\", \"type\": \"expected\", \"ci_hi\": 240006.5, \"ci_lo\": 193974.234375, \"mean\": 217053.625}, {\"time\": \"2024-02-19\", \"type\": \"actual\", \"ci_hi\": 186666.75, \"ci_lo\": 186666.75, \"mean\": 186666.75}, {\"time\": \"2024-02-19\", \"type\": \"baseline\", \"ci_hi\": -60823.41015625, \"ci_lo\": -267534.0, \"mean\": -144973.859375}, {\"time\": \"2024-02-19\", \"type\": \"expected\", \"ci_hi\": 243969.28125, \"ci_lo\": 200000.453125, \"mean\": 221909.203125}, {\"time\": \"2024-02-26\", \"type\": \"actual\", \"ci_hi\": 171289.40625, \"ci_lo\": 171289.40625, \"mean\": 171289.40625}, {\"time\": \"2024-02-26\", \"type\": \"baseline\", \"ci_hi\": -58698.83984375, \"ci_lo\": -264588.3125, \"mean\": -142814.875}, {\"time\": \"2024-02-26\", \"type\": \"expected\", \"ci_hi\": 240681.515625, \"ci_lo\": 198845.96875, \"mean\": 219833.703125}, {\"time\": \"2024-03-04\", \"type\": \"actual\", \"ci_hi\": 219704.09375, \"ci_lo\": 219704.09375, \"mean\": 219704.09375}, {\"time\": \"2024-03-04\", \"type\": \"baseline\", \"ci_hi\": -60220.1953125, \"ci_lo\": -265977.15625, \"mean\": -144518.609375}, {\"time\": \"2024-03-04\", \"type\": \"expected\", \"ci_hi\": 242636.6875, \"ci_lo\": 203177.796875, \"mean\": 223025.203125}, {\"time\": \"2024-03-11\", \"type\": \"actual\", \"ci_hi\": 234839.328125, \"ci_lo\": 234839.328125, \"mean\": 234839.328125}, {\"time\": \"2024-03-11\", \"type\": \"baseline\", \"ci_hi\": -58927.41796875, \"ci_lo\": -266147.96875, \"mean\": -144786.734375}, {\"time\": \"2024-03-11\", \"type\": \"expected\", \"ci_hi\": 238285.84375, \"ci_lo\": 198008.40625, \"mean\": 218174.1875}, {\"time\": \"2024-03-18\", \"type\": \"actual\", \"ci_hi\": 201742.28125, \"ci_lo\": 201742.28125, \"mean\": 201742.28125}, {\"time\": \"2024-03-18\", \"type\": \"baseline\", \"ci_hi\": -46048.078125, \"ci_lo\": -256555.921875, \"mean\": -134249.25}, {\"time\": \"2024-03-18\", \"type\": \"expected\", \"ci_hi\": 252995.0625, \"ci_lo\": 211724.109375, \"mean\": 232240.171875}, {\"time\": \"2024-03-25\", \"type\": \"actual\", \"ci_hi\": 270904.4375, \"ci_lo\": 270904.4375, \"mean\": 270904.4375}, {\"time\": \"2024-03-25\", \"type\": \"baseline\", \"ci_hi\": -53352.3359375, \"ci_lo\": -266407.96875, \"mean\": -143270.34375}, {\"time\": \"2024-03-25\", \"type\": \"expected\", \"ci_hi\": 262441.46875, \"ci_lo\": 209382.0, \"mean\": 235987.015625}, {\"time\": \"2024-04-01\", \"type\": \"actual\", \"ci_hi\": 242245.953125, \"ci_lo\": 242245.953125, \"mean\": 242245.953125}, {\"time\": \"2024-04-01\", \"type\": \"baseline\", \"ci_hi\": -45359.41796875, \"ci_lo\": -256663.3125, \"mean\": -134030.765625}, {\"time\": \"2024-04-01\", \"type\": \"expected\", \"ci_hi\": 286554.0, \"ci_lo\": 253454.75, \"mean\": 270005.21875}, {\"time\": \"2024-04-08\", \"type\": \"actual\", \"ci_hi\": 234180.546875, \"ci_lo\": 234180.546875, \"mean\": 234180.546875}, {\"time\": \"2024-04-08\", \"type\": \"baseline\", \"ci_hi\": -52202.7421875, \"ci_lo\": -260508.078125, \"mean\": -139910.8125}, {\"time\": \"2024-04-08\", \"type\": \"expected\", \"ci_hi\": 292853.4375, \"ci_lo\": 260212.1875, \"mean\": 276615.09375}, {\"time\": \"2024-04-15\", \"type\": \"actual\", \"ci_hi\": 315525.6875, \"ci_lo\": 315525.6875, \"mean\": 315525.6875}, {\"time\": \"2024-04-15\", \"type\": \"baseline\", \"ci_hi\": -42255.54296875, \"ci_lo\": -257321.640625, \"mean\": -134139.1875}, {\"time\": \"2024-04-15\", \"type\": \"expected\", \"ci_hi\": 321272.21875, \"ci_lo\": 282235.46875, \"mean\": 301816.5625}, {\"time\": \"2024-04-22\", \"type\": \"actual\", \"ci_hi\": 280369.3125, \"ci_lo\": 280369.3125, \"mean\": 280369.3125}, {\"time\": \"2024-04-22\", \"type\": \"baseline\", \"ci_hi\": -45074.6015625, \"ci_lo\": -255591.46875, \"mean\": -134026.6875}, {\"time\": \"2024-04-22\", \"type\": \"expected\", \"ci_hi\": 306558.53125, \"ci_lo\": 274249.875, \"mean\": 290669.71875}, {\"time\": \"2024-04-29\", \"type\": \"actual\", \"ci_hi\": 238781.859375, \"ci_lo\": 238781.859375, \"mean\": 238781.859375}, {\"time\": \"2024-04-29\", \"type\": \"baseline\", \"ci_hi\": -67777.171875, \"ci_lo\": -276381.0, \"mean\": -156478.90625}, {\"time\": \"2024-04-29\", \"type\": \"expected\", \"ci_hi\": 287553.03125, \"ci_lo\": 253809.921875, \"mean\": 270920.8125}, {\"time\": \"2024-05-06\", \"type\": \"actual\", \"ci_hi\": 316955.4375, \"ci_lo\": 316955.4375, \"mean\": 316955.4375}, {\"time\": \"2024-05-06\", \"type\": \"baseline\", \"ci_hi\": -70823.3046875, \"ci_lo\": -293645.40625, \"mean\": -166729.1875}, {\"time\": \"2024-05-06\", \"type\": \"expected\", \"ci_hi\": 298758.8125, \"ci_lo\": 241557.421875, \"mean\": 270145.53125}, {\"time\": \"2024-05-13\", \"type\": \"actual\", \"ci_hi\": 268497.46875, \"ci_lo\": 268497.46875, \"mean\": 268497.46875}, {\"time\": \"2024-05-13\", \"type\": \"baseline\", \"ci_hi\": -69153.3984375, \"ci_lo\": -278553.5625, \"mean\": -158595.375}, {\"time\": \"2024-05-13\", \"type\": \"expected\", \"ci_hi\": 280291.59375, \"ci_lo\": 247630.828125, \"mean\": 264165.34375}, {\"time\": \"2024-05-20\", \"type\": \"actual\", \"ci_hi\": 292030.84375, \"ci_lo\": 292030.84375, \"mean\": 292030.84375}, {\"time\": \"2024-05-20\", \"type\": \"baseline\", \"ci_hi\": -85841.96875, \"ci_lo\": -294708.09375, \"mean\": -175450.96875}, {\"time\": \"2024-05-20\", \"type\": \"expected\", \"ci_hi\": 246355.09375, \"ci_lo\": 211960.8125, \"mean\": 229061.171875}, {\"time\": \"2024-05-27\", \"type\": \"actual\", \"ci_hi\": 281483.90625, \"ci_lo\": 281483.90625, \"mean\": 281483.90625}, {\"time\": \"2024-05-27\", \"type\": \"baseline\", \"ci_hi\": -105735.46875, \"ci_lo\": -320587.71875, \"mean\": -198744.890625}, {\"time\": \"2024-05-27\", \"type\": \"expected\", \"ci_hi\": 232706.875, \"ci_lo\": 176573.71875, \"mean\": 204708.5625}, {\"time\": \"2024-06-03\", \"type\": \"actual\", \"ci_hi\": 225713.4375, \"ci_lo\": 225713.4375, \"mean\": 225713.4375}, {\"time\": \"2024-06-03\", \"type\": \"baseline\", \"ci_hi\": -105760.0625, \"ci_lo\": -315476.1875, \"mean\": -195664.53125}, {\"time\": \"2024-06-03\", \"type\": \"expected\", \"ci_hi\": 221617.28125, \"ci_lo\": 187715.1875, \"mean\": 204670.171875}, {\"time\": \"2024-06-10\", \"type\": \"actual\", \"ci_hi\": 228916.75, \"ci_lo\": 228916.75, \"mean\": 228916.75}, {\"time\": \"2024-06-10\", \"type\": \"baseline\", \"ci_hi\": -115285.4140625, \"ci_lo\": -323622.90625, \"mean\": -203929.359375}, {\"time\": \"2024-06-10\", \"type\": \"expected\", \"ci_hi\": 226620.4375, \"ci_lo\": 191611.0, \"mean\": 209285.5}, {\"time\": \"2024-06-17\", \"type\": \"actual\", \"ci_hi\": 242915.65625, \"ci_lo\": 242915.65625, \"mean\": 242915.65625}, {\"time\": \"2024-06-17\", \"type\": \"baseline\", \"ci_hi\": -116960.2734375, \"ci_lo\": -326546.875, \"mean\": -207060.078125}, {\"time\": \"2024-06-17\", \"type\": \"expected\", \"ci_hi\": 232874.25, \"ci_lo\": 198501.421875, \"mean\": 215732.96875}, {\"time\": \"2024-06-24\", \"type\": \"actual\", \"ci_hi\": 252200.59375, \"ci_lo\": 252200.59375, \"mean\": 252200.59375}, {\"time\": \"2024-06-24\", \"type\": \"baseline\", \"ci_hi\": -110778.3203125, \"ci_lo\": -319608.8125, \"mean\": -200894.90625}, {\"time\": \"2024-06-24\", \"type\": \"expected\", \"ci_hi\": 239083.25, \"ci_lo\": 206492.484375, \"mean\": 222817.8125}, {\"time\": \"2024-07-01\", \"type\": \"actual\", \"ci_hi\": 218650.09375, \"ci_lo\": 218650.09375, \"mean\": 218650.09375}, {\"time\": \"2024-07-01\", \"type\": \"baseline\", \"ci_hi\": -112372.3125, \"ci_lo\": -319114.53125, \"mean\": -200625.5625}, {\"time\": \"2024-07-01\", \"type\": \"expected\", \"ci_hi\": 254123.171875, \"ci_lo\": 219341.046875, \"mean\": 236746.65625}, {\"time\": \"2024-07-08\", \"type\": \"actual\", \"ci_hi\": 235972.9375, \"ci_lo\": 235972.9375, \"mean\": 235972.9375}, {\"time\": \"2024-07-08\", \"type\": \"baseline\", \"ci_hi\": -118332.7265625, \"ci_lo\": -324183.0, \"mean\": -206034.484375}, {\"time\": \"2024-07-08\", \"type\": \"expected\", \"ci_hi\": 230956.1875, \"ci_lo\": 198372.75, \"mean\": 214628.5}, {\"time\": \"2024-07-15\", \"type\": \"actual\", \"ci_hi\": 239699.90625, \"ci_lo\": 239699.90625, \"mean\": 239699.90625}, {\"time\": \"2024-07-15\", \"type\": \"baseline\", \"ci_hi\": -114190.8359375, \"ci_lo\": -320875.90625, \"mean\": -202816.609375}, {\"time\": \"2024-07-15\", \"type\": \"expected\", \"ci_hi\": 243971.296875, \"ci_lo\": 210320.0, \"mean\": 227186.25}, {\"time\": \"2024-07-22\", \"type\": \"actual\", \"ci_hi\": 245438.0, \"ci_lo\": 245438.0, \"mean\": 245438.0}, {\"time\": \"2024-07-22\", \"type\": \"baseline\", \"ci_hi\": -108498.546875, \"ci_lo\": -313690.875, \"mean\": -195901.765625}, {\"time\": \"2024-07-22\", \"type\": \"expected\", \"ci_hi\": 263761.0, \"ci_lo\": 227994.203125, \"mean\": 245813.0625}, {\"time\": \"2024-07-29\", \"type\": \"actual\", \"ci_hi\": 326090.0, \"ci_lo\": 326090.0, \"mean\": 326090.0}, {\"time\": \"2024-07-29\", \"type\": \"baseline\", \"ci_hi\": -107298.3671875, \"ci_lo\": -310160.03125, \"mean\": -193362.625}, {\"time\": \"2024-07-29\", \"type\": \"expected\", \"ci_hi\": 269227.125, \"ci_lo\": 233031.875, \"mean\": 251142.65625}, {\"time\": \"2024-08-05\", \"type\": \"actual\", \"ci_hi\": 238082.046875, \"ci_lo\": 238082.046875, \"mean\": 238082.046875}, {\"time\": \"2024-08-05\", \"type\": \"baseline\", \"ci_hi\": -99481.734375, \"ci_lo\": -304374.59375, \"mean\": -186486.296875}, {\"time\": \"2024-08-05\", \"type\": \"expected\", \"ci_hi\": 261297.734375, \"ci_lo\": 228340.109375, \"mean\": 244825.421875}, {\"time\": \"2024-08-12\", \"type\": \"actual\", \"ci_hi\": 228503.578125, \"ci_lo\": 228503.578125, \"mean\": 228503.578125}, {\"time\": \"2024-08-12\", \"type\": \"baseline\", \"ci_hi\": -95060.640625, \"ci_lo\": -297686.59375, \"mean\": -180107.640625}, {\"time\": \"2024-08-12\", \"type\": \"expected\", \"ci_hi\": 268838.90625, \"ci_lo\": 235601.5625, \"mean\": 252061.078125}, {\"time\": \"2024-08-19\", \"type\": \"actual\", \"ci_hi\": 279974.375, \"ci_lo\": 279974.375, \"mean\": 279974.375}, {\"time\": \"2024-08-19\", \"type\": \"baseline\", \"ci_hi\": -94116.5625, \"ci_lo\": -295243.375, \"mean\": -178374.078125}, {\"time\": \"2024-08-19\", \"type\": \"expected\", \"ci_hi\": 259198.109375, \"ci_lo\": 227000.671875, \"mean\": 242881.171875}, {\"time\": \"2024-08-26\", \"type\": \"actual\", \"ci_hi\": 343277.8125, \"ci_lo\": 343277.8125, \"mean\": 343277.8125}, {\"time\": \"2024-08-26\", \"type\": \"baseline\", \"ci_hi\": -97770.3515625, \"ci_lo\": -296739.65625, \"mean\": -181008.03125}, {\"time\": \"2024-08-26\", \"type\": \"expected\", \"ci_hi\": 246135.203125, \"ci_lo\": 211947.21875, \"mean\": 228934.125}, {\"time\": \"2024-09-02\", \"type\": \"actual\", \"ci_hi\": 251587.03125, \"ci_lo\": 251587.03125, \"mean\": 251587.03125}, {\"time\": \"2024-09-02\", \"type\": \"baseline\", \"ci_hi\": -88370.609375, \"ci_lo\": -290636.40625, \"mean\": -172694.90625}, {\"time\": \"2024-09-02\", \"type\": \"expected\", \"ci_hi\": 253070.375, \"ci_lo\": 218327.5625, \"mean\": 235930.015625}, {\"time\": \"2024-09-09\", \"type\": \"actual\", \"ci_hi\": 239781.96875, \"ci_lo\": 239781.96875, \"mean\": 239781.96875}, {\"time\": \"2024-09-09\", \"type\": \"baseline\", \"ci_hi\": -67831.921875, \"ci_lo\": -270058.25, \"mean\": -151631.125}, {\"time\": \"2024-09-09\", \"type\": \"expected\", \"ci_hi\": 271092.65625, \"ci_lo\": 236525.4375, \"mean\": 254067.171875}, {\"time\": \"2024-09-16\", \"type\": \"actual\", \"ci_hi\": 262028.078125, \"ci_lo\": 262028.078125, \"mean\": 262028.078125}, {\"time\": \"2024-09-16\", \"type\": \"baseline\", \"ci_hi\": -51027.578125, \"ci_lo\": -251770.6875, \"mean\": -133960.015625}, {\"time\": \"2024-09-16\", \"type\": \"expected\", \"ci_hi\": 304095.53125, \"ci_lo\": 266106.9375, \"mean\": 285195.15625}, {\"time\": \"2024-09-23\", \"type\": \"actual\", \"ci_hi\": 184156.15625, \"ci_lo\": 184156.15625, \"mean\": 184156.15625}, {\"time\": \"2024-09-23\", \"type\": \"baseline\", \"ci_hi\": -41639.546875, \"ci_lo\": -240359.4375, \"mean\": -123579.5078125}, {\"time\": \"2024-09-23\", \"type\": \"expected\", \"ci_hi\": 321084.59375, \"ci_lo\": 280774.71875, \"mean\": 300951.28125}, {\"time\": \"2024-09-30\", \"type\": \"actual\", \"ci_hi\": 333192.03125, \"ci_lo\": 333192.03125, \"mean\": 333192.03125}, {\"time\": \"2024-09-30\", \"type\": \"baseline\", \"ci_hi\": -34863.3046875, \"ci_lo\": -232833.5, \"mean\": -116191.7734375}, {\"time\": \"2024-09-30\", \"type\": \"expected\", \"ci_hi\": 363331.59375, \"ci_lo\": 310974.1875, \"mean\": 336890.125}, {\"time\": \"2024-10-07\", \"type\": \"actual\", \"ci_hi\": 307816.15625, \"ci_lo\": 307816.15625, \"mean\": 307816.15625}, {\"time\": \"2024-10-07\", \"type\": \"baseline\", \"ci_hi\": -19195.443359375, \"ci_lo\": -218664.625, \"mean\": -101455.59375}, {\"time\": \"2024-10-07\", \"type\": \"expected\", \"ci_hi\": 381722.84375, \"ci_lo\": 329733.1875, \"mean\": 356008.4375}, {\"time\": \"2024-10-14\", \"type\": \"actual\", \"ci_hi\": 323692.1875, \"ci_lo\": 323692.1875, \"mean\": 323692.1875}, {\"time\": \"2024-10-14\", \"type\": \"baseline\", \"ci_hi\": -14479.1328125, \"ci_lo\": -210285.734375, \"mean\": -94862.8125}, {\"time\": \"2024-10-14\", \"type\": \"expected\", \"ci_hi\": 379356.6875, \"ci_lo\": 327692.8125, \"mean\": 353668.28125}, {\"time\": \"2024-10-21\", \"type\": \"actual\", \"ci_hi\": 375699.53125, \"ci_lo\": 375699.53125, \"mean\": 375699.53125}, {\"time\": \"2024-10-21\", \"type\": \"baseline\", \"ci_hi\": -12975.5205078125, \"ci_lo\": -208506.359375, \"mean\": -93060.1015625}, {\"time\": \"2024-10-21\", \"type\": \"expected\", \"ci_hi\": 358450.0625, \"ci_lo\": 312967.28125, \"mean\": 335755.28125}, {\"time\": \"2024-10-28\", \"type\": \"actual\", \"ci_hi\": 371307.90625, \"ci_lo\": 371307.90625, \"mean\": 371307.90625}, {\"time\": \"2024-10-28\", \"type\": \"baseline\", \"ci_hi\": -16047.9423828125, \"ci_lo\": -209500.96875, \"mean\": -94774.4296875}, {\"time\": \"2024-10-28\", \"type\": \"expected\", \"ci_hi\": 375139.25, \"ci_lo\": 321818.40625, \"mean\": 348339.21875}, {\"time\": \"2024-11-04\", \"type\": \"actual\", \"ci_hi\": 340645.34375, \"ci_lo\": 340645.34375, \"mean\": 340645.34375}, {\"time\": \"2024-11-04\", \"type\": \"baseline\", \"ci_hi\": -10442.744140625, \"ci_lo\": -206485.546875, \"mean\": -90006.4921875}, {\"time\": \"2024-11-04\", \"type\": \"expected\", \"ci_hi\": 353639.84375, \"ci_lo\": 307921.3125, \"mean\": 330603.125}, {\"time\": \"2024-11-11\", \"type\": \"actual\", \"ci_hi\": 389449.5625, \"ci_lo\": 389449.5625, \"mean\": 389449.5625}, {\"time\": \"2024-11-11\", \"type\": \"baseline\", \"ci_hi\": -11252.02734375, \"ci_lo\": -204824.890625, \"mean\": -89622.40625}, {\"time\": \"2024-11-11\", \"type\": \"expected\", \"ci_hi\": 324435.875, \"ci_lo\": 280212.59375, \"mean\": 301856.9375}, {\"time\": \"2024-11-18\", \"type\": \"actual\", \"ci_hi\": 378821.34375, \"ci_lo\": 378821.34375, \"mean\": 378821.34375}, {\"time\": \"2024-11-18\", \"type\": \"baseline\", \"ci_hi\": -18760.26953125, \"ci_lo\": -212776.53125, \"mean\": -96754.7109375}, {\"time\": \"2024-11-18\", \"type\": \"expected\", \"ci_hi\": 303191.0, \"ci_lo\": 263712.375, \"mean\": 283096.78125}, {\"time\": \"2024-11-25\", \"type\": \"actual\", \"ci_hi\": 444492.5625, \"ci_lo\": 444492.5625, \"mean\": 444492.5625}, {\"time\": \"2024-11-25\", \"type\": \"baseline\", \"ci_hi\": -24856.40234375, \"ci_lo\": -219103.546875, \"mean\": -102645.6328125}, {\"time\": \"2024-11-25\", \"type\": \"expected\", \"ci_hi\": 281722.75, \"ci_lo\": 241939.796875, \"mean\": 261379.8125}, {\"time\": \"2024-12-02\", \"type\": \"actual\", \"ci_hi\": 326803.40625, \"ci_lo\": 326803.40625, \"mean\": 326803.40625}, {\"time\": \"2024-12-02\", \"type\": \"baseline\", \"ci_hi\": -27055.8984375, \"ci_lo\": -222363.234375, \"mean\": -105079.3671875}, {\"time\": \"2024-12-02\", \"type\": \"expected\", \"ci_hi\": 302544.84375, \"ci_lo\": 260963.34375, \"mean\": 281723.125}, {\"time\": \"2024-12-09\", \"type\": \"actual\", \"ci_hi\": 280422.8125, \"ci_lo\": 280422.8125, \"mean\": 280422.8125}, {\"time\": \"2024-12-09\", \"type\": \"baseline\", \"ci_hi\": -24747.056640625, \"ci_lo\": -221441.46875, \"mean\": -103525.7421875}, {\"time\": \"2024-12-09\", \"type\": \"expected\", \"ci_hi\": 305631.5, \"ci_lo\": 264077.5625, \"mean\": 284730.5}, {\"time\": \"2024-12-16\", \"type\": \"actual\", \"ci_hi\": 136153.5, \"ci_lo\": 136153.5, \"mean\": 136153.5}, {\"time\": \"2024-12-16\", \"type\": \"baseline\", \"ci_hi\": -22968.8984375, \"ci_lo\": -220141.640625, \"mean\": -101848.5859375}, {\"time\": \"2024-12-16\", \"type\": \"expected\", \"ci_hi\": 266655.09375, \"ci_lo\": 219590.234375, \"mean\": 242689.640625}, {\"time\": \"2024-12-23\", \"type\": \"actual\", \"ci_hi\": 115912.8046875, \"ci_lo\": 115912.8046875, \"mean\": 115912.8046875}, {\"time\": \"2024-12-23\", \"type\": \"baseline\", \"ci_hi\": -31718.998046875, \"ci_lo\": -234790.375, \"mean\": -115061.234375}, {\"time\": \"2024-12-23\", \"type\": \"expected\", \"ci_hi\": 248026.390625, \"ci_lo\": 183186.09375, \"mean\": 215370.75}, {\"time\": \"2024-12-30\", \"type\": \"actual\", \"ci_hi\": 206465.921875, \"ci_lo\": 206465.921875, \"mean\": 206465.921875}, {\"time\": \"2024-12-30\", \"type\": \"baseline\", \"ci_hi\": -16229.345703125, \"ci_lo\": -224570.15625, \"mean\": -102759.6640625}, {\"time\": \"2024-12-30\", \"type\": \"expected\", \"ci_hi\": 282377.0625, \"ci_lo\": 219050.828125, \"mean\": 250381.71875}, {\"time\": \"2025-01-06\", \"type\": \"actual\", \"ci_hi\": 231850.421875, \"ci_lo\": 231850.421875, \"mean\": 231850.421875}, {\"time\": \"2025-01-06\", \"type\": \"baseline\", \"ci_hi\": 2183.430908203125, \"ci_lo\": -196680.0, \"mean\": -77997.9375}, {\"time\": \"2025-01-06\", \"type\": \"expected\", \"ci_hi\": 293224.625, \"ci_lo\": 258717.59375, \"mean\": 275531.96875}, {\"time\": \"2025-01-13\", \"type\": \"actual\", \"ci_hi\": 307895.96875, \"ci_lo\": 307895.96875, \"mean\": 307895.96875}, {\"time\": \"2025-01-13\", \"type\": \"baseline\", \"ci_hi\": 5362.21337890625, \"ci_lo\": -194177.59375, \"mean\": -75479.203125}, {\"time\": \"2025-01-13\", \"type\": \"expected\", \"ci_hi\": 293043.375, \"ci_lo\": 258569.9375, \"mean\": 275341.78125}, {\"time\": \"2025-01-20\", \"type\": \"actual\", \"ci_hi\": 429822.21875, \"ci_lo\": 429822.21875, \"mean\": 429822.21875}, {\"time\": \"2025-01-20\", \"type\": \"baseline\", \"ci_hi\": 19175.328125, \"ci_lo\": -184421.703125, \"mean\": -64443.7421875}, {\"time\": \"2025-01-20\", \"type\": \"expected\", \"ci_hi\": 324243.375, \"ci_lo\": 287077.125, \"mean\": 305649.75}, {\"time\": \"2025-01-27\", \"type\": \"actual\", \"ci_hi\": 289156.03125, \"ci_lo\": 289156.03125, \"mean\": 289156.03125}, {\"time\": \"2025-01-27\", \"type\": \"baseline\", \"ci_hi\": 26210.720703125, \"ci_lo\": -176041.8125, \"mean\": -56669.34375}, {\"time\": \"2025-01-27\", \"type\": \"expected\", \"ci_hi\": 292867.1875, \"ci_lo\": 246740.09375, \"mean\": 269572.4375}, {\"time\": \"2025-02-03\", \"type\": \"actual\", \"ci_hi\": 338967.40625, \"ci_lo\": 338967.40625, \"mean\": 338967.40625}, {\"time\": \"2025-02-03\", \"type\": \"baseline\", \"ci_hi\": 30417.72265625, \"ci_lo\": -174857.484375, \"mean\": -54133.53515625}, {\"time\": \"2025-02-03\", \"type\": \"expected\", \"ci_hi\": 290965.65625, \"ci_lo\": 249152.71875, \"mean\": 269632.5}, {\"time\": \"2025-02-10\", \"type\": \"actual\", \"ci_hi\": 258915.125, \"ci_lo\": 258915.125, \"mean\": 258915.125}, {\"time\": \"2025-02-10\", \"type\": \"baseline\", \"ci_hi\": 30603.720703125, \"ci_lo\": -173835.15625, \"mean\": -53835.63671875}, {\"time\": \"2025-02-10\", \"type\": \"expected\", \"ci_hi\": 306049.875, \"ci_lo\": 266977.25, \"mean\": 286459.28125}, {\"time\": \"2025-02-17\", \"type\": \"actual\", \"ci_hi\": 277979.78125, \"ci_lo\": 277979.78125, \"mean\": 277979.78125}, {\"time\": \"2025-02-17\", \"type\": \"baseline\", \"ci_hi\": 41864.453125, \"ci_lo\": -168027.9375, \"mean\": -45958.9609375}, {\"time\": \"2025-02-17\", \"type\": \"expected\", \"ci_hi\": 313629.75, \"ci_lo\": 265979.25, \"mean\": 289862.4375}, {\"time\": \"2025-02-24\", \"type\": \"actual\", \"ci_hi\": 329035.15625, \"ci_lo\": 329035.15625, \"mean\": 329035.15625}, {\"time\": \"2025-02-24\", \"type\": \"baseline\", \"ci_hi\": 41841.35546875, \"ci_lo\": -165233.890625, \"mean\": -44954.96875}, {\"time\": \"2025-02-24\", \"type\": \"expected\", \"ci_hi\": 337099.84375, \"ci_lo\": 291449.84375, \"mean\": 314206.40625}, {\"time\": \"2025-03-03\", \"type\": \"actual\", \"ci_hi\": 409456.34375, \"ci_lo\": 409456.34375, \"mean\": 409456.34375}, {\"time\": \"2025-03-03\", \"type\": \"baseline\", \"ci_hi\": 42301.32421875, \"ci_lo\": -168554.03125, \"mean\": -46722.4453125}, {\"time\": \"2025-03-03\", \"type\": \"expected\", \"ci_hi\": 364511.59375, \"ci_lo\": 317324.625, \"mean\": 341100.96875}, {\"time\": \"2025-03-10\", \"type\": \"actual\", \"ci_hi\": 400494.5625, \"ci_lo\": 400494.5625, \"mean\": 400494.5625}, {\"time\": \"2025-03-10\", \"type\": \"baseline\", \"ci_hi\": 39370.8515625, \"ci_lo\": -170545.359375, \"mean\": -49126.80078125}, {\"time\": \"2025-03-10\", \"type\": \"expected\", \"ci_hi\": 394582.1875, \"ci_lo\": 346935.21875, \"mean\": 370767.46875}, {\"time\": \"2025-03-17\", \"type\": \"actual\", \"ci_hi\": 411173.8125, \"ci_lo\": 411173.8125, \"mean\": 411173.8125}, {\"time\": \"2025-03-17\", \"type\": \"baseline\", \"ci_hi\": 47101.25, \"ci_lo\": -168935.921875, \"mean\": -45097.03515625}, {\"time\": \"2025-03-17\", \"type\": \"expected\", \"ci_hi\": 420409.09375, \"ci_lo\": 370115.53125, \"mean\": 394871.8125}, {\"time\": \"2025-03-24\", \"type\": \"actual\", \"ci_hi\": 422040.5, \"ci_lo\": 422040.5, \"mean\": 422040.5}, {\"time\": \"2025-03-24\", \"type\": \"baseline\", \"ci_hi\": 42826.8125, \"ci_lo\": -168920.265625, \"mean\": -48245.1171875}, {\"time\": \"2025-03-24\", \"type\": \"expected\", \"ci_hi\": 425452.125, \"ci_lo\": 374535.9375, \"mean\": 400007.59375}, {\"time\": \"2025-03-31\", \"type\": \"actual\", \"ci_hi\": 436120.75, \"ci_lo\": 436120.75, \"mean\": 436120.75}, {\"time\": \"2025-03-31\", \"type\": \"baseline\", \"ci_hi\": 45825.42578125, \"ci_lo\": -172469.1875, \"mean\": -47799.97265625}, {\"time\": \"2025-03-31\", \"type\": \"expected\", \"ci_hi\": 460003.59375, \"ci_lo\": 403388.15625, \"mean\": 431658.1875}, {\"time\": \"2025-04-07\", \"type\": \"actual\", \"ci_hi\": 399795.875, \"ci_lo\": 399795.875, \"mean\": 399795.875}, {\"time\": \"2025-04-07\", \"type\": \"baseline\", \"ci_hi\": 46298.69140625, \"ci_lo\": -169214.828125, \"mean\": -47312.8671875}, {\"time\": \"2025-04-07\", \"type\": \"expected\", \"ci_hi\": 462253.0625, \"ci_lo\": 404738.03125, \"mean\": 433496.15625}, {\"time\": \"2025-04-14\", \"type\": \"actual\", \"ci_hi\": 371545.5, \"ci_lo\": 371545.5, \"mean\": 371545.5}, {\"time\": \"2025-04-14\", \"type\": \"baseline\", \"ci_hi\": 17480.71484375, \"ci_lo\": -201321.8125, \"mean\": -77273.8203125}, {\"time\": \"2025-04-14\", \"type\": \"expected\", \"ci_hi\": 416457.34375, \"ci_lo\": 347374.59375, \"mean\": 382066.75}, {\"time\": \"2025-04-21\", \"type\": \"actual\", \"ci_hi\": 385647.90625, \"ci_lo\": 385647.90625, \"mean\": 385647.90625}, {\"time\": \"2025-04-21\", \"type\": \"baseline\", \"ci_hi\": 26010.607421875, \"ci_lo\": -193753.15625, \"mean\": -69367.296875}, {\"time\": \"2025-04-21\", \"type\": \"expected\", \"ci_hi\": 431941.0, \"ci_lo\": 368231.125, \"mean\": 398541.53125}, {\"time\": \"2025-04-28\", \"type\": \"actual\", \"ci_hi\": 174361.890625, \"ci_lo\": 174361.890625, \"mean\": 174361.890625}, {\"time\": \"2025-04-28\", \"type\": \"baseline\", \"ci_hi\": -40382.8515625, \"ci_lo\": -267684.125, \"mean\": -142299.890625}, {\"time\": \"2025-04-28\", \"type\": \"expected\", \"ci_hi\": 264703.09375, \"ci_lo\": 140266.28125, \"mean\": 202795.90625}]}}, {\"mode\": \"vega-lite\"});\n",
       "</script>"
      ],
      "text/plain": [
       "alt.LayerChart(...)"
      ]
     },
     "execution_count": 6,
     "metadata": {},
     "output_type": "execute_result"
    }
   ],
   "source": [
    "model_fit = visualizer.ModelFit(mmm)\n",
    "model_fit.plot_model_fit()"
   ]
  },
  {
   "cell_type": "code",
   "execution_count": 7,
   "id": "e8786f87",
   "metadata": {},
   "outputs": [],
   "source": [
    "mmm_summarizer = summarizer.Summarizer(mmm)"
   ]
  },
  {
   "cell_type": "code",
   "execution_count": 8,
   "id": "fa44daa3",
   "metadata": {},
   "outputs": [
    {
     "name": "stderr",
     "output_type": "stream",
     "text": [
      "c:\\Users\\GagandeepBajwa\\Documents\\impact_V2\\venv\\Lib\\site-packages\\meridian\\analysis\\analyzer.py:540: UserWarning: The `aggregate_geos` argument is ignored in the national model. It will be reset to `True`.\n",
      "  warnings.warn(\n",
      "c:\\Users\\GagandeepBajwa\\Documents\\impact_V2\\venv\\Lib\\site-packages\\meridian\\analysis\\analyzer.py:540: UserWarning: The `aggregate_geos` argument is ignored in the national model. It will be reset to `True`.\n",
      "  warnings.warn(\n",
      "c:\\Users\\GagandeepBajwa\\Documents\\impact_V2\\venv\\Lib\\site-packages\\meridian\\analysis\\analyzer.py:3063: UserWarning: Effectiveness is not reported because it does not have a clear interpretation by time period.\n",
      "  warnings.warn(\n",
      "c:\\Users\\GagandeepBajwa\\Documents\\impact_V2\\venv\\Lib\\site-packages\\meridian\\analysis\\analyzer.py:925: UserWarning: Setting `use_kpi=True` has no effect when `kpi_type=REVENUE` since in this case, KPI is equal to revenue.\n",
      "  warnings.warn(\n",
      "c:\\Users\\GagandeepBajwa\\Documents\\impact_V2\\venv\\Lib\\site-packages\\tensorflow\\python\\autograph\\impl\\api.py:371: UserWarning: Setting `use_kpi=True` has no effect when `kpi_type=REVENUE` since in this case, KPI is equal to revenue.\n",
      "  return py_builtins.overload_of(f)(*args)\n"
     ]
    }
   ],
   "source": [
    "import os\n",
    "filepath = os.path.join(os.getcwd())\n",
    "start_date = '2023-03-27'\n",
    "end_date = '2025-04-28' # Changed end_date to a valid date\n",
    "mmm_summarizer.output_model_results_summary('summary_output_charlesivy_with_organic_lag_v4.html', filepath, start_date, end_date)"
   ]
  },
  {
   "cell_type": "code",
   "execution_count": 9,
   "id": "1d9a7943",
   "metadata": {},
   "outputs": [],
   "source": [
    "with open('summary_output_charlesivy_with_organic_lag_v4.html', 'r', encoding='utf-8') as file:\n",
    "    report_content = file.read()\n",
    "\n",
    "report_content = report_content.replace('$', '£')\n",
    "\n",
    "with open('summary_output_charlesivy_with_organic_lag_v4.html', 'w', encoding='utf-8') as file:\n",
    "    file.write(report_content)"
   ]
  },
  {
   "cell_type": "code",
   "execution_count": 10,
   "id": "98cc2dc3",
   "metadata": {},
   "outputs": [
    {
     "name": "stdout",
     "output_type": "stream",
     "text": [
      "CPU times: total: 5min 5s\n",
      "Wall time: 3min 37s\n"
     ]
    }
   ],
   "source": [
    "%%time\n",
    "budget_optimizer = optimizer.BudgetOptimizer(mmm)\n",
    "optimization_results = budget_optimizer.optimize()"
   ]
  },
  {
   "cell_type": "code",
   "execution_count": 11,
   "id": "a7810cdb",
   "metadata": {},
   "outputs": [],
   "source": [
    "optimization_results.output_optimization_summary('optimization_output_charlesivy_v4.html', filepath)\n",
    "with open('optimization_output_charlesivy_v4.html', 'r', encoding='utf-8') as file:\n",
    "    report_content = file.read()\n",
    "\n",
    "report_content = report_content.replace('$', '£')\n",
    "\n",
    "with open('optimization_output_charlesivy_v4.html', 'w', encoding='utf-8') as file:\n",
    "    file.write(report_content)"
   ]
  },
  {
   "cell_type": "code",
   "execution_count": 12,
   "metadata": {},
   "outputs": [],
   "source": [
    "save_path=os.path.join(os.getcwd(),'saved_mmm_charlesivy_v4.pkl')\n",
    "model.save_mmm(mmm, save_path)"
   ]
  },
  {
   "cell_type": "code",
   "execution_count": 14,
   "id": "de1fac10",
   "metadata": {},
   "outputs": [
    {
     "data": {
      "text/plain": [
       "<module 'meridian.model.prior_distribution' from 'c:\\\\Users\\\\GagandeepBajwa\\\\Documents\\\\impact_V2\\\\venv\\\\Lib\\\\site-packages\\\\meridian\\\\model\\\\prior_distribution.py'>"
      ]
     },
     "execution_count": 14,
     "metadata": {},
     "output_type": "execute_result"
    }
   ],
   "source": [
    "model.prior_distribution"
   ]
  },
  {
   "cell_type": "code",
   "execution_count": 16,
   "id": "cbfefeb4",
   "metadata": {},
   "outputs": [
    {
     "name": "stdout",
     "output_type": "stream",
     "text": [
      "429\n",
      "You have exceeded the maximum number of daily result records for your account. \n"
     ]
    },
    {
     "ename": "JSONDecodeError",
     "evalue": "Expecting value: line 1 column 1 (char 0)",
     "output_type": "error",
     "traceback": [
      "\u001b[31m---------------------------------------------------------------------------\u001b[39m",
      "\u001b[31mJSONDecodeError\u001b[39m                           Traceback (most recent call last)",
      "\u001b[36mFile \u001b[39m\u001b[32mc:\\Users\\GagandeepBajwa\\Documents\\impact_V2\\venv\\Lib\\site-packages\\requests\\models.py:974\u001b[39m, in \u001b[36mResponse.json\u001b[39m\u001b[34m(self, **kwargs)\u001b[39m\n\u001b[32m    973\u001b[39m \u001b[38;5;28;01mtry\u001b[39;00m:\n\u001b[32m--> \u001b[39m\u001b[32m974\u001b[39m     \u001b[38;5;28;01mreturn\u001b[39;00m \u001b[43mcomplexjson\u001b[49m\u001b[43m.\u001b[49m\u001b[43mloads\u001b[49m\u001b[43m(\u001b[49m\u001b[38;5;28;43mself\u001b[39;49m\u001b[43m.\u001b[49m\u001b[43mtext\u001b[49m\u001b[43m,\u001b[49m\u001b[43m \u001b[49m\u001b[43m*\u001b[49m\u001b[43m*\u001b[49m\u001b[43mkwargs\u001b[49m\u001b[43m)\u001b[49m\n\u001b[32m    975\u001b[39m \u001b[38;5;28;01mexcept\u001b[39;00m JSONDecodeError \u001b[38;5;28;01mas\u001b[39;00m e:\n\u001b[32m    976\u001b[39m     \u001b[38;5;66;03m# Catch JSON-related errors and raise as requests.JSONDecodeError\u001b[39;00m\n\u001b[32m    977\u001b[39m     \u001b[38;5;66;03m# This aliases json.JSONDecodeError and simplejson.JSONDecodeError\u001b[39;00m\n",
      "\u001b[36mFile \u001b[39m\u001b[32mc:\\Users\\GagandeepBajwa\\Documents\\impact_V2\\venv\\Lib\\json\\__init__.py:346\u001b[39m, in \u001b[36mloads\u001b[39m\u001b[34m(s, cls, object_hook, parse_float, parse_int, parse_constant, object_pairs_hook, **kw)\u001b[39m\n\u001b[32m    343\u001b[39m \u001b[38;5;28;01mif\u001b[39;00m (\u001b[38;5;28mcls\u001b[39m \u001b[38;5;129;01mis\u001b[39;00m \u001b[38;5;28;01mNone\u001b[39;00m \u001b[38;5;129;01mand\u001b[39;00m object_hook \u001b[38;5;129;01mis\u001b[39;00m \u001b[38;5;28;01mNone\u001b[39;00m \u001b[38;5;129;01mand\u001b[39;00m\n\u001b[32m    344\u001b[39m         parse_int \u001b[38;5;129;01mis\u001b[39;00m \u001b[38;5;28;01mNone\u001b[39;00m \u001b[38;5;129;01mand\u001b[39;00m parse_float \u001b[38;5;129;01mis\u001b[39;00m \u001b[38;5;28;01mNone\u001b[39;00m \u001b[38;5;129;01mand\u001b[39;00m\n\u001b[32m    345\u001b[39m         parse_constant \u001b[38;5;129;01mis\u001b[39;00m \u001b[38;5;28;01mNone\u001b[39;00m \u001b[38;5;129;01mand\u001b[39;00m object_pairs_hook \u001b[38;5;129;01mis\u001b[39;00m \u001b[38;5;28;01mNone\u001b[39;00m \u001b[38;5;129;01mand\u001b[39;00m \u001b[38;5;129;01mnot\u001b[39;00m kw):\n\u001b[32m--> \u001b[39m\u001b[32m346\u001b[39m     \u001b[38;5;28;01mreturn\u001b[39;00m \u001b[43m_default_decoder\u001b[49m\u001b[43m.\u001b[49m\u001b[43mdecode\u001b[49m\u001b[43m(\u001b[49m\u001b[43ms\u001b[49m\u001b[43m)\u001b[49m\n\u001b[32m    347\u001b[39m \u001b[38;5;28;01mif\u001b[39;00m \u001b[38;5;28mcls\u001b[39m \u001b[38;5;129;01mis\u001b[39;00m \u001b[38;5;28;01mNone\u001b[39;00m:\n",
      "\u001b[36mFile \u001b[39m\u001b[32mc:\\Users\\GagandeepBajwa\\Documents\\impact_V2\\venv\\Lib\\json\\decoder.py:337\u001b[39m, in \u001b[36mJSONDecoder.decode\u001b[39m\u001b[34m(self, s, _w)\u001b[39m\n\u001b[32m    333\u001b[39m \u001b[38;5;250m\u001b[39m\u001b[33;03m\"\"\"Return the Python representation of ``s`` (a ``str`` instance\u001b[39;00m\n\u001b[32m    334\u001b[39m \u001b[33;03mcontaining a JSON document).\u001b[39;00m\n\u001b[32m    335\u001b[39m \n\u001b[32m    336\u001b[39m \u001b[33;03m\"\"\"\u001b[39;00m\n\u001b[32m--> \u001b[39m\u001b[32m337\u001b[39m obj, end = \u001b[38;5;28;43mself\u001b[39;49m\u001b[43m.\u001b[49m\u001b[43mraw_decode\u001b[49m\u001b[43m(\u001b[49m\u001b[43ms\u001b[49m\u001b[43m,\u001b[49m\u001b[43m \u001b[49m\u001b[43midx\u001b[49m\u001b[43m=\u001b[49m\u001b[43m_w\u001b[49m\u001b[43m(\u001b[49m\u001b[43ms\u001b[49m\u001b[43m,\u001b[49m\u001b[43m \u001b[49m\u001b[32;43m0\u001b[39;49m\u001b[43m)\u001b[49m\u001b[43m.\u001b[49m\u001b[43mend\u001b[49m\u001b[43m(\u001b[49m\u001b[43m)\u001b[49m\u001b[43m)\u001b[49m\n\u001b[32m    338\u001b[39m end = _w(s, end).end()\n",
      "\u001b[36mFile \u001b[39m\u001b[32mc:\\Users\\GagandeepBajwa\\Documents\\impact_V2\\venv\\Lib\\json\\decoder.py:355\u001b[39m, in \u001b[36mJSONDecoder.raw_decode\u001b[39m\u001b[34m(self, s, idx)\u001b[39m\n\u001b[32m    354\u001b[39m \u001b[38;5;28;01mexcept\u001b[39;00m \u001b[38;5;167;01mStopIteration\u001b[39;00m \u001b[38;5;28;01mas\u001b[39;00m err:\n\u001b[32m--> \u001b[39m\u001b[32m355\u001b[39m     \u001b[38;5;28;01mraise\u001b[39;00m JSONDecodeError(\u001b[33m\"\u001b[39m\u001b[33mExpecting value\u001b[39m\u001b[33m\"\u001b[39m, s, err.value) \u001b[38;5;28;01mfrom\u001b[39;00m\u001b[38;5;250m \u001b[39m\u001b[38;5;28;01mNone\u001b[39;00m\n\u001b[32m    356\u001b[39m \u001b[38;5;28;01mreturn\u001b[39;00m obj, end\n",
      "\u001b[31mJSONDecodeError\u001b[39m: Expecting value: line 1 column 1 (char 0)",
      "\nDuring handling of the above exception, another exception occurred:\n",
      "\u001b[31mJSONDecodeError\u001b[39m                           Traceback (most recent call last)",
      "\u001b[36mCell\u001b[39m\u001b[36m \u001b[39m\u001b[32mIn[16]\u001b[39m\u001b[32m, line 18\u001b[39m\n\u001b[32m     15\u001b[39m \u001b[38;5;28mprint\u001b[39m(response.status_code)\n\u001b[32m     16\u001b[39m \u001b[38;5;28mprint\u001b[39m(response.text)\n\u001b[32m---> \u001b[39m\u001b[32m18\u001b[39m data = \u001b[43mresponse\u001b[49m\u001b[43m.\u001b[49m\u001b[43mjson\u001b[49m\u001b[43m(\u001b[49m\u001b[43m)\u001b[49m\n\u001b[32m     20\u001b[39m \u001b[38;5;66;03m# Extract daily data\u001b[39;00m\n\u001b[32m     21\u001b[39m daily_data = pd.DataFrame(data[\u001b[33m'\u001b[39m\u001b[33mdays\u001b[39m\u001b[33m'\u001b[39m])\n",
      "\u001b[36mFile \u001b[39m\u001b[32mc:\\Users\\GagandeepBajwa\\Documents\\impact_V2\\venv\\Lib\\site-packages\\requests\\models.py:978\u001b[39m, in \u001b[36mResponse.json\u001b[39m\u001b[34m(self, **kwargs)\u001b[39m\n\u001b[32m    974\u001b[39m     \u001b[38;5;28;01mreturn\u001b[39;00m complexjson.loads(\u001b[38;5;28mself\u001b[39m.text, **kwargs)\n\u001b[32m    975\u001b[39m \u001b[38;5;28;01mexcept\u001b[39;00m JSONDecodeError \u001b[38;5;28;01mas\u001b[39;00m e:\n\u001b[32m    976\u001b[39m     \u001b[38;5;66;03m# Catch JSON-related errors and raise as requests.JSONDecodeError\u001b[39;00m\n\u001b[32m    977\u001b[39m     \u001b[38;5;66;03m# This aliases json.JSONDecodeError and simplejson.JSONDecodeError\u001b[39;00m\n\u001b[32m--> \u001b[39m\u001b[32m978\u001b[39m     \u001b[38;5;28;01mraise\u001b[39;00m RequestsJSONDecodeError(e.msg, e.doc, e.pos)\n",
      "\u001b[31mJSONDecodeError\u001b[39m: Expecting value: line 1 column 1 (char 0)"
     ]
    }
   ],
   "source": [
    "import requests\n",
    "import pandas as pd\n",
    "\n",
    "# Set your API key here\n",
    "API_KEY = '9HLPFRULYNU5ZDAHYGRAMQ9QE'\n",
    "LOCATION = 'United Kingdom'\n",
    "START_DATE = '2023-03-27'\n",
    "END_DATE = '2025-05-05'\n",
    "\n",
    "# Build the API URL\n",
    "url = f'https://weather.visualcrossing.com/VisualCrossingWebServices/rest/services/timeline/{LOCATION}/{START_DATE}/{END_DATE}?unitGroup=metric&key={API_KEY}&include=days'\n",
    "\n",
    "# Make the request\n",
    "response = requests.get(url)\n",
    "print(response.status_code)\n",
    "print(response.text)\n",
    "\n",
    "data = response.json()\n",
    "\n",
    "# Extract daily data\n",
    "daily_data = pd.DataFrame(data['days'])\n",
    "daily_data['datetime'] = pd.to_datetime(daily_data['datetime'])\n",
    "\n",
    "# Add a \"week start\" column\n",
    "daily_data['week_start'] = daily_data['datetime'] - pd.to_timedelta(daily_data['datetime'].dt.dayofweek, unit='d')\n",
    "\n",
    "# Aggregate by week\n",
    "weekly_weather = daily_data.groupby('week_start').agg({\n",
    "    'temp': 'mean',\n",
    "    'precip': 'sum'\n",
    "}).reset_index()\n",
    "\n",
    "# Rename columns\n",
    "weekly_weather.columns = ['Date', 'avg_temp', 'rain_mm']\n",
    "\n",
    "# Display sample\n",
    "print(weekly_weather.head())\n"
   ]
  },
  {
   "cell_type": "code",
   "execution_count": null,
   "id": "be6afc7a",
   "metadata": {},
   "outputs": [],
   "source": []
  }
 ],
 "metadata": {
  "kernelspec": {
   "display_name": "Python 3",
   "language": "python",
   "name": "python3"
  },
  "language_info": {
   "codemirror_mode": {
    "name": "ipython",
    "version": 3
   },
   "file_extension": ".py",
   "mimetype": "text/x-python",
   "name": "python",
   "nbconvert_exporter": "python",
   "pygments_lexer": "ipython3",
   "version": "3.11.11"
  }
 },
 "nbformat": 4,
 "nbformat_minor": 5
}
